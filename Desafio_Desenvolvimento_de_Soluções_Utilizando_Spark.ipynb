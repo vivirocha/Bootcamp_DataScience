{
  "nbformat": 4,
  "nbformat_minor": 0,
  "metadata": {
    "colab": {
      "name": "Desafio_Desenvolvimento de Soluções Utilizando Spark.ipynb",
      "provenance": [],
      "authorship_tag": "ABX9TyPxFgFlz1/CATLCLbhXYacT",
      "include_colab_link": true
    },
    "kernelspec": {
      "name": "python3",
      "display_name": "Python 3"
    },
    "language_info": {
      "name": "python"
    }
  },
  "cells": [
    {
      "cell_type": "markdown",
      "metadata": {
        "id": "view-in-github",
        "colab_type": "text"
      },
      "source": [
        "<a href=\"https://colab.research.google.com/github/vivirocha/Bootcamp_DataScience/blob/main/Desafio_Desenvolvimento_de_Solu%C3%A7%C3%B5es_Utilizando_Spark.ipynb\" target=\"_parent\"><img src=\"https://colab.research.google.com/assets/colab-badge.svg\" alt=\"Open In Colab\"/></a>"
      ]
    },
    {
      "cell_type": "markdown",
      "source": [
        "**Bootcamp Cientista de Dados - IGTI**\n",
        "\n",
        "Desafio - Módulo 2\n",
        "\n",
        "*Desenvolvendo Soluções Utilizando Apache Spark*"
      ],
      "metadata": {
        "id": "Z022aLb5bJ1H"
      }
    },
    {
      "cell_type": "markdown",
      "source": [
        "**Enunciado** <br>\n",
        "Doenças ligadas ao coração afetam milhões de pessoas ao redor do mundo e, segundo a Organização Mundial da Saúde (OMS), são a segunda principal causa de morte da população mundial. Como cientista de dados, você foi contratado para criar um modelo preditivo que, a partir de dados de pacientes como idade, gênero, nível de glicose, se o paciente fuma ou não, vai prever se aquele paciente terá um derrame cerebral ou não. <br>\n",
        "Você tem acesso a um arquivo que possui atributos de pacientes e um atributo “stroke” (derrame), que indica se aquele paciente sofreu um evento de derrame ou não. <br>\n",
        "O conjunto de dados está disponível em: https://dcc.ufmg.br/~pcalais/stroke_data.csv\n",
        "\n",
        "<br> \n",
        "\n",
        "Os dados estão distribuídos nas seguintes colunas: <br>\n",
        "**id** = valores únicos. <br>\n",
        "**gender** = feminino, masculino ou outro. <br>\n",
        "**age** = idade <br>\n",
        "**hypertensio.** = valores binários que mostram se o paciente é ou não hipertenso(0 = não, 1 = sim). <br>\n",
        "**heart_disease** =  valores binários que mostram se o paciente tem ou não alguma doença cardiáca (0 = não, 1 = sim). <br>\n",
        "**ever_married** = Sim ou Não. <br>\n",
        "**work_type** = \"children\", \"Govt_jov\", \"Never_worked\", \"Private\" ou \"Self-employed\". <br>\n",
        "**Residence_type** = Rural ou urbana. <br>\n",
        "**avg_glucose_level** = nível médio de glucose no sangue. <br>\n",
        "**bmi** = índice de massa corporal. <br>\n",
        "**smoking_status** = \"formerly smoked\", \"never smoked\", \"smokes\" ou \"Unknown\". <br> \n",
        "**stroke** = valores binários que mostram se o paciente teve derrame (1) ou não teve (0)."
      ],
      "metadata": {
        "id": "4tFtt2JrbLAI"
      }
    },
    {
      "cell_type": "code",
      "source": [
        "#Instalando spark\n",
        "!pip install spark"
      ],
      "metadata": {
        "colab": {
          "base_uri": "https://localhost:8080/"
        },
        "id": "jLVdzEe9m2TY",
        "outputId": "4b84292a-3173-4c03-e83f-788112be984a"
      },
      "execution_count": 1,
      "outputs": [
        {
          "output_type": "stream",
          "name": "stdout",
          "text": [
            "Collecting spark\n",
            "  Downloading spark-0.2.1.tar.gz (41 kB)\n",
            "\u001b[?25l\r\u001b[K     |████████                        | 10 kB 23.7 MB/s eta 0:00:01\r\u001b[K     |████████████████                | 20 kB 14.0 MB/s eta 0:00:01\r\u001b[K     |████████████████████████        | 30 kB 10.0 MB/s eta 0:00:01\r\u001b[K     |████████████████████████████████| 40 kB 8.6 MB/s eta 0:00:01\r\u001b[K     |████████████████████████████████| 41 kB 52 kB/s \n",
            "\u001b[?25hBuilding wheels for collected packages: spark\n",
            "  Building wheel for spark (setup.py) ... \u001b[?25l\u001b[?25hdone\n",
            "  Created wheel for spark: filename=spark-0.2.1-py3-none-any.whl size=58762 sha256=f5487d6db041f13737be6553cbb3152a7d36fe47fba997f41188e8a8178c50c3\n",
            "  Stored in directory: /root/.cache/pip/wheels/4e/0e/f1/164619f9920fb447d294afaae11a7715bd442ded7225953d72\n",
            "Successfully built spark\n",
            "Installing collected packages: spark\n",
            "Successfully installed spark-0.2.1\n"
          ]
        }
      ]
    },
    {
      "cell_type": "code",
      "source": [
        "#Instalando pyspark\n",
        "!pip install pyspark"
      ],
      "metadata": {
        "colab": {
          "base_uri": "https://localhost:8080/"
        },
        "id": "Ssx-aLY0m2bC",
        "outputId": "8769fe77-4ac5-4a0f-9237-bcadffa0b4de"
      },
      "execution_count": 2,
      "outputs": [
        {
          "output_type": "stream",
          "name": "stdout",
          "text": [
            "Collecting pyspark\n",
            "  Downloading pyspark-3.2.1.tar.gz (281.4 MB)\n",
            "\u001b[K     |████████████████████████████████| 281.4 MB 34 kB/s \n",
            "\u001b[?25hCollecting py4j==0.10.9.3\n",
            "  Downloading py4j-0.10.9.3-py2.py3-none-any.whl (198 kB)\n",
            "\u001b[K     |████████████████████████████████| 198 kB 47.4 MB/s \n",
            "\u001b[?25hBuilding wheels for collected packages: pyspark\n",
            "  Building wheel for pyspark (setup.py) ... \u001b[?25l\u001b[?25hdone\n",
            "  Created wheel for pyspark: filename=pyspark-3.2.1-py2.py3-none-any.whl size=281853642 sha256=63e511c4c116e4c5972c02378b6db4cf3d7fe1b1bda19cb93a47c5660503b501\n",
            "  Stored in directory: /root/.cache/pip/wheels/9f/f5/07/7cd8017084dce4e93e84e92efd1e1d5334db05f2e83bcef74f\n",
            "Successfully built pyspark\n",
            "Installing collected packages: py4j, pyspark\n",
            "Successfully installed py4j-0.10.9.3 pyspark-3.2.1\n"
          ]
        }
      ]
    },
    {
      "cell_type": "code",
      "source": [
        "from pyspark.context import SparkContext\n",
        "from pyspark.sql import SparkSession\n",
        "sc = SparkContext.getOrCreate()\n",
        "spark = SparkSession.builder.appName('Desafio_SolucoesSpark') \\\n",
        "                    .getOrCreate()"
      ],
      "metadata": {
        "id": "gu1s3HtGnHdg"
      },
      "execution_count": 3,
      "outputs": []
    },
    {
      "cell_type": "code",
      "source": [
        "#Lendo o arquivo .csv e criando um dataframe a partir dele.\n",
        "stroke = spark.read.csv('stroke_data.csv', \n",
        "                        sep=',', \n",
        "                        inferSchema=True,\n",
        "                        header=True).cache()"
      ],
      "metadata": {
        "id": "EfdKA2ivnOFK"
      },
      "execution_count": 4,
      "outputs": []
    },
    {
      "cell_type": "code",
      "source": [
        "stroke.show()"
      ],
      "metadata": {
        "colab": {
          "base_uri": "https://localhost:8080/"
        },
        "id": "YkIjAruyonD4",
        "outputId": "3daba4cc-ab3b-4e5e-c39a-f360c1c9207c"
      },
      "execution_count": 5,
      "outputs": [
        {
          "output_type": "stream",
          "name": "stdout",
          "text": [
            "+---+------+----+------------+-------------+------------+-------------+--------------+-----------------+-----+---------------+------+\n",
            "|  0|gender| age|hypertension|heart_disease|ever_married|    work_type|Residence_type|avg_glucose_level|  bmi| smoking_status|stroke|\n",
            "+---+------+----+------------+-------------+------------+-------------+--------------+-----------------+-----+---------------+------+\n",
            "|  1|Female|18.0|           0|            0|          No|      Private|         Urban|            94.19|12.12|         smokes|     1|\n",
            "|  2|  Male|58.0|           1|            0|         Yes|      Private|         Rural|           154.24| 33.7|   never_smoked|     0|\n",
            "|  3|Female|36.0|           0|            0|         Yes|     Govt_job|         Urban|            72.63| 24.7|         smokes|     0|\n",
            "|  4|Female|62.0|           0|            0|         Yes|Self-employed|         Rural|            85.52| 31.2|formerly smoked|     0|\n",
            "|  5|Female|82.0|           0|            0|         Yes|      Private|         Rural|            59.32| 33.2|         smokes|     1|\n",
            "|  6|Female|82.0|           0|            0|          No|     Govt_job|         Urban|            234.5| 24.0|formerly smoked|     0|\n",
            "|  7|Female|33.0|           0|            0|         Yes|Self-employed|         Urban|           193.42| 29.9|         smokes|     0|\n",
            "|  8|Female|37.0|           0|            0|         Yes|      Private|         Rural|            156.7| 36.9|         smokes|     1|\n",
            "|  9|Female|41.0|           0|            0|         Yes|     Govt_job|         Rural|            64.06| 33.8|         smokes|     1|\n",
            "| 10|Female|70.0|           0|            0|         Yes|Self-employed|         Rural|            76.34| 24.4|formerly smoked|     1|\n",
            "| 11|Female|25.0|           0|            0|          No|      Private|         Urban|            91.15| 28.7|         smokes|     1|\n",
            "| 12|Female|43.0|           1|            0|          No|Self-employed|         Rural|            60.12| 34.2|formerly smoked|     0|\n",
            "| 13|  Male|72.0|           0|            1|         Yes|      Private|         Rural|           235.22| 40.3|formerly smoked|     1|\n",
            "| 14|Female|20.0|           0|            0|          No|      Private|         Rural|           106.47| 33.7|         smokes|     1|\n",
            "| 15|  Male|20.0|           0|            0|          No|      Private|         Urban|           104.78| 20.3|         smokes|     1|\n",
            "| 16|  Male|41.0|           0|            0|         Yes|Self-employed|         Urban|            159.3| 34.6|         smokes|     1|\n",
            "| 17|Female|23.0|           0|            0|          No|      Private|         Urban|           116.95| 23.8|         smokes|     1|\n",
            "| 18|  Male|22.0|           0|            0|          No|Self-employed|         Rural|            72.05| 31.9|         smokes|     1|\n",
            "| 19|  Male|69.0|           0|            0|         Yes|      Private|         Rural|            64.06| 35.1|formerly smoked|     0|\n",
            "| 20|Female|44.0|           0|            0|         Yes|Self-employed|         Rural|           135.03| 36.1|         smokes|     1|\n",
            "+---+------+----+------------+-------------+------------+-------------+--------------+-----------------+-----+---------------+------+\n",
            "only showing top 20 rows\n",
            "\n"
          ]
        }
      ]
    },
    {
      "cell_type": "markdown",
      "source": [
        "Quantos registros existem no arquivo?"
      ],
      "metadata": {
        "id": "PLRYBKqwXEsv"
      }
    },
    {
      "cell_type": "code",
      "source": [
        "stroke.count()"
      ],
      "metadata": {
        "colab": {
          "base_uri": "https://localhost:8080/"
        },
        "id": "rtHb9lILo3OI",
        "outputId": "a4e91437-3c9a-43ee-f463-f72834d55f87"
      },
      "execution_count": 6,
      "outputs": [
        {
          "output_type": "execute_result",
          "data": {
            "text/plain": [
              "67135"
            ]
          },
          "metadata": {},
          "execution_count": 6
        }
      ]
    },
    {
      "cell_type": "markdown",
      "source": [
        "Quantas colunas existem no arquivo? Quantas são numéricas? Ao ler o arquivo com spark.read.csv, habilite inferSchema=True. Use a função printSchema() da API de Dataframes."
      ],
      "metadata": {
        "id": "Uo_8yI_KXI2y"
      }
    },
    {
      "cell_type": "code",
      "source": [
        "stroke.printSchema()"
      ],
      "metadata": {
        "colab": {
          "base_uri": "https://localhost:8080/"
        },
        "id": "Adskt6EBUc5m",
        "outputId": "912e53c9-a773-43bc-d571-cb31c105b627"
      },
      "execution_count": 7,
      "outputs": [
        {
          "output_type": "stream",
          "name": "stdout",
          "text": [
            "root\n",
            " |-- 0: integer (nullable = true)\n",
            " |-- gender: string (nullable = true)\n",
            " |-- age: double (nullable = true)\n",
            " |-- hypertension: integer (nullable = true)\n",
            " |-- heart_disease: integer (nullable = true)\n",
            " |-- ever_married: string (nullable = true)\n",
            " |-- work_type: string (nullable = true)\n",
            " |-- Residence_type: string (nullable = true)\n",
            " |-- avg_glucose_level: double (nullable = true)\n",
            " |-- bmi: double (nullable = true)\n",
            " |-- smoking_status: string (nullable = true)\n",
            " |-- stroke: integer (nullable = true)\n",
            "\n"
          ]
        }
      ]
    },
    {
      "cell_type": "code",
      "source": [
        "#Importando col a partir do pyspark.sql.functions\n",
        "from pyspark.sql.functions import col"
      ],
      "metadata": {
        "id": "EMzko0COiV0u"
      },
      "execution_count": 8,
      "outputs": []
    },
    {
      "cell_type": "code",
      "source": [
        "stroke = stroke.select(col(\"0\").alias(\"id\"), col(\"gender\").alias(\"gender\"), col(\"age\").alias(\"age\"), col(\"hypertension\").alias(\"hypertension\"),col(\"heart_disease\").alias(\"heart_disease\"),col(\"ever_married\").alias(\"ever_married\"),col(\"work_type\").alias(\"work_type\"),col(\"Residence_type\").alias(\"Residence_type\"),col(\"avg_glucose_level\").alias(\"avg_glucose_level\"),col(\"bmi\").alias(\"bmi\"), col(\"smoking_status\").alias(\"smoking_status\"),col(\"stroke\").alias(\"stroke\"))\n",
        "stroke.show()"
      ],
      "metadata": {
        "colab": {
          "base_uri": "https://localhost:8080/"
        },
        "id": "E4OUiTnLiWaX",
        "outputId": "dc65bf5e-788c-40a8-d30a-538c45751fe7"
      },
      "execution_count": 9,
      "outputs": [
        {
          "output_type": "stream",
          "name": "stdout",
          "text": [
            "+---+------+----+------------+-------------+------------+-------------+--------------+-----------------+-----+---------------+------+\n",
            "| id|gender| age|hypertension|heart_disease|ever_married|    work_type|Residence_type|avg_glucose_level|  bmi| smoking_status|stroke|\n",
            "+---+------+----+------------+-------------+------------+-------------+--------------+-----------------+-----+---------------+------+\n",
            "|  1|Female|18.0|           0|            0|          No|      Private|         Urban|            94.19|12.12|         smokes|     1|\n",
            "|  2|  Male|58.0|           1|            0|         Yes|      Private|         Rural|           154.24| 33.7|   never_smoked|     0|\n",
            "|  3|Female|36.0|           0|            0|         Yes|     Govt_job|         Urban|            72.63| 24.7|         smokes|     0|\n",
            "|  4|Female|62.0|           0|            0|         Yes|Self-employed|         Rural|            85.52| 31.2|formerly smoked|     0|\n",
            "|  5|Female|82.0|           0|            0|         Yes|      Private|         Rural|            59.32| 33.2|         smokes|     1|\n",
            "|  6|Female|82.0|           0|            0|          No|     Govt_job|         Urban|            234.5| 24.0|formerly smoked|     0|\n",
            "|  7|Female|33.0|           0|            0|         Yes|Self-employed|         Urban|           193.42| 29.9|         smokes|     0|\n",
            "|  8|Female|37.0|           0|            0|         Yes|      Private|         Rural|            156.7| 36.9|         smokes|     1|\n",
            "|  9|Female|41.0|           0|            0|         Yes|     Govt_job|         Rural|            64.06| 33.8|         smokes|     1|\n",
            "| 10|Female|70.0|           0|            0|         Yes|Self-employed|         Rural|            76.34| 24.4|formerly smoked|     1|\n",
            "| 11|Female|25.0|           0|            0|          No|      Private|         Urban|            91.15| 28.7|         smokes|     1|\n",
            "| 12|Female|43.0|           1|            0|          No|Self-employed|         Rural|            60.12| 34.2|formerly smoked|     0|\n",
            "| 13|  Male|72.0|           0|            1|         Yes|      Private|         Rural|           235.22| 40.3|formerly smoked|     1|\n",
            "| 14|Female|20.0|           0|            0|          No|      Private|         Rural|           106.47| 33.7|         smokes|     1|\n",
            "| 15|  Male|20.0|           0|            0|          No|      Private|         Urban|           104.78| 20.3|         smokes|     1|\n",
            "| 16|  Male|41.0|           0|            0|         Yes|Self-employed|         Urban|            159.3| 34.6|         smokes|     1|\n",
            "| 17|Female|23.0|           0|            0|          No|      Private|         Urban|           116.95| 23.8|         smokes|     1|\n",
            "| 18|  Male|22.0|           0|            0|          No|Self-employed|         Rural|            72.05| 31.9|         smokes|     1|\n",
            "| 19|  Male|69.0|           0|            0|         Yes|      Private|         Rural|            64.06| 35.1|formerly smoked|     0|\n",
            "| 20|Female|44.0|           0|            0|         Yes|Self-employed|         Rural|           135.03| 36.1|         smokes|     1|\n",
            "+---+------+----+------------+-------------+------------+-------------+--------------+-----------------+-----+---------------+------+\n",
            "only showing top 20 rows\n",
            "\n"
          ]
        }
      ]
    },
    {
      "cell_type": "markdown",
      "source": [
        "No conjunto de dados, quantos pacientes sofreram e não sofreram derrame (stroke), respectivamente?\n",
        "Para descobrirmos a resposta para esta pergunta, primeiro vamos alterar o tipo das colunas para que as que tenham valores binários, tenham o tipo booleando."
      ],
      "metadata": {
        "id": "fKYcSwZiXNBq"
      }
    },
    {
      "cell_type": "code",
      "source": [
        "#Alterando o tipo das colunas\n",
        "from pyspark.sql.types import StringType, DateType, FloatType\n",
        "from pyspark.sql.types import BooleanType, IntegerType"
      ],
      "metadata": {
        "id": "3bgMv5OiXPWJ"
      },
      "execution_count": 10,
      "outputs": []
    },
    {
      "cell_type": "code",
      "source": [
        "stroke = stroke\\\n",
        ".withColumn('Id',\n",
        "            stroke['Id'].cast(IntegerType()))\\\n",
        ".withColumn(\"gender\",\n",
        "            stroke[\"gender\"]\n",
        "            .cast(StringType()))\\\n",
        ".withColumn(\"age\",stroke[\"age\"].cast(IntegerType()))    \\\n",
        ".withColumn(\"hypertension\", stroke[\"hypertension\"].cast(BooleanType()))    \\\n",
        ".withColumn(\"heart_disease\",stroke[\"heart_disease\"].cast(BooleanType()))    \\\n",
        ".withColumn(\"ever_married\",stroke[\"ever_married\"].cast(StringType()))    \\\n",
        ".withColumn(\"work_type\",stroke[\"work_type\"].cast(StringType()))    \\\n",
        ".withColumn(\"Residence_type\",stroke[\"Residence_type\"].cast(StringType()))    \\\n",
        ".withColumn(\"avg_glucose_level\",stroke[\"avg_glucose_level\"].cast(FloatType()))    \\\n",
        ".withColumn(\"bmi\",stroke[\"bmi\"].cast(FloatType()))    \\\n",
        ".withColumn(\"smoking_status\",stroke[\"smoking_status\"].cast(StringType()))    \\\n",
        ".withColumn(\"stroke\",stroke[\"stroke\"].cast(BooleanType()))    \\"
      ],
      "metadata": {
        "id": "BTDdfBnRXpGX"
      },
      "execution_count": 11,
      "outputs": []
    },
    {
      "cell_type": "code",
      "source": [
        "stroke.printSchema()"
      ],
      "metadata": {
        "colab": {
          "base_uri": "https://localhost:8080/"
        },
        "id": "KxNAvR17iMk3",
        "outputId": "3da218d5-9e9e-45f9-ac9f-f3506389357b"
      },
      "execution_count": 12,
      "outputs": [
        {
          "output_type": "stream",
          "name": "stdout",
          "text": [
            "root\n",
            " |-- Id: integer (nullable = true)\n",
            " |-- gender: string (nullable = true)\n",
            " |-- age: integer (nullable = true)\n",
            " |-- hypertension: boolean (nullable = true)\n",
            " |-- heart_disease: boolean (nullable = true)\n",
            " |-- ever_married: string (nullable = true)\n",
            " |-- work_type: string (nullable = true)\n",
            " |-- Residence_type: string (nullable = true)\n",
            " |-- avg_glucose_level: float (nullable = true)\n",
            " |-- bmi: float (nullable = true)\n",
            " |-- smoking_status: string (nullable = true)\n",
            " |-- stroke: boolean (nullable = true)\n",
            "\n"
          ]
        }
      ]
    },
    {
      "cell_type": "code",
      "source": [
        "stroke.select('stroke').where(stroke.stroke==\"1\").count()"
      ],
      "metadata": {
        "colab": {
          "base_uri": "https://localhost:8080/"
        },
        "id": "bolRBWTrn7th",
        "outputId": "f0e7f38d-3bbb-41de-f6de-5d7ae69a1b3c"
      },
      "execution_count": 13,
      "outputs": [
        {
          "output_type": "execute_result",
          "data": {
            "text/plain": [
              "40287"
            ]
          },
          "metadata": {},
          "execution_count": 13
        }
      ]
    },
    {
      "cell_type": "code",
      "source": [
        "stroke.select('stroke').where(stroke.stroke==\"0\").count()"
      ],
      "metadata": {
        "colab": {
          "base_uri": "https://localhost:8080/"
        },
        "id": "d2ojEikKoYRm",
        "outputId": "7bea44bc-529a-4af1-d245-8edb1b2f0ba7"
      },
      "execution_count": 14,
      "outputs": [
        {
          "output_type": "execute_result",
          "data": {
            "text/plain": [
              "26848"
            ]
          },
          "metadata": {},
          "execution_count": 14
        }
      ]
    },
    {
      "cell_type": "markdown",
      "source": [
        "A partir do dataframe, crie uma tabela temporária usando df.createOrReplaceTempView('table') e, a seguir, use spark.sql para escrever uma consulta SQL que obtenha quantos pacientes tiveram derrame por tipo de trabalho (work_type). Quantos pacientes que sofreram derrame trabalhavam, respectivamente, no setor privado, de forma independente, no governo e quantas são crianças?"
      ],
      "metadata": {
        "id": "CXUk3ewRrVOu"
      }
    },
    {
      "cell_type": "code",
      "source": [
        "stroke.createOrReplaceTempView('table') "
      ],
      "metadata": {
        "id": "HYOUXpRorWP0"
      },
      "execution_count": 15,
      "outputs": []
    },
    {
      "cell_type": "code",
      "source": [
        "from pyspark.sql.functions import *"
      ],
      "metadata": {
        "id": "6a2BOy2jk-xD"
      },
      "execution_count": 16,
      "outputs": []
    },
    {
      "cell_type": "code",
      "source": [
        "private = stroke.where(stroke.work_type == 'Private')\n",
        "private.count()"
      ],
      "metadata": {
        "colab": {
          "base_uri": "https://localhost:8080/"
        },
        "id": "mQwtch9o3r3J",
        "outputId": "117352dc-f1cc-4057-e446-83e0283b4b3e"
      },
      "execution_count": 24,
      "outputs": [
        {
          "output_type": "execute_result",
          "data": {
            "text/plain": [
              "37806"
            ]
          },
          "metadata": {},
          "execution_count": 24
        }
      ]
    },
    {
      "cell_type": "code",
      "source": [
        "Self_employed = stroke.where(stroke.work_type == 'Self-employed')\n",
        "Self_employed.count()"
      ],
      "metadata": {
        "colab": {
          "base_uri": "https://localhost:8080/"
        },
        "id": "Jni4v6nBvpbK",
        "outputId": "e637980d-f898-4f74-b53b-f0da953d40b2"
      },
      "execution_count": 18,
      "outputs": [
        {
          "output_type": "execute_result",
          "data": {
            "text/plain": [
              "14736"
            ]
          },
          "metadata": {},
          "execution_count": 18
        }
      ]
    },
    {
      "cell_type": "code",
      "source": [
        "Govt_job = stroke.where(stroke.work_type == 'Govt_job')\n",
        "Govt_job.count()"
      ],
      "metadata": {
        "colab": {
          "base_uri": "https://localhost:8080/"
        },
        "id": "OqgoyK-VAoye",
        "outputId": "9e854c7f-642f-45a7-d22e-e0db97e80169"
      },
      "execution_count": 19,
      "outputs": [
        {
          "output_type": "execute_result",
          "data": {
            "text/plain": [
              "8260"
            ]
          },
          "metadata": {},
          "execution_count": 19
        }
      ]
    },
    {
      "cell_type": "code",
      "source": [
        "children = stroke.where(stroke.work_type == 'children')\n",
        "children.count()"
      ],
      "metadata": {
        "colab": {
          "base_uri": "https://localhost:8080/"
        },
        "id": "jt8cvDD-ApWd",
        "outputId": "fb65ac0d-bd6e-41d1-a67d-6b7479d1b3c0"
      },
      "execution_count": 20,
      "outputs": [
        {
          "output_type": "execute_result",
          "data": {
            "text/plain": [
              "6156"
            ]
          },
          "metadata": {},
          "execution_count": 20
        }
      ]
    },
    {
      "cell_type": "markdown",
      "source": [
        "Escreva uma consulta com spark.sql para determinar a proporção, por\n",
        "gênero, de participantes do estudo. A maioria dos participantes é:"
      ],
      "metadata": {
        "id": "Yr6aHMaq3Mpd"
      }
    },
    {
      "cell_type": "markdown",
      "source": [
        "Escreva uma consulta com spark.sql para determinar quem tem mais\n",
        "probabilidade de sofrer derrame: hipertensos ou não-hipertensos. Você\n",
        "pode escrever uma consulta para cada grupo. A partir das\n",
        "probabilidades que você obteve, você conclui que:"
      ],
      "metadata": {
        "id": "jmGJ-vLe3OsI"
      }
    },
    {
      "cell_type": "markdown",
      "source": [
        "Escreva uma consulta com spark.sql que determine o número de\n",
        "pessoas que sofreram derrame por idade. Com qual idade o maior\n",
        "número de pessoas do conjunto de dados sofreu derrame?"
      ],
      "metadata": {
        "id": "l86MlPfA3QQm"
      }
    },
    {
      "cell_type": "markdown",
      "source": [
        "Usando a API de dataframes, determine quantas pessoas sofreram\n",
        "derrames após os 50 anos"
      ],
      "metadata": {
        "id": "YSF8RnHC3SEy"
      }
    },
    {
      "cell_type": "markdown",
      "source": [
        "Usando spark.sql, determine qual o nível médio de glicose para\n",
        "pessoas que, respectivamente, sofreram e não sofreram derrame.\n"
      ],
      "metadata": {
        "id": "-6R82cZF3U6j"
      }
    },
    {
      "cell_type": "markdown",
      "source": [
        "Qual é o BMI (IMC = índice de massa corpórea) médio de quem sofreu\n",
        "e não sofreu derrame?"
      ],
      "metadata": {
        "id": "YiRy-USQ3WZx"
      }
    },
    {
      "cell_type": "markdown",
      "source": [
        "Crie um modelo de árvore de decisão que prevê a chance de derrame\n",
        "(stroke) a partir das variáveis contínuas/categóricas: idade, BMI,\n",
        "hipertensão, doença do coração, nível médio de glicose. Use o\n",
        "conteúdo da Segunda Aula Interativa para criar e avaliar o modelo.\n",
        "Qual a acurácia de um modelo construído?"
      ],
      "metadata": {
        "id": "Rg_G9kqA3WUP"
      }
    },
    {
      "cell_type": "markdown",
      "source": [
        "Ajuste um modelo de árvore de decisão a partir de pelo menos as\n",
        "seguintes variáveis: gênero, fuma / não fuma, BMI, idade, hipertensão,\n",
        "doença do coração, nível médio de glicose. A acurácia deste modelo\n",
        "ficou entre:"
      ],
      "metadata": {
        "id": "2sHzdHX23Za1"
      }
    },
    {
      "cell_type": "markdown",
      "source": [
        "Qual dessas variáveis é mais importante no modelo de árvore de\n",
        "decisão que você construiu na questão 12?"
      ],
      "metadata": {
        "id": "jU6faicY3Zf-"
      }
    },
    {
      "cell_type": "markdown",
      "source": [
        "Qual a profundidade da árvore de decisão da questão 12?"
      ],
      "metadata": {
        "id": "u0l_X4vJ3db3"
      }
    },
    {
      "cell_type": "markdown",
      "source": [
        "Quantos atributos foram considerados na árvore?"
      ],
      "metadata": {
        "id": "HdRgB0oW3gTY"
      }
    }
  ]
}