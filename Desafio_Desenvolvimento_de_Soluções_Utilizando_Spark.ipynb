{
  "nbformat": 4,
  "nbformat_minor": 0,
  "metadata": {
    "colab": {
      "name": "Desafio_Desenvolvimento de Soluções Utilizando Spark.ipynb",
      "provenance": [],
      "authorship_tag": "ABX9TyM8fvxWZoX/fOnQ1uUSD4BK",
      "include_colab_link": true
    },
    "kernelspec": {
      "name": "python3",
      "display_name": "Python 3"
    },
    "language_info": {
      "name": "python"
    }
  },
  "cells": [
    {
      "cell_type": "markdown",
      "metadata": {
        "id": "view-in-github",
        "colab_type": "text"
      },
      "source": [
        "<a href=\"https://colab.research.google.com/github/vivirocha/Bootcamp_DataScience/blob/main/Desafio_Desenvolvimento_de_Solu%C3%A7%C3%B5es_Utilizando_Spark.ipynb\" target=\"_parent\"><img src=\"https://colab.research.google.com/assets/colab-badge.svg\" alt=\"Open In Colab\"/></a>"
      ]
    },
    {
      "cell_type": "markdown",
      "source": [
        "**Bootcamp Cientista de Dados - IGTI**\n",
        "\n",
        "Desafio - Módulo 2\n",
        "\n",
        "*Desenvolvendo Soluções Utilizando Apache Spark*"
      ],
      "metadata": {
        "id": "Z022aLb5bJ1H"
      }
    },
    {
      "cell_type": "markdown",
      "source": [
        "**Enunciado** <br>\n",
        "Doenças ligadas ao coração afetam milhões de pessoas ao redor do mundo e, segundo a Organização Mundial da Saúde (OMS), são a segunda principal causa de morte da população mundial. Como cientista de dados, você foi contratado para criar um modelo preditivo que, a partir de dados de pacientes como idade, gênero, nível de glicose, se o paciente fuma ou não, vai prever se aquele paciente terá um derrame cerebral ou não. <br>\n",
        "Você tem acesso a um arquivo que possui atributos de pacientes e um atributo “stroke” (derrame), que indica se aquele paciente sofreu um evento de derrame ou não. <br>\n",
        "O conjunto de dados está disponível em: https://dcc.ufmg.br/~pcalais/stroke_data.csv\n",
        "\n",
        "<br> \n",
        "\n",
        "Os dados estão distribuídos nas seguintes colunas: <br>\n",
        "**id** = valores únicos. <br>\n",
        "**gender** = feminino, masculino ou outro. <br>\n",
        "**age** = idade <br>\n",
        "**hypertensio.** = valores binários que mostram se o paciente é ou não hipertenso(0 = não, 1 = sim). <br>\n",
        "**heart_disease** =  valores binários que mostram se o paciente tem ou não alguma doença cardiáca (0 = não, 1 = sim). <br>\n",
        "**ever_married** = Sim ou Não. <br>\n",
        "**work_type** = \"children\", \"Govt_jov\", \"Never_worked\", \"Private\" ou \"Self-employed\". <br>\n",
        "**Residence_type** = Rural ou urbana. <br>\n",
        "**avg_glucose_level** = nível médio de glucose no sangue. <br>\n",
        "**bmi** = índice de massa corporal. <br>\n",
        "**smoking_status** = \"formerly smoked\", \"never smoked\", \"smokes\" ou \"Unknown\". <br> \n",
        "**stroke** = valores binários que mostram se o paciente teve derrame (1) ou não teve (0)."
      ],
      "metadata": {
        "id": "4tFtt2JrbLAI"
      }
    },
    {
      "cell_type": "code",
      "source": [
        "#Instalando spark\n",
        "!pip install spark"
      ],
      "metadata": {
        "colab": {
          "base_uri": "https://localhost:8080/"
        },
        "id": "jLVdzEe9m2TY",
        "outputId": "bd89d4f2-744c-42d9-f487-9b5aa3f24fa2"
      },
      "execution_count": 34,
      "outputs": [
        {
          "output_type": "stream",
          "name": "stdout",
          "text": [
            "Requirement already satisfied: spark in /usr/local/lib/python3.7/dist-packages (0.2.1)\n"
          ]
        }
      ]
    },
    {
      "cell_type": "code",
      "source": [
        "#Instalando pyspark\n",
        "!pip install pyspark"
      ],
      "metadata": {
        "colab": {
          "base_uri": "https://localhost:8080/"
        },
        "id": "Ssx-aLY0m2bC",
        "outputId": "00f4d44c-3d78-483e-9fb7-c14705654d79"
      },
      "execution_count": 35,
      "outputs": [
        {
          "output_type": "stream",
          "name": "stdout",
          "text": [
            "Requirement already satisfied: pyspark in /usr/local/lib/python3.7/dist-packages (3.2.1)\n",
            "Requirement already satisfied: py4j==0.10.9.3 in /usr/local/lib/python3.7/dist-packages (from pyspark) (0.10.9.3)\n"
          ]
        }
      ]
    },
    {
      "cell_type": "code",
      "source": [
        "from pyspark.context import SparkContext\n",
        "from pyspark.sql import SparkSession\n",
        "sc = SparkContext.getOrCreate()\n",
        "spark = SparkSession.builder.appName('Desafio_SolucoesSpark') \\\n",
        "                    .getOrCreate()"
      ],
      "metadata": {
        "id": "gu1s3HtGnHdg"
      },
      "execution_count": 36,
      "outputs": []
    },
    {
      "cell_type": "code",
      "source": [
        "#Lendo o arquivo .csv e criando um dataframe a partir dele.\n",
        "stroke = spark.read.csv('stroke_data.csv', \n",
        "                        sep=',', \n",
        "                        inferSchema=True,\n",
        "                        header=True).cache()"
      ],
      "metadata": {
        "id": "EfdKA2ivnOFK"
      },
      "execution_count": 37,
      "outputs": []
    },
    {
      "cell_type": "code",
      "source": [
        "stroke.show()"
      ],
      "metadata": {
        "colab": {
          "base_uri": "https://localhost:8080/"
        },
        "id": "YkIjAruyonD4",
        "outputId": "d4173ea5-718d-49c8-c531-42cb57bf8990"
      },
      "execution_count": 38,
      "outputs": [
        {
          "output_type": "stream",
          "name": "stdout",
          "text": [
            "+---+------+----+------------+-------------+------------+-------------+--------------+-----------------+-----+---------------+------+\n",
            "|  0|gender| age|hypertension|heart_disease|ever_married|    work_type|Residence_type|avg_glucose_level|  bmi| smoking_status|stroke|\n",
            "+---+------+----+------------+-------------+------------+-------------+--------------+-----------------+-----+---------------+------+\n",
            "|  1|Female|18.0|           0|            0|          No|      Private|         Urban|            94.19|12.12|         smokes|     1|\n",
            "|  2|  Male|58.0|           1|            0|         Yes|      Private|         Rural|           154.24| 33.7|   never_smoked|     0|\n",
            "|  3|Female|36.0|           0|            0|         Yes|     Govt_job|         Urban|            72.63| 24.7|         smokes|     0|\n",
            "|  4|Female|62.0|           0|            0|         Yes|Self-employed|         Rural|            85.52| 31.2|formerly smoked|     0|\n",
            "|  5|Female|82.0|           0|            0|         Yes|      Private|         Rural|            59.32| 33.2|         smokes|     1|\n",
            "|  6|Female|82.0|           0|            0|          No|     Govt_job|         Urban|            234.5| 24.0|formerly smoked|     0|\n",
            "|  7|Female|33.0|           0|            0|         Yes|Self-employed|         Urban|           193.42| 29.9|         smokes|     0|\n",
            "|  8|Female|37.0|           0|            0|         Yes|      Private|         Rural|            156.7| 36.9|         smokes|     1|\n",
            "|  9|Female|41.0|           0|            0|         Yes|     Govt_job|         Rural|            64.06| 33.8|         smokes|     1|\n",
            "| 10|Female|70.0|           0|            0|         Yes|Self-employed|         Rural|            76.34| 24.4|formerly smoked|     1|\n",
            "| 11|Female|25.0|           0|            0|          No|      Private|         Urban|            91.15| 28.7|         smokes|     1|\n",
            "| 12|Female|43.0|           1|            0|          No|Self-employed|         Rural|            60.12| 34.2|formerly smoked|     0|\n",
            "| 13|  Male|72.0|           0|            1|         Yes|      Private|         Rural|           235.22| 40.3|formerly smoked|     1|\n",
            "| 14|Female|20.0|           0|            0|          No|      Private|         Rural|           106.47| 33.7|         smokes|     1|\n",
            "| 15|  Male|20.0|           0|            0|          No|      Private|         Urban|           104.78| 20.3|         smokes|     1|\n",
            "| 16|  Male|41.0|           0|            0|         Yes|Self-employed|         Urban|            159.3| 34.6|         smokes|     1|\n",
            "| 17|Female|23.0|           0|            0|          No|      Private|         Urban|           116.95| 23.8|         smokes|     1|\n",
            "| 18|  Male|22.0|           0|            0|          No|Self-employed|         Rural|            72.05| 31.9|         smokes|     1|\n",
            "| 19|  Male|69.0|           0|            0|         Yes|      Private|         Rural|            64.06| 35.1|formerly smoked|     0|\n",
            "| 20|Female|44.0|           0|            0|         Yes|Self-employed|         Rural|           135.03| 36.1|         smokes|     1|\n",
            "+---+------+----+------------+-------------+------------+-------------+--------------+-----------------+-----+---------------+------+\n",
            "only showing top 20 rows\n",
            "\n"
          ]
        }
      ]
    },
    {
      "cell_type": "markdown",
      "source": [
        "Quantos registros existem no arquivo?"
      ],
      "metadata": {
        "id": "PLRYBKqwXEsv"
      }
    },
    {
      "cell_type": "code",
      "source": [
        "stroke.count()"
      ],
      "metadata": {
        "colab": {
          "base_uri": "https://localhost:8080/"
        },
        "id": "rtHb9lILo3OI",
        "outputId": "9b9b481c-02f8-4d6b-8618-42b7db336593"
      },
      "execution_count": 39,
      "outputs": [
        {
          "output_type": "execute_result",
          "data": {
            "text/plain": [
              "67135"
            ]
          },
          "metadata": {},
          "execution_count": 39
        }
      ]
    },
    {
      "cell_type": "markdown",
      "source": [
        "Quantas colunas existem no arquivo? Quantas são numéricas? Ao ler o arquivo com spark.read.csv, habilite inferSchema=True. Use a função printSchema() da API de Dataframes."
      ],
      "metadata": {
        "id": "Uo_8yI_KXI2y"
      }
    },
    {
      "cell_type": "code",
      "source": [
        "stroke.printSchema()"
      ],
      "metadata": {
        "colab": {
          "base_uri": "https://localhost:8080/"
        },
        "id": "Adskt6EBUc5m",
        "outputId": "9a591ab4-6305-493f-b13a-7941e63f15c8"
      },
      "execution_count": 40,
      "outputs": [
        {
          "output_type": "stream",
          "name": "stdout",
          "text": [
            "root\n",
            " |-- 0: integer (nullable = true)\n",
            " |-- gender: string (nullable = true)\n",
            " |-- age: double (nullable = true)\n",
            " |-- hypertension: integer (nullable = true)\n",
            " |-- heart_disease: integer (nullable = true)\n",
            " |-- ever_married: string (nullable = true)\n",
            " |-- work_type: string (nullable = true)\n",
            " |-- Residence_type: string (nullable = true)\n",
            " |-- avg_glucose_level: double (nullable = true)\n",
            " |-- bmi: double (nullable = true)\n",
            " |-- smoking_status: string (nullable = true)\n",
            " |-- stroke: integer (nullable = true)\n",
            "\n"
          ]
        }
      ]
    },
    {
      "cell_type": "code",
      "source": [
        "#Importando col a partir do pyspark.sql.functions\n",
        "from pyspark.sql.functions import col"
      ],
      "metadata": {
        "id": "EMzko0COiV0u"
      },
      "execution_count": 41,
      "outputs": []
    },
    {
      "cell_type": "code",
      "source": [
        "stroke = stroke.select(col(\"0\").alias(\"id\"), col(\"gender\").alias(\"gender\"), col(\"age\").alias(\"age\"), col(\"hypertension\").alias(\"hypertension\"),col(\"heart_disease\").alias(\"heart_disease\"),col(\"ever_married\").alias(\"ever_married\"),col(\"work_type\").alias(\"work_type\"),col(\"Residence_type\").alias(\"Residence_type\"),col(\"avg_glucose_level\").alias(\"avg_glucose_level\"),col(\"bmi\").alias(\"bmi\"), col(\"smoking_status\").alias(\"smoking_status\"),col(\"stroke\").alias(\"stroke\"))\n",
        "stroke.show()"
      ],
      "metadata": {
        "colab": {
          "base_uri": "https://localhost:8080/"
        },
        "id": "E4OUiTnLiWaX",
        "outputId": "64a326b9-ea2e-4165-a393-63d07a354a08"
      },
      "execution_count": 42,
      "outputs": [
        {
          "output_type": "stream",
          "name": "stdout",
          "text": [
            "+---+------+----+------------+-------------+------------+-------------+--------------+-----------------+-----+---------------+------+\n",
            "| id|gender| age|hypertension|heart_disease|ever_married|    work_type|Residence_type|avg_glucose_level|  bmi| smoking_status|stroke|\n",
            "+---+------+----+------------+-------------+------------+-------------+--------------+-----------------+-----+---------------+------+\n",
            "|  1|Female|18.0|           0|            0|          No|      Private|         Urban|            94.19|12.12|         smokes|     1|\n",
            "|  2|  Male|58.0|           1|            0|         Yes|      Private|         Rural|           154.24| 33.7|   never_smoked|     0|\n",
            "|  3|Female|36.0|           0|            0|         Yes|     Govt_job|         Urban|            72.63| 24.7|         smokes|     0|\n",
            "|  4|Female|62.0|           0|            0|         Yes|Self-employed|         Rural|            85.52| 31.2|formerly smoked|     0|\n",
            "|  5|Female|82.0|           0|            0|         Yes|      Private|         Rural|            59.32| 33.2|         smokes|     1|\n",
            "|  6|Female|82.0|           0|            0|          No|     Govt_job|         Urban|            234.5| 24.0|formerly smoked|     0|\n",
            "|  7|Female|33.0|           0|            0|         Yes|Self-employed|         Urban|           193.42| 29.9|         smokes|     0|\n",
            "|  8|Female|37.0|           0|            0|         Yes|      Private|         Rural|            156.7| 36.9|         smokes|     1|\n",
            "|  9|Female|41.0|           0|            0|         Yes|     Govt_job|         Rural|            64.06| 33.8|         smokes|     1|\n",
            "| 10|Female|70.0|           0|            0|         Yes|Self-employed|         Rural|            76.34| 24.4|formerly smoked|     1|\n",
            "| 11|Female|25.0|           0|            0|          No|      Private|         Urban|            91.15| 28.7|         smokes|     1|\n",
            "| 12|Female|43.0|           1|            0|          No|Self-employed|         Rural|            60.12| 34.2|formerly smoked|     0|\n",
            "| 13|  Male|72.0|           0|            1|         Yes|      Private|         Rural|           235.22| 40.3|formerly smoked|     1|\n",
            "| 14|Female|20.0|           0|            0|          No|      Private|         Rural|           106.47| 33.7|         smokes|     1|\n",
            "| 15|  Male|20.0|           0|            0|          No|      Private|         Urban|           104.78| 20.3|         smokes|     1|\n",
            "| 16|  Male|41.0|           0|            0|         Yes|Self-employed|         Urban|            159.3| 34.6|         smokes|     1|\n",
            "| 17|Female|23.0|           0|            0|          No|      Private|         Urban|           116.95| 23.8|         smokes|     1|\n",
            "| 18|  Male|22.0|           0|            0|          No|Self-employed|         Rural|            72.05| 31.9|         smokes|     1|\n",
            "| 19|  Male|69.0|           0|            0|         Yes|      Private|         Rural|            64.06| 35.1|formerly smoked|     0|\n",
            "| 20|Female|44.0|           0|            0|         Yes|Self-employed|         Rural|           135.03| 36.1|         smokes|     1|\n",
            "+---+------+----+------------+-------------+------------+-------------+--------------+-----------------+-----+---------------+------+\n",
            "only showing top 20 rows\n",
            "\n"
          ]
        }
      ]
    },
    {
      "cell_type": "markdown",
      "source": [
        "No conjunto de dados, quantos pacientes sofreram e não sofreram derrame (stroke), respectivamente?\n",
        "Para descobrirmos a resposta para esta pergunta, primeiro vamos alterar o tipo das colunas para que as que tenham valores binários, tenham o tipo booleando."
      ],
      "metadata": {
        "id": "fKYcSwZiXNBq"
      }
    },
    {
      "cell_type": "code",
      "source": [
        "#Alterando o tipo das colunas\n",
        "from pyspark.sql.types import StringType, DateType, FloatType\n",
        "from pyspark.sql.types import BooleanType, IntegerType"
      ],
      "metadata": {
        "id": "3bgMv5OiXPWJ"
      },
      "execution_count": 43,
      "outputs": []
    },
    {
      "cell_type": "code",
      "source": [
        "stroke = stroke\\\n",
        ".withColumn('Id',\n",
        "            stroke['Id'].cast(IntegerType()))\\\n",
        ".withColumn(\"gender\",\n",
        "            stroke[\"gender\"]\n",
        "            .cast(StringType()))\\\n",
        ".withColumn(\"age\",stroke[\"age\"].cast(IntegerType()))    \\\n",
        ".withColumn(\"hypertension\", stroke[\"hypertension\"].cast(BooleanType()))    \\\n",
        ".withColumn(\"heart_disease\",stroke[\"heart_disease\"].cast(BooleanType()))    \\\n",
        ".withColumn(\"ever_married\",stroke[\"ever_married\"].cast(StringType()))    \\\n",
        ".withColumn(\"work_type\",stroke[\"work_type\"].cast(StringType()))    \\\n",
        ".withColumn(\"Residence_type\",stroke[\"Residence_type\"].cast(StringType()))    \\\n",
        ".withColumn(\"avg_glucose_level\",stroke[\"avg_glucose_level\"].cast(FloatType()))    \\\n",
        ".withColumn(\"bmi\",stroke[\"bmi\"].cast(FloatType()))    \\\n",
        ".withColumn(\"smoking_status\",stroke[\"smoking_status\"].cast(StringType()))    \\\n",
        ".withColumn(\"stroke\",stroke[\"stroke\"].cast(BooleanType()))    \\"
      ],
      "metadata": {
        "id": "BTDdfBnRXpGX"
      },
      "execution_count": 44,
      "outputs": []
    },
    {
      "cell_type": "code",
      "source": [
        "stroke.printSchema()"
      ],
      "metadata": {
        "colab": {
          "base_uri": "https://localhost:8080/"
        },
        "id": "KxNAvR17iMk3",
        "outputId": "5e5f2471-2d2d-4970-8f36-dbeb9ddea746"
      },
      "execution_count": 45,
      "outputs": [
        {
          "output_type": "stream",
          "name": "stdout",
          "text": [
            "root\n",
            " |-- Id: integer (nullable = true)\n",
            " |-- gender: string (nullable = true)\n",
            " |-- age: integer (nullable = true)\n",
            " |-- hypertension: boolean (nullable = true)\n",
            " |-- heart_disease: boolean (nullable = true)\n",
            " |-- ever_married: string (nullable = true)\n",
            " |-- work_type: string (nullable = true)\n",
            " |-- Residence_type: string (nullable = true)\n",
            " |-- avg_glucose_level: float (nullable = true)\n",
            " |-- bmi: float (nullable = true)\n",
            " |-- smoking_status: string (nullable = true)\n",
            " |-- stroke: boolean (nullable = true)\n",
            "\n"
          ]
        }
      ]
    },
    {
      "cell_type": "code",
      "source": [
        "stroke.select('stroke').where(stroke.stroke==\"1\").count()"
      ],
      "metadata": {
        "colab": {
          "base_uri": "https://localhost:8080/"
        },
        "id": "bolRBWTrn7th",
        "outputId": "d716d660-4370-4834-cd22-7ec011459351"
      },
      "execution_count": 46,
      "outputs": [
        {
          "output_type": "execute_result",
          "data": {
            "text/plain": [
              "40287"
            ]
          },
          "metadata": {},
          "execution_count": 46
        }
      ]
    },
    {
      "cell_type": "code",
      "source": [
        "stroke.select('stroke').where(stroke.stroke==\"0\").count()"
      ],
      "metadata": {
        "colab": {
          "base_uri": "https://localhost:8080/"
        },
        "id": "d2ojEikKoYRm",
        "outputId": "8ea34037-ab21-402c-b623-dcda4f93a3e2"
      },
      "execution_count": 47,
      "outputs": [
        {
          "output_type": "execute_result",
          "data": {
            "text/plain": [
              "26848"
            ]
          },
          "metadata": {},
          "execution_count": 47
        }
      ]
    },
    {
      "cell_type": "markdown",
      "source": [
        "A partir do dataframe, crie uma tabela temporária usando df.createOrReplaceTempView('table') e, a seguir, use spark.sql para escrever uma consulta SQL que obtenha quantos pacientes tiveram derrame por tipo de trabalho (work_type). Quantos pacientes que sofreram derrame trabalhavam, respectivamente, no setor privado, de forma independente, no governo e quantas são crianças?"
      ],
      "metadata": {
        "id": "CXUk3ewRrVOu"
      }
    },
    {
      "cell_type": "code",
      "source": [
        "stroke.createOrReplaceTempView('table') "
      ],
      "metadata": {
        "id": "HYOUXpRorWP0"
      },
      "execution_count": 48,
      "outputs": []
    },
    {
      "cell_type": "code",
      "source": [
        "from pyspark.sql.functions import *"
      ],
      "metadata": {
        "id": "6a2BOy2jk-xD"
      },
      "execution_count": 49,
      "outputs": []
    },
    {
      "cell_type": "code",
      "source": [
        "private = stroke.where(stroke.work_type == 'Private')\n",
        "private.count()"
      ],
      "metadata": {
        "colab": {
          "base_uri": "https://localhost:8080/"
        },
        "id": "mQwtch9o3r3J",
        "outputId": "1346c5c1-40af-4245-8d54-51553a34b8de"
      },
      "execution_count": 67,
      "outputs": [
        {
          "output_type": "execute_result",
          "data": {
            "text/plain": [
              "37806"
            ]
          },
          "metadata": {},
          "execution_count": 67
        }
      ]
    },
    {
      "cell_type": "code",
      "source": [
        "Self_employed = stroke.where(stroke.work_type == 'Self-employed')\n",
        "Self_employed.count()"
      ],
      "metadata": {
        "colab": {
          "base_uri": "https://localhost:8080/"
        },
        "id": "Jni4v6nBvpbK",
        "outputId": "de8bd25a-7851-4124-e60c-fde9a7355d0f"
      },
      "execution_count": 65,
      "outputs": [
        {
          "output_type": "execute_result",
          "data": {
            "text/plain": [
              "14736"
            ]
          },
          "metadata": {},
          "execution_count": 65
        }
      ]
    },
    {
      "cell_type": "code",
      "source": [
        "Govt_job = stroke.where(stroke.work_type == 'Govt_job')\n",
        "Govt_job.count()"
      ],
      "metadata": {
        "colab": {
          "base_uri": "https://localhost:8080/"
        },
        "id": "OqgoyK-VAoye",
        "outputId": "6200464c-f600-4764-de03-0e096fd1af79"
      },
      "execution_count": 69,
      "outputs": [
        {
          "output_type": "execute_result",
          "data": {
            "text/plain": [
              "8260"
            ]
          },
          "metadata": {},
          "execution_count": 69
        }
      ]
    },
    {
      "cell_type": "code",
      "source": [
        "children = stroke.where(stroke.work_type == 'children')\n",
        "children.count()"
      ],
      "metadata": {
        "colab": {
          "base_uri": "https://localhost:8080/"
        },
        "id": "jt8cvDD-ApWd",
        "outputId": "944e0d4f-7c39-445a-c75c-744f4b8847c4"
      },
      "execution_count": 71,
      "outputs": [
        {
          "output_type": "execute_result",
          "data": {
            "text/plain": [
              "6156"
            ]
          },
          "metadata": {},
          "execution_count": 71
        }
      ]
    }
  ]
}