{
  "nbformat": 4,
  "nbformat_minor": 0,
  "metadata": {
    "colab": {
      "name": "Desafio_Desenvolvimento de Soluções Utilizando Spark.ipynb",
      "provenance": [],
      "collapsed_sections": [],
      "authorship_tag": "ABX9TyObWENkUSIVFrqHYYMYv3NJ",
      "include_colab_link": true
    },
    "kernelspec": {
      "name": "python3",
      "display_name": "Python 3"
    },
    "language_info": {
      "name": "python"
    }
  },
  "cells": [
    {
      "cell_type": "markdown",
      "metadata": {
        "id": "view-in-github",
        "colab_type": "text"
      },
      "source": [
        "<a href=\"https://colab.research.google.com/github/vivirocha/Bootcamp_DataScience/blob/main/Desafio_Desenvolvimento_de_Solu%C3%A7%C3%B5es_Utilizando_Spark.ipynb\" target=\"_parent\"><img src=\"https://colab.research.google.com/assets/colab-badge.svg\" alt=\"Open In Colab\"/></a>"
      ]
    },
    {
      "cell_type": "markdown",
      "source": [
        "**Bootcamp Cientista de Dados - IGTI**\n",
        "\n",
        "Desafio - Módulo 2\n",
        "\n",
        "*Desenvolvendo Soluções Utilizando Apache Spark*"
      ],
      "metadata": {
        "id": "Z022aLb5bJ1H"
      }
    },
    {
      "cell_type": "markdown",
      "source": [
        "**Enunciado** <br>\n",
        "Doenças ligadas ao coração afetam milhões de pessoas ao redor do mundo e, segundo a Organização Mundial da Saúde (OMS), são a segunda principal causa de morte da população mundial. Como cientista de dados, você foi contratado para criar um modelo preditivo que, a partir de dados de pacientes como idade, gênero, nível de glicose, se o paciente fuma ou não, vai prever se aquele paciente terá um derrame cerebral ou não. <br>\n",
        "Você tem acesso a um arquivo que possui atributos de pacientes e um atributo “stroke” (derrame), que indica se aquele paciente sofreu um evento de derrame ou não. <br>\n",
        "O conjunto de dados está disponível em: https://dcc.ufmg.br/~pcalais/stroke_data.csv\n",
        "\n",
        "<br> \n",
        "\n",
        "Os dados estão distribuídos nas seguintes colunas: <br>\n",
        "**id** = valores únicos. <br>\n",
        "**gender** = feminino, masculino ou outro. <br>\n",
        "**age** = idade <br>\n",
        "**hypertensio.** = valores binários que mostram se o paciente é ou não hipertenso(0 = não, 1 = sim). <br>\n",
        "**heart_disease** =  valores binários que mostram se o paciente tem ou não alguma doença cardiáca (0 = não, 1 = sim). <br>\n",
        "**ever_married** = Sim ou Não. <br>\n",
        "**work_type** = \"children\", \"Govt_jov\", \"Never_worked\", \"Private\" ou \"Self-employed\". <br>\n",
        "**Residence_type** = Rural ou urbana. <br>\n",
        "**avg_glucose_level** = nível médio de glucose no sangue. <br>\n",
        "**bmi** = índice de massa corporal. <br>\n",
        "**smoking_status** = \"formerly smoked\", \"never smoked\", \"smokes\" ou \"Unknown\". <br> \n",
        "**stroke** = valores binários que mostram se o paciente teve derrame (1) ou não teve (0)."
      ],
      "metadata": {
        "id": "4tFtt2JrbLAI"
      }
    },
    {
      "cell_type": "code",
      "source": [
        "#Instalando spark\n",
        "!pip install spark"
      ],
      "metadata": {
        "colab": {
          "base_uri": "https://localhost:8080/"
        },
        "id": "jLVdzEe9m2TY",
        "outputId": "709bb17b-fe67-4c83-b04d-c592fe3f8b48"
      },
      "execution_count": 36,
      "outputs": [
        {
          "output_type": "stream",
          "name": "stdout",
          "text": [
            "Requirement already satisfied: spark in /usr/local/lib/python3.7/dist-packages (0.2.1)\n"
          ]
        }
      ]
    },
    {
      "cell_type": "code",
      "source": [
        "#Instalando pyspark\n",
        "!pip install pyspark"
      ],
      "metadata": {
        "colab": {
          "base_uri": "https://localhost:8080/"
        },
        "id": "Ssx-aLY0m2bC",
        "outputId": "ec8aaa2b-f38f-4552-93f2-05254f2a6f1f"
      },
      "execution_count": null,
      "outputs": [
        {
          "output_type": "stream",
          "name": "stdout",
          "text": [
            "Collecting pyspark\n",
            "  Downloading pyspark-3.2.1.tar.gz (281.4 MB)\n",
            "\u001b[K     |████████████████████████████████| 281.4 MB 35 kB/s \n",
            "\u001b[?25hCollecting py4j==0.10.9.3\n",
            "  Downloading py4j-0.10.9.3-py2.py3-none-any.whl (198 kB)\n",
            "\u001b[K     |████████████████████████████████| 198 kB 41.0 MB/s \n",
            "\u001b[?25hBuilding wheels for collected packages: pyspark\n",
            "  Building wheel for pyspark (setup.py) ... \u001b[?25l\u001b[?25hdone\n",
            "  Created wheel for pyspark: filename=pyspark-3.2.1-py2.py3-none-any.whl size=281853642 sha256=efb08790f1c58429a830495f53b2dda0fb518691fbcc177163ee2502d8fffdbc\n",
            "  Stored in directory: /root/.cache/pip/wheels/9f/f5/07/7cd8017084dce4e93e84e92efd1e1d5334db05f2e83bcef74f\n",
            "Successfully built pyspark\n",
            "Installing collected packages: py4j, pyspark\n",
            "Successfully installed py4j-0.10.9.3 pyspark-3.2.1\n"
          ]
        }
      ]
    },
    {
      "cell_type": "code",
      "source": [
        "from pyspark.context import SparkContext\n",
        "from pyspark.sql import SparkSession\n",
        "sc = SparkContext.getOrCreate()\n",
        "spark = SparkSession.builder.appName('Desafio_SolucoesSpark') \\\n",
        "                    .getOrCreate()"
      ],
      "metadata": {
        "id": "gu1s3HtGnHdg"
      },
      "execution_count": 37,
      "outputs": []
    },
    {
      "cell_type": "code",
      "source": [
        "#Lendo o arquivo .csv e criando um dataframe a partir dele.\n",
        "stroke = spark.read.csv('stroke_data.csv', \n",
        "                        sep=',', \n",
        "                        inferSchema=True,\n",
        "                        header=True).cache()"
      ],
      "metadata": {
        "id": "EfdKA2ivnOFK"
      },
      "execution_count": 38,
      "outputs": []
    },
    {
      "cell_type": "code",
      "source": [
        "stroke.show()"
      ],
      "metadata": {
        "colab": {
          "base_uri": "https://localhost:8080/"
        },
        "id": "YkIjAruyonD4",
        "outputId": "abc7baf8-43b7-4dc6-b066-799569e036f0"
      },
      "execution_count": 40,
      "outputs": [
        {
          "output_type": "stream",
          "name": "stdout",
          "text": [
            "+---+------+----+------------+-------------+------------+-------------+--------------+-----------------+-----+---------------+------+\n",
            "|  0|gender| age|hypertension|heart_disease|ever_married|    work_type|Residence_type|avg_glucose_level|  bmi| smoking_status|stroke|\n",
            "+---+------+----+------------+-------------+------------+-------------+--------------+-----------------+-----+---------------+------+\n",
            "|  1|Female|18.0|           0|            0|          No|      Private|         Urban|            94.19|12.12|         smokes|     1|\n",
            "|  2|  Male|58.0|           1|            0|         Yes|      Private|         Rural|           154.24| 33.7|   never_smoked|     0|\n",
            "|  3|Female|36.0|           0|            0|         Yes|     Govt_job|         Urban|            72.63| 24.7|         smokes|     0|\n",
            "|  4|Female|62.0|           0|            0|         Yes|Self-employed|         Rural|            85.52| 31.2|formerly smoked|     0|\n",
            "|  5|Female|82.0|           0|            0|         Yes|      Private|         Rural|            59.32| 33.2|         smokes|     1|\n",
            "|  6|Female|82.0|           0|            0|          No|     Govt_job|         Urban|            234.5| 24.0|formerly smoked|     0|\n",
            "|  7|Female|33.0|           0|            0|         Yes|Self-employed|         Urban|           193.42| 29.9|         smokes|     0|\n",
            "|  8|Female|37.0|           0|            0|         Yes|      Private|         Rural|            156.7| 36.9|         smokes|     1|\n",
            "|  9|Female|41.0|           0|            0|         Yes|     Govt_job|         Rural|            64.06| 33.8|         smokes|     1|\n",
            "| 10|Female|70.0|           0|            0|         Yes|Self-employed|         Rural|            76.34| 24.4|formerly smoked|     1|\n",
            "| 11|Female|25.0|           0|            0|          No|      Private|         Urban|            91.15| 28.7|         smokes|     1|\n",
            "| 12|Female|43.0|           1|            0|          No|Self-employed|         Rural|            60.12| 34.2|formerly smoked|     0|\n",
            "| 13|  Male|72.0|           0|            1|         Yes|      Private|         Rural|           235.22| 40.3|formerly smoked|     1|\n",
            "| 14|Female|20.0|           0|            0|          No|      Private|         Rural|           106.47| 33.7|         smokes|     1|\n",
            "| 15|  Male|20.0|           0|            0|          No|      Private|         Urban|           104.78| 20.3|         smokes|     1|\n",
            "| 16|  Male|41.0|           0|            0|         Yes|Self-employed|         Urban|            159.3| 34.6|         smokes|     1|\n",
            "| 17|Female|23.0|           0|            0|          No|      Private|         Urban|           116.95| 23.8|         smokes|     1|\n",
            "| 18|  Male|22.0|           0|            0|          No|Self-employed|         Rural|            72.05| 31.9|         smokes|     1|\n",
            "| 19|  Male|69.0|           0|            0|         Yes|      Private|         Rural|            64.06| 35.1|formerly smoked|     0|\n",
            "| 20|Female|44.0|           0|            0|         Yes|Self-employed|         Rural|           135.03| 36.1|         smokes|     1|\n",
            "+---+------+----+------------+-------------+------------+-------------+--------------+-----------------+-----+---------------+------+\n",
            "only showing top 20 rows\n",
            "\n"
          ]
        }
      ]
    },
    {
      "cell_type": "markdown",
      "source": [
        "Quantos registros existem no arquivo?"
      ],
      "metadata": {
        "id": "PLRYBKqwXEsv"
      }
    },
    {
      "cell_type": "code",
      "source": [
        "stroke.count()"
      ],
      "metadata": {
        "colab": {
          "base_uri": "https://localhost:8080/"
        },
        "id": "rtHb9lILo3OI",
        "outputId": "0fd4b31d-334c-4f31-909b-ae21630be437"
      },
      "execution_count": 41,
      "outputs": [
        {
          "output_type": "execute_result",
          "data": {
            "text/plain": [
              "67135"
            ]
          },
          "metadata": {},
          "execution_count": 41
        }
      ]
    },
    {
      "cell_type": "markdown",
      "source": [
        "Quantas colunas existem no arquivo? Quantas são numéricas? Ao ler o arquivo com spark.read.csv, habilite inferSchema=True. Use a função printSchema() da API de Dataframes."
      ],
      "metadata": {
        "id": "Uo_8yI_KXI2y"
      }
    },
    {
      "cell_type": "code",
      "source": [
        "stroke.printSchema()"
      ],
      "metadata": {
        "colab": {
          "base_uri": "https://localhost:8080/"
        },
        "id": "Adskt6EBUc5m",
        "outputId": "0a00f63f-37b5-44ea-95f5-33aabe628fee"
      },
      "execution_count": 42,
      "outputs": [
        {
          "output_type": "stream",
          "name": "stdout",
          "text": [
            "root\n",
            " |-- 0: integer (nullable = true)\n",
            " |-- gender: string (nullable = true)\n",
            " |-- age: double (nullable = true)\n",
            " |-- hypertension: integer (nullable = true)\n",
            " |-- heart_disease: integer (nullable = true)\n",
            " |-- ever_married: string (nullable = true)\n",
            " |-- work_type: string (nullable = true)\n",
            " |-- Residence_type: string (nullable = true)\n",
            " |-- avg_glucose_level: double (nullable = true)\n",
            " |-- bmi: double (nullable = true)\n",
            " |-- smoking_status: string (nullable = true)\n",
            " |-- stroke: integer (nullable = true)\n",
            "\n"
          ]
        }
      ]
    },
    {
      "cell_type": "code",
      "source": [
        "#Importando col a partir do pyspark.sql.functions\n",
        "from pyspark.sql.functions import col"
      ],
      "metadata": {
        "id": "EMzko0COiV0u"
      },
      "execution_count": 43,
      "outputs": []
    },
    {
      "cell_type": "code",
      "source": [
        "stroke = stroke.select(col(\"0\").alias(\"id\"), col(\"gender\").alias(\"gender\"), col(\"age\").alias(\"age\"), col(\"hypertension\").alias(\"hypertension\"),col(\"heart_disease\").alias(\"heart_disease\"),col(\"ever_married\").alias(\"ever_married\"),col(\"work_type\").alias(\"work_type\"),col(\"Residence_type\").alias(\"Residence_type\"),col(\"avg_glucose_level\").alias(\"avg_glucose_level\"),col(\"bmi\").alias(\"bmi\"), col(\"smoking_status\").alias(\"smoking_status\"),col(\"stroke\").alias(\"stroke\"))\n",
        "stroke.show()"
      ],
      "metadata": {
        "colab": {
          "base_uri": "https://localhost:8080/"
        },
        "id": "E4OUiTnLiWaX",
        "outputId": "56479131-4788-4d65-e694-c5b63259c9ad"
      },
      "execution_count": 44,
      "outputs": [
        {
          "output_type": "stream",
          "name": "stdout",
          "text": [
            "+---+------+----+------------+-------------+------------+-------------+--------------+-----------------+-----+---------------+------+\n",
            "| id|gender| age|hypertension|heart_disease|ever_married|    work_type|Residence_type|avg_glucose_level|  bmi| smoking_status|stroke|\n",
            "+---+------+----+------------+-------------+------------+-------------+--------------+-----------------+-----+---------------+------+\n",
            "|  1|Female|18.0|           0|            0|          No|      Private|         Urban|            94.19|12.12|         smokes|     1|\n",
            "|  2|  Male|58.0|           1|            0|         Yes|      Private|         Rural|           154.24| 33.7|   never_smoked|     0|\n",
            "|  3|Female|36.0|           0|            0|         Yes|     Govt_job|         Urban|            72.63| 24.7|         smokes|     0|\n",
            "|  4|Female|62.0|           0|            0|         Yes|Self-employed|         Rural|            85.52| 31.2|formerly smoked|     0|\n",
            "|  5|Female|82.0|           0|            0|         Yes|      Private|         Rural|            59.32| 33.2|         smokes|     1|\n",
            "|  6|Female|82.0|           0|            0|          No|     Govt_job|         Urban|            234.5| 24.0|formerly smoked|     0|\n",
            "|  7|Female|33.0|           0|            0|         Yes|Self-employed|         Urban|           193.42| 29.9|         smokes|     0|\n",
            "|  8|Female|37.0|           0|            0|         Yes|      Private|         Rural|            156.7| 36.9|         smokes|     1|\n",
            "|  9|Female|41.0|           0|            0|         Yes|     Govt_job|         Rural|            64.06| 33.8|         smokes|     1|\n",
            "| 10|Female|70.0|           0|            0|         Yes|Self-employed|         Rural|            76.34| 24.4|formerly smoked|     1|\n",
            "| 11|Female|25.0|           0|            0|          No|      Private|         Urban|            91.15| 28.7|         smokes|     1|\n",
            "| 12|Female|43.0|           1|            0|          No|Self-employed|         Rural|            60.12| 34.2|formerly smoked|     0|\n",
            "| 13|  Male|72.0|           0|            1|         Yes|      Private|         Rural|           235.22| 40.3|formerly smoked|     1|\n",
            "| 14|Female|20.0|           0|            0|          No|      Private|         Rural|           106.47| 33.7|         smokes|     1|\n",
            "| 15|  Male|20.0|           0|            0|          No|      Private|         Urban|           104.78| 20.3|         smokes|     1|\n",
            "| 16|  Male|41.0|           0|            0|         Yes|Self-employed|         Urban|            159.3| 34.6|         smokes|     1|\n",
            "| 17|Female|23.0|           0|            0|          No|      Private|         Urban|           116.95| 23.8|         smokes|     1|\n",
            "| 18|  Male|22.0|           0|            0|          No|Self-employed|         Rural|            72.05| 31.9|         smokes|     1|\n",
            "| 19|  Male|69.0|           0|            0|         Yes|      Private|         Rural|            64.06| 35.1|formerly smoked|     0|\n",
            "| 20|Female|44.0|           0|            0|         Yes|Self-employed|         Rural|           135.03| 36.1|         smokes|     1|\n",
            "+---+------+----+------------+-------------+------------+-------------+--------------+-----------------+-----+---------------+------+\n",
            "only showing top 20 rows\n",
            "\n"
          ]
        }
      ]
    },
    {
      "cell_type": "markdown",
      "source": [
        "No conjunto de dados, quantos pacientes sofreram e não sofreram derrame (stroke), respectivamente?\n",
        "Para descobrirmos a resposta para esta pergunta, primeiro vamos alterar o tipo das colunas para que as que tenham valores binários, tenham o tipo booleando."
      ],
      "metadata": {
        "id": "fKYcSwZiXNBq"
      }
    },
    {
      "cell_type": "code",
      "source": [
        "#Alterando o tipo das colunas\n",
        "from pyspark.sql.types import StringType, DateType, FloatType\n",
        "from pyspark.sql.types import BooleanType, IntegerType"
      ],
      "metadata": {
        "id": "3bgMv5OiXPWJ"
      },
      "execution_count": 45,
      "outputs": []
    },
    {
      "cell_type": "code",
      "source": [
        "stroke = stroke\\\n",
        ".withColumn('Id',\n",
        "            stroke['Id'].cast(IntegerType()))\\\n",
        ".withColumn(\"gender\",\n",
        "            stroke[\"gender\"]\n",
        "            .cast(StringType()))\\\n",
        ".withColumn(\"age\",stroke[\"age\"].cast(IntegerType()))    \\\n",
        ".withColumn(\"hypertension\", stroke[\"hypertension\"].cast(BooleanType()))    \\\n",
        ".withColumn(\"heart_disease\",stroke[\"heart_disease\"].cast(BooleanType()))    \\\n",
        ".withColumn(\"ever_married\",stroke[\"ever_married\"].cast(StringType()))    \\\n",
        ".withColumn(\"work_type\",stroke[\"work_type\"].cast(StringType()))    \\\n",
        ".withColumn(\"Residence_type\",stroke[\"Residence_type\"].cast(StringType()))    \\\n",
        ".withColumn(\"avg_glucose_level\",stroke[\"avg_glucose_level\"].cast(FloatType()))    \\\n",
        ".withColumn(\"bmi\",stroke[\"bmi\"].cast(FloatType()))    \\\n",
        ".withColumn(\"smoking_status\",stroke[\"smoking_status\"].cast(StringType()))    \\\n",
        ".withColumn(\"stroke\",stroke[\"stroke\"].cast(BooleanType()))    \\"
      ],
      "metadata": {
        "id": "BTDdfBnRXpGX"
      },
      "execution_count": 46,
      "outputs": []
    },
    {
      "cell_type": "code",
      "source": [
        "stroke.printSchema()"
      ],
      "metadata": {
        "colab": {
          "base_uri": "https://localhost:8080/"
        },
        "id": "KxNAvR17iMk3",
        "outputId": "75302792-63f4-4bb0-b175-890e09e9a041"
      },
      "execution_count": 47,
      "outputs": [
        {
          "output_type": "stream",
          "name": "stdout",
          "text": [
            "root\n",
            " |-- Id: integer (nullable = true)\n",
            " |-- gender: string (nullable = true)\n",
            " |-- age: integer (nullable = true)\n",
            " |-- hypertension: boolean (nullable = true)\n",
            " |-- heart_disease: boolean (nullable = true)\n",
            " |-- ever_married: string (nullable = true)\n",
            " |-- work_type: string (nullable = true)\n",
            " |-- Residence_type: string (nullable = true)\n",
            " |-- avg_glucose_level: float (nullable = true)\n",
            " |-- bmi: float (nullable = true)\n",
            " |-- smoking_status: string (nullable = true)\n",
            " |-- stroke: boolean (nullable = true)\n",
            "\n"
          ]
        }
      ]
    },
    {
      "cell_type": "code",
      "source": [
        "stroke.select('stroke').where(stroke.stroke==\"1\").count()"
      ],
      "metadata": {
        "colab": {
          "base_uri": "https://localhost:8080/"
        },
        "id": "bolRBWTrn7th",
        "outputId": "32c1ed80-8d65-46de-8632-975eedb8d015"
      },
      "execution_count": 48,
      "outputs": [
        {
          "output_type": "execute_result",
          "data": {
            "text/plain": [
              "40287"
            ]
          },
          "metadata": {},
          "execution_count": 48
        }
      ]
    },
    {
      "cell_type": "code",
      "source": [
        "stroke.select('stroke').where(stroke.stroke==\"0\").count()"
      ],
      "metadata": {
        "colab": {
          "base_uri": "https://localhost:8080/"
        },
        "id": "d2ojEikKoYRm",
        "outputId": "2a1689eb-d8d0-43bc-cc41-6700a6c10dd9"
      },
      "execution_count": 49,
      "outputs": [
        {
          "output_type": "execute_result",
          "data": {
            "text/plain": [
              "26848"
            ]
          },
          "metadata": {},
          "execution_count": 49
        }
      ]
    },
    {
      "cell_type": "markdown",
      "source": [
        "A partir do dataframe, crie uma tabela temporária usando df.createOrReplaceTempView('table') e, a seguir, use spark.sql para escrever uma consulta SQL que obtenha quantos pacientes tiveram derrame por tipo de trabalho (work_type). Quantos pacientes que sofreram derrame trabalhavam, respectivamente, no setor privado, de forma independente, no governo e quantas são crianças?"
      ],
      "metadata": {
        "id": "CXUk3ewRrVOu"
      }
    },
    {
      "cell_type": "code",
      "source": [
        "stroke.createOrReplaceTempView('table_stroke') "
      ],
      "metadata": {
        "id": "HYOUXpRorWP0"
      },
      "execution_count": 50,
      "outputs": []
    },
    {
      "cell_type": "code",
      "source": [
        "from pyspark.sql.functions import *"
      ],
      "metadata": {
        "id": "6a2BOy2jk-xD"
      },
      "execution_count": 51,
      "outputs": []
    },
    {
      "cell_type": "code",
      "source": [
        "table_stroke = stroke.createOrReplaceTempView('table_s')\n",
        "\n",
        "spark.sql('select work_type, count(*) qtd from table_s where stroke = 1 group by work_type order by qtd desc').show()"
      ],
      "metadata": {
        "colab": {
          "base_uri": "https://localhost:8080/"
        },
        "id": "htgdBU3yxciR",
        "outputId": "43c1ca90-daa2-46a8-999f-46533c236382"
      },
      "execution_count": 52,
      "outputs": [
        {
          "output_type": "stream",
          "name": "stdout",
          "text": [
            "+-------------+-----+\n",
            "|    work_type|  qtd|\n",
            "+-------------+-----+\n",
            "|      Private|23711|\n",
            "|Self-employed|10807|\n",
            "|     Govt_job| 5164|\n",
            "|     children|  520|\n",
            "| Never_worked|   85|\n",
            "+-------------+-----+\n",
            "\n"
          ]
        }
      ]
    },
    {
      "cell_type": "markdown",
      "source": [
        "Escreva uma consulta com spark.sql para determinar a proporção, por\n",
        "gênero, de participantes do estudo. A maioria dos participantes é:"
      ],
      "metadata": {
        "id": "Yr6aHMaq3Mpd"
      }
    },
    {
      "cell_type": "code",
      "source": [
        "spark.sql('select gender, count(*) qtd from table_s group by gender order by qtd desc').show()"
      ],
      "metadata": {
        "colab": {
          "base_uri": "https://localhost:8080/"
        },
        "id": "iPoappX20Q_U",
        "outputId": "fbf94613-503c-48c4-83d8-226853e9a83c"
      },
      "execution_count": 56,
      "outputs": [
        {
          "output_type": "stream",
          "name": "stdout",
          "text": [
            "+------+-----+\n",
            "|gender|  qtd|\n",
            "+------+-----+\n",
            "|Female|39530|\n",
            "|  Male|27594|\n",
            "| Other|   11|\n",
            "+------+-----+\n",
            "\n"
          ]
        }
      ]
    },
    {
      "cell_type": "markdown",
      "source": [
        "Escreva uma consulta com spark.sql para determinar quem tem mais\n",
        "probabilidade de sofrer derrame: hipertensos ou não-hipertensos. Você\n",
        "pode escrever uma consulta para cada grupo. A partir das\n",
        "probabilidades que você obteve, você conclui que:"
      ],
      "metadata": {
        "id": "jmGJ-vLe3OsI"
      }
    },
    {
      "cell_type": "code",
      "source": [
        "spark.sql('SELECT stroke, COUNT(*) qtd, (count(*) / (SELECT COUNT(*) from table_s WHERE hypertension = 1) * 100) perc FROM table_s WHERE hypertension = 1 GROUP BY stroke').show()"
      ],
      "metadata": {
        "colab": {
          "base_uri": "https://localhost:8080/"
        },
        "id": "tt8nw_Y02Zce",
        "outputId": "97327fd7-ae1f-4e6a-ed71-b0be5d92a55e"
      },
      "execution_count": 68,
      "outputs": [
        {
          "output_type": "stream",
          "name": "stdout",
          "text": [
            "+------+----+------------------+\n",
            "|stroke| qtd|              perc|\n",
            "+------+----+------------------+\n",
            "|  true|8817| 80.03086139602432|\n",
            "| false|2200|19.969138603975676|\n",
            "+------+----+------------------+\n",
            "\n"
          ]
        }
      ]
    },
    {
      "cell_type": "code",
      "source": [
        "spark.sql('SELECT stroke, COUNT(*) qtd, (count(*) / (SELECT COUNT(*) from table_s WHERE hypertension = 0) * 100) perc FROM table_s WHERE hypertension = 0 GROUP BY stroke').show()"
      ],
      "metadata": {
        "colab": {
          "base_uri": "https://localhost:8080/"
        },
        "id": "OjIMk9dC5ePs",
        "outputId": "9d962989-874b-4de2-bbe5-434650c423bd"
      },
      "execution_count": 73,
      "outputs": [
        {
          "output_type": "stream",
          "name": "stdout",
          "text": [
            "+------+-----+-----------------+\n",
            "|stroke|  qtd|             perc|\n",
            "+------+-----+-----------------+\n",
            "|  true|31470|56.07826365871913|\n",
            "| false|24648|43.92173634128087|\n",
            "+------+-----+-----------------+\n",
            "\n"
          ]
        }
      ]
    },
    {
      "cell_type": "markdown",
      "source": [
        "Escreva uma consulta com spark.sql que determine o número de\n",
        "pessoas que sofreram derrame por idade. Com qual idade o maior\n",
        "número de pessoas do conjunto de dados sofreu derrame?"
      ],
      "metadata": {
        "id": "l86MlPfA3QQm"
      }
    },
    {
      "cell_type": "markdown",
      "source": [
        "Usando a API de dataframes, determine quantas pessoas sofreram\n",
        "derrames após os 50 anos"
      ],
      "metadata": {
        "id": "YSF8RnHC3SEy"
      }
    },
    {
      "cell_type": "markdown",
      "source": [
        "Usando spark.sql, determine qual o nível médio de glicose para\n",
        "pessoas que, respectivamente, sofreram e não sofreram derrame.\n"
      ],
      "metadata": {
        "id": "-6R82cZF3U6j"
      }
    },
    {
      "cell_type": "markdown",
      "source": [
        "Qual é o BMI (IMC = índice de massa corpórea) médio de quem sofreu\n",
        "e não sofreu derrame?"
      ],
      "metadata": {
        "id": "YiRy-USQ3WZx"
      }
    },
    {
      "cell_type": "markdown",
      "source": [
        "Crie um modelo de árvore de decisão que prevê a chance de derrame\n",
        "(stroke) a partir das variáveis contínuas/categóricas: idade, BMI,\n",
        "hipertensão, doença do coração, nível médio de glicose. Use o\n",
        "conteúdo da Segunda Aula Interativa para criar e avaliar o modelo.\n",
        "Qual a acurácia de um modelo construído?"
      ],
      "metadata": {
        "id": "Rg_G9kqA3WUP"
      }
    },
    {
      "cell_type": "markdown",
      "source": [
        "Ajuste um modelo de árvore de decisão a partir de pelo menos as\n",
        "seguintes variáveis: gênero, fuma / não fuma, BMI, idade, hipertensão,\n",
        "doença do coração, nível médio de glicose. A acurácia deste modelo\n",
        "ficou entre:"
      ],
      "metadata": {
        "id": "2sHzdHX23Za1"
      }
    },
    {
      "cell_type": "markdown",
      "source": [
        "Qual dessas variáveis é mais importante no modelo de árvore de\n",
        "decisão que você construiu na questão 12?"
      ],
      "metadata": {
        "id": "jU6faicY3Zf-"
      }
    },
    {
      "cell_type": "markdown",
      "source": [
        "Qual a profundidade da árvore de decisão da questão 12?"
      ],
      "metadata": {
        "id": "u0l_X4vJ3db3"
      }
    },
    {
      "cell_type": "markdown",
      "source": [
        "Quantos atributos foram considerados na árvore?"
      ],
      "metadata": {
        "id": "HdRgB0oW3gTY"
      }
    }
  ]
}