{
  "nbformat": 4,
  "nbformat_minor": 0,
  "metadata": {
    "colab": {
      "name": "DesenvolvendoSoluçõesUtilizandoApacheSpark.ipynb",
      "provenance": [],
      "collapsed_sections": [],
      "authorship_tag": "ABX9TyMaICo+6hOoVoFh5mvTwxS7",
      "include_colab_link": true
    },
    "kernelspec": {
      "name": "python3",
      "display_name": "Python 3"
    },
    "language_info": {
      "name": "python"
    }
  },
  "cells": [
    {
      "cell_type": "markdown",
      "metadata": {
        "id": "view-in-github",
        "colab_type": "text"
      },
      "source": [
        "<a href=\"https://colab.research.google.com/github/vivirocha/Bootcamp_DataScience/blob/main/DesenvolvendoSolu%C3%A7%C3%B5esUtilizandoApacheSpark.ipynb\" target=\"_parent\"><img src=\"https://colab.research.google.com/assets/colab-badge.svg\" alt=\"Open In Colab\"/></a>"
      ]
    },
    {
      "cell_type": "markdown",
      "source": [
        "**Bootcamp Cientista de Dados - IGTI**\n",
        "\n",
        "Trabalho 1 - Módulo 2\n",
        "\n",
        "*Desenvolvendo Soluções Utilizando Apache Spark*\n"
      ],
      "metadata": {
        "id": "9-XRJBPk0Oxs"
      }
    },
    {
      "cell_type": "markdown",
      "source": [
        "**Enunciado** <br> \n",
        "Dados do mercado financeiro são interessantes e ricos: cada ação negociada na bolsa de valores tem um preço que varia a cada dia. Você foi contratado como cientista de dados de uma empresa de Wall Street para criar modelos preditivos que, a partir da variação diária do preço das ações, consigam subsidiar e melhorar decisões de compra e venda de ações. Você disse que, como todo bom cientista de dados, gostaria de explorar os dados para entender suas características antes de criar qualquer modelo preditivo. <br>\n",
        "\n",
        "Os dados estão disponíveis em https://www.kaggle.com/camnugent/sandp500/ por meio do arquivo all_stocks_5yr.csv. O arquivo contém, para cada dia e ação do S&P 500 (lista de 500 maiores empresas americanas), os seguintes dados: <br> \n",
        "● Date - no formato yy-mm-dd <br>\n",
        "● Open - Preço da ação na abertura do mercado no dia, em dólares. <br>\n",
        "● High - Maior preço alcançado naquele dia. <br>\n",
        "● Low - Menor preço alcançado naquele dia. <br>\n",
        "● Close - Preço da ação no fechamento do mercado no dia. <br>\n",
        "● Volume - Número de ações vendidas / compradas.<br>\n",
        "● Name - O nome da ação. <br>\n",
        "\n",
        "Apesar do volume de dados ser pequeno, você decidiu usar o Apache Spark para processar os dados para aprender a ferramenta, e tendo em vista que a sua empresa disse que, em breve, obterá dados por minuto, e não por dia, e de todas as ações do planeta, não apenas dos Estados Unidos. Neste caso, uma ferramenta desenhada para lidar com big data será necessária, e você já quer estar com o código pronto.\n"
      ],
      "metadata": {
        "id": "Dt4v31i72xuB"
      }
    },
    {
      "cell_type": "code",
      "execution_count": 69,
      "metadata": {
        "colab": {
          "base_uri": "https://localhost:8080/"
        },
        "id": "K_Fzh1T1r3w4",
        "outputId": "12ef195d-f3c2-4736-e7cc-860cd2fe77cc"
      },
      "outputs": [
        {
          "output_type": "stream",
          "name": "stdout",
          "text": [
            "Requirement already satisfied: spark in /usr/local/lib/python3.7/dist-packages (0.2.1)\n"
          ]
        }
      ],
      "source": [
        "#Instalando spark\n",
        "!pip install spark"
      ]
    },
    {
      "cell_type": "code",
      "source": [
        "#Instalando pyspark\n",
        "!pip install pyspark"
      ],
      "metadata": {
        "colab": {
          "base_uri": "https://localhost:8080/"
        },
        "id": "bKcoFQACzjFb",
        "outputId": "f147be29-a5cf-40c0-e73e-be2fe9898e87"
      },
      "execution_count": 70,
      "outputs": [
        {
          "output_type": "stream",
          "name": "stdout",
          "text": [
            "Requirement already satisfied: pyspark in /usr/local/lib/python3.7/dist-packages (3.2.1)\n",
            "Requirement already satisfied: py4j==0.10.9.3 in /usr/local/lib/python3.7/dist-packages (from pyspark) (0.10.9.3)\n"
          ]
        }
      ]
    },
    {
      "cell_type": "code",
      "source": [
        "from pyspark.context import SparkContext\n",
        "from pyspark.sql import SparkSession\n",
        "sc = SparkContext.getOrCreate()\n",
        "spark = SparkSession.builder.appName('SolucoesSpark') \\\n",
        "                    .getOrCreate()"
      ],
      "metadata": {
        "id": "lEg8Z0V8zh7L"
      },
      "execution_count": 71,
      "outputs": []
    },
    {
      "cell_type": "code",
      "source": [
        "#Lendo o arquivo .csv e criando um dataframe dele.\n",
        "df = spark.read.csv('all_stocks_5yr.csv', sep=',', header=True)"
      ],
      "metadata": {
        "id": "E-IKJR4I6ta3"
      },
      "execution_count": 72,
      "outputs": []
    },
    {
      "cell_type": "markdown",
      "source": [
        "Para visualizarmos os dados do nosso dataframe, utilizaremos o comando **.show()**."
      ],
      "metadata": {
        "id": "yDZtp7CpuXC1"
      }
    },
    {
      "cell_type": "code",
      "source": [
        "df.show(truncate=False)"
      ],
      "metadata": {
        "colab": {
          "base_uri": "https://localhost:8080/"
        },
        "id": "U5xoQUhb_8ZM",
        "outputId": "b72fb1ab-9340-4ae8-9def-e278cb79621b"
      },
      "execution_count": 73,
      "outputs": [
        {
          "output_type": "stream",
          "name": "stdout",
          "text": [
            "+----------+-----+-----+-----+-----+--------+----+\n",
            "|date      |open |high |low  |close|volume  |Name|\n",
            "+----------+-----+-----+-----+-----+--------+----+\n",
            "|2013-02-08|15.07|15.12|14.63|14.75|8407500 |AAL |\n",
            "|2013-02-11|14.89|15.01|14.26|14.46|8882000 |AAL |\n",
            "|2013-02-12|14.45|14.51|14.1 |14.27|8126000 |AAL |\n",
            "|2013-02-13|14.3 |14.94|14.25|14.66|10259500|AAL |\n",
            "|2013-02-14|14.94|14.96|13.16|13.99|31879900|AAL |\n",
            "|2013-02-15|13.93|14.61|13.93|14.5 |15628000|AAL |\n",
            "|2013-02-19|14.33|14.56|14.08|14.26|11354400|AAL |\n",
            "|2013-02-20|14.17|14.26|13.15|13.33|14725200|AAL |\n",
            "|2013-02-21|13.62|13.95|12.9 |13.37|11922100|AAL |\n",
            "|2013-02-22|13.57|13.6 |13.21|13.57|6071400 |AAL |\n",
            "|2013-02-25|13.6 |13.76|13.0 |13.02|7186400 |AAL |\n",
            "|2013-02-26|13.14|13.42|12.7 |13.26|9419000 |AAL |\n",
            "|2013-02-27|13.28|13.62|13.18|13.41|7390500 |AAL |\n",
            "|2013-02-28|13.49|13.63|13.39|13.43|6143600 |AAL |\n",
            "|2013-03-01|13.37|13.95|13.32|13.61|7376800 |AAL |\n",
            "|2013-03-04|13.5 |14.07|13.47|13.9 |8174800 |AAL |\n",
            "|2013-03-05|14.01|14.05|13.71|14.05|7676100 |AAL |\n",
            "|2013-03-06|14.52|14.68|14.25|14.57|13243200|AAL |\n",
            "|2013-03-07|14.7 |14.93|14.5 |14.82|9125300 |AAL |\n",
            "|2013-03-08|14.99|15.2 |14.84|14.92|10593700|AAL |\n",
            "+----------+-----+-----+-----+-----+--------+----+\n",
            "only showing top 20 rows\n",
            "\n"
          ]
        }
      ]
    },
    {
      "cell_type": "code",
      "source": [
        "df.printSchema()\n"
      ],
      "metadata": {
        "colab": {
          "base_uri": "https://localhost:8080/"
        },
        "id": "0iUYA8JOC_vp",
        "outputId": "f8c11700-4af2-40af-9050-2486ca01661e"
      },
      "execution_count": 76,
      "outputs": [
        {
          "output_type": "stream",
          "name": "stdout",
          "text": [
            "root\n",
            " |-- date: string (nullable = true)\n",
            " |-- open: string (nullable = true)\n",
            " |-- high: string (nullable = true)\n",
            " |-- low: string (nullable = true)\n",
            " |-- close: string (nullable = true)\n",
            " |-- volume: string (nullable = true)\n",
            " |-- Name: string (nullable = true)\n",
            "\n"
          ]
        }
      ]
    },
    {
      "cell_type": "markdown",
      "source": [
        "Iremos renomear as colunas. <br>\n",
        "Para renomearmos as colunas, usaremos o comando**.select(col('old_name').alias('new_name'))**. "
      ],
      "metadata": {
        "id": "HjobL5i-hzV8"
      }
    },
    {
      "cell_type": "code",
      "source": [
        "#Importando col a partir do pyspark.sql.functions\n",
        "from pyspark.sql.functions import col"
      ],
      "metadata": {
        "id": "DVq72QPZAiMd"
      },
      "execution_count": 77,
      "outputs": []
    },
    {
      "cell_type": "code",
      "source": [
        "df = df.select(col(\"date\").alias(\"data\"), col(\"open\").alias(\"abertura\"), col(\"high\").alias('maxima'), col('low').alias('minima'), col('close').alias('fechamento'), col('volume').alias('volume'), col('Name').alias('nome'))\n",
        "df.show()"
      ],
      "metadata": {
        "colab": {
          "base_uri": "https://localhost:8080/"
        },
        "id": "oDNAGJQg0uqY",
        "outputId": "f155783e-96c4-4222-8191-c11a12760449"
      },
      "execution_count": 78,
      "outputs": [
        {
          "output_type": "stream",
          "name": "stdout",
          "text": [
            "+----------+--------+------+------+----------+--------+----+\n",
            "|      data|abertura|maxima|minima|fechamento|  volume|nome|\n",
            "+----------+--------+------+------+----------+--------+----+\n",
            "|2013-02-08|   15.07| 15.12| 14.63|     14.75| 8407500| AAL|\n",
            "|2013-02-11|   14.89| 15.01| 14.26|     14.46| 8882000| AAL|\n",
            "|2013-02-12|   14.45| 14.51|  14.1|     14.27| 8126000| AAL|\n",
            "|2013-02-13|    14.3| 14.94| 14.25|     14.66|10259500| AAL|\n",
            "|2013-02-14|   14.94| 14.96| 13.16|     13.99|31879900| AAL|\n",
            "|2013-02-15|   13.93| 14.61| 13.93|      14.5|15628000| AAL|\n",
            "|2013-02-19|   14.33| 14.56| 14.08|     14.26|11354400| AAL|\n",
            "|2013-02-20|   14.17| 14.26| 13.15|     13.33|14725200| AAL|\n",
            "|2013-02-21|   13.62| 13.95|  12.9|     13.37|11922100| AAL|\n",
            "|2013-02-22|   13.57|  13.6| 13.21|     13.57| 6071400| AAL|\n",
            "|2013-02-25|    13.6| 13.76|  13.0|     13.02| 7186400| AAL|\n",
            "|2013-02-26|   13.14| 13.42|  12.7|     13.26| 9419000| AAL|\n",
            "|2013-02-27|   13.28| 13.62| 13.18|     13.41| 7390500| AAL|\n",
            "|2013-02-28|   13.49| 13.63| 13.39|     13.43| 6143600| AAL|\n",
            "|2013-03-01|   13.37| 13.95| 13.32|     13.61| 7376800| AAL|\n",
            "|2013-03-04|    13.5| 14.07| 13.47|      13.9| 8174800| AAL|\n",
            "|2013-03-05|   14.01| 14.05| 13.71|     14.05| 7676100| AAL|\n",
            "|2013-03-06|   14.52| 14.68| 14.25|     14.57|13243200| AAL|\n",
            "|2013-03-07|    14.7| 14.93|  14.5|     14.82| 9125300| AAL|\n",
            "|2013-03-08|   14.99|  15.2| 14.84|     14.92|10593700| AAL|\n",
            "+----------+--------+------+------+----------+--------+----+\n",
            "only showing top 20 rows\n",
            "\n"
          ]
        }
      ]
    },
    {
      "cell_type": "code",
      "source": [
        "#Alterando o tipo das colunas\n",
        "from pyspark.sql.types import StringType, DateType, FloatType\n",
        "from pyspark.sql.types import BooleanType, IntegerType\n"
      ],
      "metadata": {
        "id": "K7t48QAJ9z46"
      },
      "execution_count": 79,
      "outputs": []
    },
    {
      "cell_type": "code",
      "source": [
        "df = df \\\n",
        "  .withColumn(\"data\" ,\n",
        "              df[\"data\"]\n",
        "              .cast(DateType()))   \\\n",
        "  .withColumn(\"abertura\",\n",
        "              df[\"abertura\"]\n",
        "              .cast(FloatType()))    \\\n",
        "   .withColumn(\"maxima\",df[\"maxima\"]\n",
        "              .cast(FloatType()))    \\\n",
        "              .withColumn(\"minima\", df[\"minima\"].cast(FloatType()))    \\\n",
        "              .withColumn(\"fechamento\",\n",
        "              df[\"fechamento\"]\n",
        "              .cast(FloatType()))    \\\n",
        "              .withColumn(\"volume\",\n",
        "              df[\"volume\"]\n",
        "              .cast(IntegerType()))    \\\n",
        "              .withColumn(\"nome\",\n",
        "              df[\"nome\"]\n",
        "              .cast(BooleanType()))    \\\n"
      ],
      "metadata": {
        "id": "r_Jp7H3GKDlR"
      },
      "execution_count": 80,
      "outputs": []
    },
    {
      "cell_type": "code",
      "source": [
        "#Visualizando os tipos de dados de cada coluna após a alteração.\n",
        "df.printSchema()"
      ],
      "metadata": {
        "colab": {
          "base_uri": "https://localhost:8080/"
        },
        "id": "fNjw-wA9PuGO",
        "outputId": "dd2b30a5-dd58-4a74-d5a7-3833b1d49fd4"
      },
      "execution_count": 81,
      "outputs": [
        {
          "output_type": "stream",
          "name": "stdout",
          "text": [
            "root\n",
            " |-- data: date (nullable = true)\n",
            " |-- abertura: float (nullable = true)\n",
            " |-- maxima: float (nullable = true)\n",
            " |-- minima: float (nullable = true)\n",
            " |-- fechamento: float (nullable = true)\n",
            " |-- volume: integer (nullable = true)\n",
            " |-- nome: boolean (nullable = true)\n",
            "\n"
          ]
        }
      ]
    },
    {
      "cell_type": "markdown",
      "source": [
        "Limitaremos a visualização de apenas 5 observações."
      ],
      "metadata": {
        "id": "xTzRQ2A5v28g"
      }
    },
    {
      "cell_type": "code",
      "source": [
        "df.limit(5).toPandas()"
      ],
      "metadata": {
        "colab": {
          "base_uri": "https://localhost:8080/",
          "height": 206
        },
        "id": "6zsybI9LBffo",
        "outputId": "873272fa-d704-4796-8090-adb594858d6b"
      },
      "execution_count": 82,
      "outputs": [
        {
          "output_type": "execute_result",
          "data": {
            "text/html": [
              "\n",
              "  <div id=\"df-4a30f30b-1412-407f-bc79-fc0f1a20d99e\">\n",
              "    <div class=\"colab-df-container\">\n",
              "      <div>\n",
              "<style scoped>\n",
              "    .dataframe tbody tr th:only-of-type {\n",
              "        vertical-align: middle;\n",
              "    }\n",
              "\n",
              "    .dataframe tbody tr th {\n",
              "        vertical-align: top;\n",
              "    }\n",
              "\n",
              "    .dataframe thead th {\n",
              "        text-align: right;\n",
              "    }\n",
              "</style>\n",
              "<table border=\"1\" class=\"dataframe\">\n",
              "  <thead>\n",
              "    <tr style=\"text-align: right;\">\n",
              "      <th></th>\n",
              "      <th>data</th>\n",
              "      <th>abertura</th>\n",
              "      <th>maxima</th>\n",
              "      <th>minima</th>\n",
              "      <th>fechamento</th>\n",
              "      <th>volume</th>\n",
              "      <th>nome</th>\n",
              "    </tr>\n",
              "  </thead>\n",
              "  <tbody>\n",
              "    <tr>\n",
              "      <th>0</th>\n",
              "      <td>2013-02-08</td>\n",
              "      <td>15.07</td>\n",
              "      <td>15.12</td>\n",
              "      <td>14.63</td>\n",
              "      <td>14.75</td>\n",
              "      <td>8407500</td>\n",
              "      <td>None</td>\n",
              "    </tr>\n",
              "    <tr>\n",
              "      <th>1</th>\n",
              "      <td>2013-02-11</td>\n",
              "      <td>14.89</td>\n",
              "      <td>15.01</td>\n",
              "      <td>14.26</td>\n",
              "      <td>14.46</td>\n",
              "      <td>8882000</td>\n",
              "      <td>None</td>\n",
              "    </tr>\n",
              "    <tr>\n",
              "      <th>2</th>\n",
              "      <td>2013-02-12</td>\n",
              "      <td>14.45</td>\n",
              "      <td>14.51</td>\n",
              "      <td>14.10</td>\n",
              "      <td>14.27</td>\n",
              "      <td>8126000</td>\n",
              "      <td>None</td>\n",
              "    </tr>\n",
              "    <tr>\n",
              "      <th>3</th>\n",
              "      <td>2013-02-13</td>\n",
              "      <td>14.30</td>\n",
              "      <td>14.94</td>\n",
              "      <td>14.25</td>\n",
              "      <td>14.66</td>\n",
              "      <td>10259500</td>\n",
              "      <td>None</td>\n",
              "    </tr>\n",
              "    <tr>\n",
              "      <th>4</th>\n",
              "      <td>2013-02-14</td>\n",
              "      <td>14.94</td>\n",
              "      <td>14.96</td>\n",
              "      <td>13.16</td>\n",
              "      <td>13.99</td>\n",
              "      <td>31879900</td>\n",
              "      <td>None</td>\n",
              "    </tr>\n",
              "  </tbody>\n",
              "</table>\n",
              "</div>\n",
              "      <button class=\"colab-df-convert\" onclick=\"convertToInteractive('df-4a30f30b-1412-407f-bc79-fc0f1a20d99e')\"\n",
              "              title=\"Convert this dataframe to an interactive table.\"\n",
              "              style=\"display:none;\">\n",
              "        \n",
              "  <svg xmlns=\"http://www.w3.org/2000/svg\" height=\"24px\"viewBox=\"0 0 24 24\"\n",
              "       width=\"24px\">\n",
              "    <path d=\"M0 0h24v24H0V0z\" fill=\"none\"/>\n",
              "    <path d=\"M18.56 5.44l.94 2.06.94-2.06 2.06-.94-2.06-.94-.94-2.06-.94 2.06-2.06.94zm-11 1L8.5 8.5l.94-2.06 2.06-.94-2.06-.94L8.5 2.5l-.94 2.06-2.06.94zm10 10l.94 2.06.94-2.06 2.06-.94-2.06-.94-.94-2.06-.94 2.06-2.06.94z\"/><path d=\"M17.41 7.96l-1.37-1.37c-.4-.4-.92-.59-1.43-.59-.52 0-1.04.2-1.43.59L10.3 9.45l-7.72 7.72c-.78.78-.78 2.05 0 2.83L4 21.41c.39.39.9.59 1.41.59.51 0 1.02-.2 1.41-.59l7.78-7.78 2.81-2.81c.8-.78.8-2.07 0-2.86zM5.41 20L4 18.59l7.72-7.72 1.47 1.35L5.41 20z\"/>\n",
              "  </svg>\n",
              "      </button>\n",
              "      \n",
              "  <style>\n",
              "    .colab-df-container {\n",
              "      display:flex;\n",
              "      flex-wrap:wrap;\n",
              "      gap: 12px;\n",
              "    }\n",
              "\n",
              "    .colab-df-convert {\n",
              "      background-color: #E8F0FE;\n",
              "      border: none;\n",
              "      border-radius: 50%;\n",
              "      cursor: pointer;\n",
              "      display: none;\n",
              "      fill: #1967D2;\n",
              "      height: 32px;\n",
              "      padding: 0 0 0 0;\n",
              "      width: 32px;\n",
              "    }\n",
              "\n",
              "    .colab-df-convert:hover {\n",
              "      background-color: #E2EBFA;\n",
              "      box-shadow: 0px 1px 2px rgba(60, 64, 67, 0.3), 0px 1px 3px 1px rgba(60, 64, 67, 0.15);\n",
              "      fill: #174EA6;\n",
              "    }\n",
              "\n",
              "    [theme=dark] .colab-df-convert {\n",
              "      background-color: #3B4455;\n",
              "      fill: #D2E3FC;\n",
              "    }\n",
              "\n",
              "    [theme=dark] .colab-df-convert:hover {\n",
              "      background-color: #434B5C;\n",
              "      box-shadow: 0px 1px 3px 1px rgba(0, 0, 0, 0.15);\n",
              "      filter: drop-shadow(0px 1px 2px rgba(0, 0, 0, 0.3));\n",
              "      fill: #FFFFFF;\n",
              "    }\n",
              "  </style>\n",
              "\n",
              "      <script>\n",
              "        const buttonEl =\n",
              "          document.querySelector('#df-4a30f30b-1412-407f-bc79-fc0f1a20d99e button.colab-df-convert');\n",
              "        buttonEl.style.display =\n",
              "          google.colab.kernel.accessAllowed ? 'block' : 'none';\n",
              "\n",
              "        async function convertToInteractive(key) {\n",
              "          const element = document.querySelector('#df-4a30f30b-1412-407f-bc79-fc0f1a20d99e');\n",
              "          const dataTable =\n",
              "            await google.colab.kernel.invokeFunction('convertToInteractive',\n",
              "                                                     [key], {});\n",
              "          if (!dataTable) return;\n",
              "\n",
              "          const docLinkHtml = 'Like what you see? Visit the ' +\n",
              "            '<a target=\"_blank\" href=https://colab.research.google.com/notebooks/data_table.ipynb>data table notebook</a>'\n",
              "            + ' to learn more about interactive tables.';\n",
              "          element.innerHTML = '';\n",
              "          dataTable['output_type'] = 'display_data';\n",
              "          await google.colab.output.renderOutput(dataTable, element);\n",
              "          const docLink = document.createElement('div');\n",
              "          docLink.innerHTML = docLinkHtml;\n",
              "          element.appendChild(docLink);\n",
              "        }\n",
              "      </script>\n",
              "    </div>\n",
              "  </div>\n",
              "  "
            ],
            "text/plain": [
              "         data  abertura  maxima  minima  fechamento    volume  nome\n",
              "0  2013-02-08     15.07   15.12   14.63       14.75   8407500  None\n",
              "1  2013-02-11     14.89   15.01   14.26       14.46   8882000  None\n",
              "2  2013-02-12     14.45   14.51   14.10       14.27   8126000  None\n",
              "3  2013-02-13     14.30   14.94   14.25       14.66  10259500  None\n",
              "4  2013-02-14     14.94   14.96   13.16       13.99  31879900  None"
            ]
          },
          "metadata": {},
          "execution_count": 82
        }
      ]
    },
    {
      "cell_type": "markdown",
      "source": [
        "Iremos alterar a posição das colunas com o comando **.select()**."
      ],
      "metadata": {
        "id": "YQjVn8MPwA1x"
      }
    },
    {
      "cell_type": "code",
      "source": [
        "df = df.select('nome', 'data', 'abertura', 'maxima', 'minima', 'fechamento', 'volume')\n",
        "df.show()"
      ],
      "metadata": {
        "colab": {
          "base_uri": "https://localhost:8080/"
        },
        "id": "L5c3hpzxB8NT",
        "outputId": "35cd6dba-52d6-408f-b7b3-a825e8a9df70"
      },
      "execution_count": 83,
      "outputs": [
        {
          "output_type": "stream",
          "name": "stdout",
          "text": [
            "+----+----------+--------+------+------+----------+--------+\n",
            "|nome|      data|abertura|maxima|minima|fechamento|  volume|\n",
            "+----+----------+--------+------+------+----------+--------+\n",
            "|null|2013-02-08|   15.07| 15.12| 14.63|     14.75| 8407500|\n",
            "|null|2013-02-11|   14.89| 15.01| 14.26|     14.46| 8882000|\n",
            "|null|2013-02-12|   14.45| 14.51|  14.1|     14.27| 8126000|\n",
            "|null|2013-02-13|    14.3| 14.94| 14.25|     14.66|10259500|\n",
            "|null|2013-02-14|   14.94| 14.96| 13.16|     13.99|31879900|\n",
            "|null|2013-02-15|   13.93| 14.61| 13.93|      14.5|15628000|\n",
            "|null|2013-02-19|   14.33| 14.56| 14.08|     14.26|11354400|\n",
            "|null|2013-02-20|   14.17| 14.26| 13.15|     13.33|14725200|\n",
            "|null|2013-02-21|   13.62| 13.95|  12.9|     13.37|11922100|\n",
            "|null|2013-02-22|   13.57|  13.6| 13.21|     13.57| 6071400|\n",
            "|null|2013-02-25|    13.6| 13.76|  13.0|     13.02| 7186400|\n",
            "|null|2013-02-26|   13.14| 13.42|  12.7|     13.26| 9419000|\n",
            "|null|2013-02-27|   13.28| 13.62| 13.18|     13.41| 7390500|\n",
            "|null|2013-02-28|   13.49| 13.63| 13.39|     13.43| 6143600|\n",
            "|null|2013-03-01|   13.37| 13.95| 13.32|     13.61| 7376800|\n",
            "|null|2013-03-04|    13.5| 14.07| 13.47|      13.9| 8174800|\n",
            "|null|2013-03-05|   14.01| 14.05| 13.71|     14.05| 7676100|\n",
            "|null|2013-03-06|   14.52| 14.68| 14.25|     14.57|13243200|\n",
            "|null|2013-03-07|    14.7| 14.93|  14.5|     14.82| 9125300|\n",
            "|null|2013-03-08|   14.99|  15.2| 14.84|     14.92|10593700|\n",
            "+----+----------+--------+------+------+----------+--------+\n",
            "only showing top 20 rows\n",
            "\n"
          ]
        }
      ]
    },
    {
      "cell_type": "markdown",
      "source": [
        "Quantos registros há na planilha?\n",
        "\n",
        "Para respondermos essa questão podemos utilizar os comandos **.describe()** ou **.count()**."
      ],
      "metadata": {
        "id": "8tgra53e2wZK"
      }
    },
    {
      "cell_type": "code",
      "source": [
        "df.describe().show()\n"
      ],
      "metadata": {
        "colab": {
          "base_uri": "https://localhost:8080/"
        },
        "id": "bzB9I5DM3nb3",
        "outputId": "b005b659-de1f-4db9-b2f0-bcb4eb54781b"
      },
      "execution_count": 84,
      "outputs": [
        {
          "output_type": "stream",
          "name": "stdout",
          "text": [
            "+-------+-----------------+-----------------+-----------------+-----------------+-----------------+\n",
            "|summary|         abertura|           maxima|           minima|       fechamento|           volume|\n",
            "+-------+-----------------+-----------------+-----------------+-----------------+-----------------+\n",
            "|  count|           619029|           619032|           619032|           619040|           619040|\n",
            "|   mean| 83.0233343160683|83.77831069095873| 82.2560964206955|83.04376277067759|4321823.395568945|\n",
            "| stddev|97.37876902994715| 98.2075188299977|96.50742113042669|97.38974800596789|8693609.511967659|\n",
            "|    min|             1.62|             1.69|              1.5|             1.59|                0|\n",
            "|    max|           2044.0|          2067.99|          2035.11|           2049.0|        618237630|\n",
            "+-------+-----------------+-----------------+-----------------+-----------------+-----------------+\n",
            "\n"
          ]
        }
      ]
    },
    {
      "cell_type": "code",
      "source": [
        "df.count()"
      ],
      "metadata": {
        "colab": {
          "base_uri": "https://localhost:8080/"
        },
        "id": "Te-du17LFHDw",
        "outputId": "cc52c650-5c7e-49ab-e885-7d3f7d60434d"
      },
      "execution_count": 85,
      "outputs": [
        {
          "output_type": "execute_result",
          "data": {
            "text/plain": [
              "619040"
            ]
          },
          "metadata": {},
          "execution_count": 85
        }
      ]
    },
    {
      "cell_type": "markdown",
      "source": [
        "Quantos registros há na planilha para a ação da Apple (AAPL)?\n",
        "<br> \n",
        "\n",
        "\n",
        "Para selecionarmos dados específicos de uma coluna específica utilizaremos as funções em conjunto: **select, where, count**. <br>\n",
        "Então selecionaremos a coluna **nome**, onde exista nomes **igual a AAPL** *(ação da APPLE)* e **contaremos** quantas são."
      ],
      "metadata": {
        "id": "rpaMPimzGI9f"
      }
    },
    {
      "cell_type": "code",
      "source": [
        "df.select('nome').where(df.nome==\"AAPL\").count()"
      ],
      "metadata": {
        "colab": {
          "base_uri": "https://localhost:8080/"
        },
        "id": "9WmgL-F2Fao0",
        "outputId": "4bb67863-e58e-4a99-c0fe-8a681e58729d"
      },
      "execution_count": 86,
      "outputs": [
        {
          "output_type": "execute_result",
          "data": {
            "text/plain": [
              "0"
            ]
          },
          "metadata": {},
          "execution_count": 86
        }
      ]
    },
    {
      "cell_type": "markdown",
      "source": [
        "Quantas empresas distintas têm registros nessa planilha?\n",
        "\n",
        "Vamos importar a biblioteca countDistinct do pyspark.sql.functions.\n"
      ],
      "metadata": {
        "id": "Z77IdGPYHYnB"
      }
    },
    {
      "cell_type": "code",
      "source": [
        "#importando biblioteca para contagem de valores distintos \n",
        "from pyspark.sql.functions import countDistinct"
      ],
      "metadata": {
        "id": "7bcULGccLgRh"
      },
      "execution_count": 67,
      "outputs": []
    },
    {
      "cell_type": "markdown",
      "source": [
        "Criaremos uma variável para inserir os valores distintos da coluna **nome** e visualizaremos com o comando **.show()**\n",
        "\n",
        "\n"
      ],
      "metadata": {
        "id": "Luk4Ga2ZMpyV"
      }
    },
    {
      "cell_type": "code",
      "source": [
        "empresasdistintas = df.select(countDistinct(\"nome\"))\n",
        "empresasdistintas.show()"
      ],
      "metadata": {
        "colab": {
          "base_uri": "https://localhost:8080/"
        },
        "id": "biMFQTZ6HbkO",
        "outputId": "719518bd-53af-41d9-8333-2319ebf09ed8"
      },
      "execution_count": 68,
      "outputs": [
        {
          "output_type": "stream",
          "name": "stdout",
          "text": [
            "+--------------------+\n",
            "|count(DISTINCT nome)|\n",
            "+--------------------+\n",
            "|                   2|\n",
            "+--------------------+\n",
            "\n"
          ]
        }
      ]
    },
    {
      "cell_type": "markdown",
      "source": [
        "Com qual frequência o preço de uma ação no fechamento é maior do que o preço na abertura?\n",
        "\n",
        "Criaremos uma coluna (**fech_abert**) para verificarmos em quais observações o preço de fechamento é maior do que o preço da abertura.\n"
      ],
      "metadata": {
        "id": "P_0AOjRwM9lC"
      }
    },
    {
      "cell_type": "code",
      "source": [
        "df = df.withColumn(\"fech_abert\", col('fechamento') >col('abertura'))\n",
        "df.limit(5).toPandas()"
      ],
      "metadata": {
        "colab": {
          "base_uri": "https://localhost:8080/",
          "height": 206
        },
        "id": "3hUotytEl6Tt",
        "outputId": "7718f25c-79d3-40f3-eafa-1b1c3d94d3b7"
      },
      "execution_count": 19,
      "outputs": [
        {
          "output_type": "execute_result",
          "data": {
            "text/html": [
              "\n",
              "  <div id=\"df-4518c76b-ded7-4ea3-8e68-693040b81f99\">\n",
              "    <div class=\"colab-df-container\">\n",
              "      <div>\n",
              "<style scoped>\n",
              "    .dataframe tbody tr th:only-of-type {\n",
              "        vertical-align: middle;\n",
              "    }\n",
              "\n",
              "    .dataframe tbody tr th {\n",
              "        vertical-align: top;\n",
              "    }\n",
              "\n",
              "    .dataframe thead th {\n",
              "        text-align: right;\n",
              "    }\n",
              "</style>\n",
              "<table border=\"1\" class=\"dataframe\">\n",
              "  <thead>\n",
              "    <tr style=\"text-align: right;\">\n",
              "      <th></th>\n",
              "      <th>nome</th>\n",
              "      <th>data</th>\n",
              "      <th>abertura</th>\n",
              "      <th>maxima</th>\n",
              "      <th>minima</th>\n",
              "      <th>fechamento</th>\n",
              "      <th>volume</th>\n",
              "      <th>fech_abert</th>\n",
              "    </tr>\n",
              "  </thead>\n",
              "  <tbody>\n",
              "    <tr>\n",
              "      <th>0</th>\n",
              "      <td>None</td>\n",
              "      <td>2013-02-08</td>\n",
              "      <td>15.07</td>\n",
              "      <td>15.12</td>\n",
              "      <td>14.63</td>\n",
              "      <td>14.75</td>\n",
              "      <td>8407500</td>\n",
              "      <td>False</td>\n",
              "    </tr>\n",
              "    <tr>\n",
              "      <th>1</th>\n",
              "      <td>None</td>\n",
              "      <td>2013-02-11</td>\n",
              "      <td>14.89</td>\n",
              "      <td>15.01</td>\n",
              "      <td>14.26</td>\n",
              "      <td>14.46</td>\n",
              "      <td>8882000</td>\n",
              "      <td>False</td>\n",
              "    </tr>\n",
              "    <tr>\n",
              "      <th>2</th>\n",
              "      <td>None</td>\n",
              "      <td>2013-02-12</td>\n",
              "      <td>14.45</td>\n",
              "      <td>14.51</td>\n",
              "      <td>14.10</td>\n",
              "      <td>14.27</td>\n",
              "      <td>8126000</td>\n",
              "      <td>False</td>\n",
              "    </tr>\n",
              "    <tr>\n",
              "      <th>3</th>\n",
              "      <td>None</td>\n",
              "      <td>2013-02-13</td>\n",
              "      <td>14.30</td>\n",
              "      <td>14.94</td>\n",
              "      <td>14.25</td>\n",
              "      <td>14.66</td>\n",
              "      <td>10259500</td>\n",
              "      <td>True</td>\n",
              "    </tr>\n",
              "    <tr>\n",
              "      <th>4</th>\n",
              "      <td>None</td>\n",
              "      <td>2013-02-14</td>\n",
              "      <td>14.94</td>\n",
              "      <td>14.96</td>\n",
              "      <td>13.16</td>\n",
              "      <td>13.99</td>\n",
              "      <td>31879900</td>\n",
              "      <td>False</td>\n",
              "    </tr>\n",
              "  </tbody>\n",
              "</table>\n",
              "</div>\n",
              "      <button class=\"colab-df-convert\" onclick=\"convertToInteractive('df-4518c76b-ded7-4ea3-8e68-693040b81f99')\"\n",
              "              title=\"Convert this dataframe to an interactive table.\"\n",
              "              style=\"display:none;\">\n",
              "        \n",
              "  <svg xmlns=\"http://www.w3.org/2000/svg\" height=\"24px\"viewBox=\"0 0 24 24\"\n",
              "       width=\"24px\">\n",
              "    <path d=\"M0 0h24v24H0V0z\" fill=\"none\"/>\n",
              "    <path d=\"M18.56 5.44l.94 2.06.94-2.06 2.06-.94-2.06-.94-.94-2.06-.94 2.06-2.06.94zm-11 1L8.5 8.5l.94-2.06 2.06-.94-2.06-.94L8.5 2.5l-.94 2.06-2.06.94zm10 10l.94 2.06.94-2.06 2.06-.94-2.06-.94-.94-2.06-.94 2.06-2.06.94z\"/><path d=\"M17.41 7.96l-1.37-1.37c-.4-.4-.92-.59-1.43-.59-.52 0-1.04.2-1.43.59L10.3 9.45l-7.72 7.72c-.78.78-.78 2.05 0 2.83L4 21.41c.39.39.9.59 1.41.59.51 0 1.02-.2 1.41-.59l7.78-7.78 2.81-2.81c.8-.78.8-2.07 0-2.86zM5.41 20L4 18.59l7.72-7.72 1.47 1.35L5.41 20z\"/>\n",
              "  </svg>\n",
              "      </button>\n",
              "      \n",
              "  <style>\n",
              "    .colab-df-container {\n",
              "      display:flex;\n",
              "      flex-wrap:wrap;\n",
              "      gap: 12px;\n",
              "    }\n",
              "\n",
              "    .colab-df-convert {\n",
              "      background-color: #E8F0FE;\n",
              "      border: none;\n",
              "      border-radius: 50%;\n",
              "      cursor: pointer;\n",
              "      display: none;\n",
              "      fill: #1967D2;\n",
              "      height: 32px;\n",
              "      padding: 0 0 0 0;\n",
              "      width: 32px;\n",
              "    }\n",
              "\n",
              "    .colab-df-convert:hover {\n",
              "      background-color: #E2EBFA;\n",
              "      box-shadow: 0px 1px 2px rgba(60, 64, 67, 0.3), 0px 1px 3px 1px rgba(60, 64, 67, 0.15);\n",
              "      fill: #174EA6;\n",
              "    }\n",
              "\n",
              "    [theme=dark] .colab-df-convert {\n",
              "      background-color: #3B4455;\n",
              "      fill: #D2E3FC;\n",
              "    }\n",
              "\n",
              "    [theme=dark] .colab-df-convert:hover {\n",
              "      background-color: #434B5C;\n",
              "      box-shadow: 0px 1px 3px 1px rgba(0, 0, 0, 0.15);\n",
              "      filter: drop-shadow(0px 1px 2px rgba(0, 0, 0, 0.3));\n",
              "      fill: #FFFFFF;\n",
              "    }\n",
              "  </style>\n",
              "\n",
              "      <script>\n",
              "        const buttonEl =\n",
              "          document.querySelector('#df-4518c76b-ded7-4ea3-8e68-693040b81f99 button.colab-df-convert');\n",
              "        buttonEl.style.display =\n",
              "          google.colab.kernel.accessAllowed ? 'block' : 'none';\n",
              "\n",
              "        async function convertToInteractive(key) {\n",
              "          const element = document.querySelector('#df-4518c76b-ded7-4ea3-8e68-693040b81f99');\n",
              "          const dataTable =\n",
              "            await google.colab.kernel.invokeFunction('convertToInteractive',\n",
              "                                                     [key], {});\n",
              "          if (!dataTable) return;\n",
              "\n",
              "          const docLinkHtml = 'Like what you see? Visit the ' +\n",
              "            '<a target=\"_blank\" href=https://colab.research.google.com/notebooks/data_table.ipynb>data table notebook</a>'\n",
              "            + ' to learn more about interactive tables.';\n",
              "          element.innerHTML = '';\n",
              "          dataTable['output_type'] = 'display_data';\n",
              "          await google.colab.output.renderOutput(dataTable, element);\n",
              "          const docLink = document.createElement('div');\n",
              "          docLink.innerHTML = docLinkHtml;\n",
              "          element.appendChild(docLink);\n",
              "        }\n",
              "      </script>\n",
              "    </div>\n",
              "  </div>\n",
              "  "
            ],
            "text/plain": [
              "   nome        data  abertura  maxima  minima  fechamento    volume  fech_abert\n",
              "0  None  2013-02-08     15.07   15.12   14.63       14.75   8407500       False\n",
              "1  None  2013-02-11     14.89   15.01   14.26       14.46   8882000       False\n",
              "2  None  2013-02-12     14.45   14.51   14.10       14.27   8126000       False\n",
              "3  None  2013-02-13     14.30   14.94   14.25       14.66  10259500        True\n",
              "4  None  2013-02-14     14.94   14.96   13.16       13.99  31879900       False"
            ]
          },
          "metadata": {},
          "execution_count": 19
        }
      ]
    },
    {
      "cell_type": "markdown",
      "source": [
        "Vamos usar a função count para contarmos quantas vezes o fechamento foi maior que a abertura."
      ],
      "metadata": {
        "id": "onj9Ych8t9U0"
      }
    },
    {
      "cell_type": "code",
      "source": [
        "df.select('fech_abert').where(df.fech_abert==\"True\").count()\n"
      ],
      "metadata": {
        "colab": {
          "base_uri": "https://localhost:8080/"
        },
        "id": "ZjM7-EGRuEFk",
        "outputId": "974c4369-2660-471c-b464-87e5c835acd1"
      },
      "execution_count": 20,
      "outputs": [
        {
          "output_type": "execute_result",
          "data": {
            "text/plain": [
              "318970"
            ]
          },
          "metadata": {},
          "execution_count": 20
        }
      ]
    },
    {
      "cell_type": "markdown",
      "source": [
        "Então, dividiremos o resultado pelo total dos eventos e arredondaremos o resultado."
      ],
      "metadata": {
        "id": "0yHdt8HYuPyi"
      }
    },
    {
      "cell_type": "code",
      "source": [
        "porcentagem =  (318940/619040)*100\n",
        "round(porcentagem, 2)"
      ],
      "metadata": {
        "colab": {
          "base_uri": "https://localhost:8080/"
        },
        "id": "2s85zwNxuZ7H",
        "outputId": "3a25cbe8-e9a4-40f2-c8fd-c23f4706f0e6"
      },
      "execution_count": 21,
      "outputs": [
        {
          "output_type": "execute_result",
          "data": {
            "text/plain": [
              "51.52"
            ]
          },
          "metadata": {},
          "execution_count": 21
        }
      ]
    },
    {
      "cell_type": "markdown",
      "source": [
        "Qual o maior valor das ações da Apple (AAPL) na história? <br>\n",
        "Vamos criar uma variável com o nome **apple** e inseriremos dentro dela apenas a valores encontrados em **AAPL**. Faremos um agrupamento para localizarmos apenas a cotação máxima da ação desta empresa."
      ],
      "metadata": {
        "id": "0y2zjq3h6oUP"
      }
    },
    {
      "cell_type": "code",
      "source": [
        "#Filtrando pelo valor que desejamos encontrar.\n",
        "apple = df[df['nome']=='AAPL']"
      ],
      "metadata": {
        "id": "8ixrQUpXn5aX"
      },
      "execution_count": 22,
      "outputs": []
    },
    {
      "cell_type": "code",
      "source": [
        "#Agrupando por nome e procurando a maxima do valor que desejamos encontrar.\n",
        "apple.groupby('nome').agg({'maxima': 'max'}).show()"
      ],
      "metadata": {
        "colab": {
          "base_uri": "https://localhost:8080/"
        },
        "id": "n-9TgRi6FD54",
        "outputId": "60d2c25c-9ec4-49f0-cdbc-5e16b1088a02"
      },
      "execution_count": 23,
      "outputs": [
        {
          "output_type": "stream",
          "name": "stdout",
          "text": [
            "+----+-----------+\n",
            "|nome|max(maxima)|\n",
            "+----+-----------+\n",
            "+----+-----------+\n",
            "\n"
          ]
        }
      ]
    },
    {
      "cell_type": "markdown",
      "source": [
        "Qual ação tem a maior volatilidade? Uma forma é medir o desvio-padrão do preço de fechamento de cada ação e considerar a ação de maior desvio-padrão."
      ],
      "metadata": {
        "id": "NjiTrGoCpuPG"
      }
    },
    {
      "cell_type": "code",
      "source": [
        "#importando bibliotecas necessárias. \n",
        "from pyspark.sql.functions import stddev, sum, col, desc, max, min\n"
      ],
      "metadata": {
        "id": "4sOGYun7_C2A"
      },
      "execution_count": 24,
      "outputs": []
    },
    {
      "cell_type": "markdown",
      "source": [
        "Utilizaremos um conjunto de funções combinadas para encontrarmos a ação com maior desvio padrão.<br>\n",
        "**groupBy** para agrupar pelo nome da empresa. <br>\n",
        "**agg(stddev().alias()** para salvar o resultado do desvio padrão da coluna fechamento na própria coluna fechamento. <br>\n",
        "**sort(desc)** para ordenar por ordem decrescente. <br>\n",
        "**show()** para visualizarmos os resultados.\n"
      ],
      "metadata": {
        "id": "P5VBMPkYf3cr"
      }
    },
    {
      "cell_type": "code",
      "source": [
        "df.groupBy(\"nome\") \\\n",
        "  .agg(stddev(\"fechamento\").alias(\"fechamento\")) \\\n",
        "  .sort(desc(\"fechamento\")) \\\n",
        "  .show()"
      ],
      "metadata": {
        "colab": {
          "base_uri": "https://localhost:8080/"
        },
        "id": "AKjx8xP7ZQyE",
        "outputId": "26f7ebaa-6f8a-4ce3-e551-9f056a8db8a0"
      },
      "execution_count": 25,
      "outputs": [
        {
          "output_type": "stream",
          "name": "stdout",
          "text": [
            "+-----+------------------+\n",
            "| nome|        fechamento|\n",
            "+-----+------------------+\n",
            "| null|  97.5154988184303|\n",
            "| true|  2.79386052180569|\n",
            "|false|1.9572693543127926|\n",
            "+-----+------------------+\n",
            "\n"
          ]
        }
      ]
    },
    {
      "cell_type": "markdown",
      "source": [
        "Qual o dia com maior volume de negociação da bolsa?"
      ],
      "metadata": {
        "id": "WTPaU5QaNrb4"
      }
    },
    {
      "cell_type": "code",
      "source": [
        "df.groupBy(\"data\") \\\n",
        "  .agg(sum(\"volume\").alias(\"volume\")) \\\n",
        "  .sort(desc(\"volume\")) \\\n",
        "  .show()"
      ],
      "metadata": {
        "colab": {
          "base_uri": "https://localhost:8080/"
        },
        "id": "mcMI9Mlzw2Yn",
        "outputId": "7bcfbd80-3f9f-4917-b781-ae648db9a499"
      },
      "execution_count": 26,
      "outputs": [
        {
          "output_type": "stream",
          "name": "stdout",
          "text": [
            "+----------+----------+\n",
            "|      data|    volume|\n",
            "+----------+----------+\n",
            "|2015-08-24|4607945196|\n",
            "|2016-06-24|4367393052|\n",
            "|2015-12-18|4124454411|\n",
            "|2016-01-20|4087629753|\n",
            "|2018-02-06|4072080890|\n",
            "|2016-11-10|4060601612|\n",
            "|2014-10-15|3993171524|\n",
            "|2013-06-21|3983923288|\n",
            "|2015-09-18|3962050449|\n",
            "|2016-11-09|3915089371|\n",
            "|2016-01-15|3787884056|\n",
            "|2017-12-15|3786992731|\n",
            "|2016-02-08|3759709109|\n",
            "|2016-03-18|3755746256|\n",
            "|2016-01-29|3740170664|\n",
            "|2014-03-21|3611991561|\n",
            "|2018-02-05|3598437288|\n",
            "|2013-03-15|3569550899|\n",
            "|2016-12-16|3564871264|\n",
            "|2016-02-11|3547898496|\n",
            "+----------+----------+\n",
            "only showing top 20 rows\n",
            "\n"
          ]
        }
      ]
    },
    {
      "cell_type": "markdown",
      "source": [
        "Qual a ação mais negociada da bolsa, em volume de transações? \n"
      ],
      "metadata": {
        "id": "CN4dQ419T0Sj"
      }
    },
    {
      "cell_type": "code",
      "source": [
        "df.groupBy(\"nome\") \\\n",
        "  .agg(sum(\"volume\").alias(\"volume\")) \\\n",
        "  .sort(desc(\"volume\")) \\\n",
        "  .show()"
      ],
      "metadata": {
        "colab": {
          "base_uri": "https://localhost:8080/"
        },
        "id": "suQp3H05gwUZ",
        "outputId": "60609101-237c-44c3-e428-877069c8c459"
      },
      "execution_count": 27,
      "outputs": [
        {
          "output_type": "stream",
          "name": "stdout",
          "text": [
            "+-----+-------------+\n",
            "| nome|       volume|\n",
            "+-----+-------------+\n",
            "| null|2600142826728|\n",
            "|false|  43388129992|\n",
            "| true|  31850598073|\n",
            "+-----+-------------+\n",
            "\n"
          ]
        }
      ]
    },
    {
      "cell_type": "markdown",
      "source": [
        "Quantas ações começam com a letra “A”?\n"
      ],
      "metadata": {
        "id": "CDMgcG3ST2fY"
      }
    },
    {
      "cell_type": "code",
      "source": [
        "from pyspark.sql.functions import col, lit\n",
        "from functools import reduce"
      ],
      "metadata": {
        "id": "176gbz17GC7V"
      },
      "execution_count": 28,
      "outputs": []
    },
    {
      "cell_type": "code",
      "source": [
        "df.filter(df.nome.startswith(\"A\")).count()"
      ],
      "metadata": {
        "colab": {
          "base_uri": "https://localhost:8080/"
        },
        "id": "_9nzLP9ZxQFN",
        "outputId": "67caf91d-6d67-49b3-c8d1-66a037c4f047"
      },
      "execution_count": 32,
      "outputs": [
        {
          "output_type": "execute_result",
          "data": {
            "text/plain": [
              "0"
            ]
          },
          "metadata": {},
          "execution_count": 32
        }
      ]
    },
    {
      "cell_type": "code",
      "source": [
        "df.filter(df.nome.startswith(\"A\")).show()"
      ],
      "metadata": {
        "id": "n_1EtmGoJJT0",
        "colab": {
          "base_uri": "https://localhost:8080/"
        },
        "outputId": "1005eaee-e276-459c-fc52-44a4d220b771"
      },
      "execution_count": 30,
      "outputs": [
        {
          "output_type": "stream",
          "name": "stdout",
          "text": [
            "+----+----+--------+------+------+----------+------+----------+\n",
            "|nome|data|abertura|maxima|minima|fechamento|volume|fech_abert|\n",
            "+----+----+--------+------+------+----------+------+----------+\n",
            "+----+----+--------+------+------+----------+------+----------+\n",
            "\n"
          ]
        }
      ]
    },
    {
      "cell_type": "code",
      "source": [
        "a3 = df.filter(\"nome\").startsWith('A') \\\n"
      ],
      "metadata": {
        "colab": {
          "base_uri": "https://localhost:8080/",
          "height": 301
        },
        "id": "-mBeKrQeBAqi",
        "outputId": "58d8b2e0-56df-46e6-f36c-31bbe33e4caf"
      },
      "execution_count": 31,
      "outputs": [
        {
          "output_type": "error",
          "ename": "AttributeError",
          "evalue": "ignored",
          "traceback": [
            "\u001b[0;31m---------------------------------------------------------------------------\u001b[0m",
            "\u001b[0;31mAttributeError\u001b[0m                            Traceback (most recent call last)",
            "\u001b[0;32m<ipython-input-31-bdcae9d92968>\u001b[0m in \u001b[0;36m<module>\u001b[0;34m()\u001b[0m\n\u001b[0;32m----> 1\u001b[0;31m \u001b[0ma3\u001b[0m \u001b[0;34m=\u001b[0m \u001b[0mdf\u001b[0m\u001b[0;34m.\u001b[0m\u001b[0mfilter\u001b[0m\u001b[0;34m(\u001b[0m\u001b[0;34m\"nome\"\u001b[0m\u001b[0;34m)\u001b[0m\u001b[0;34m.\u001b[0m\u001b[0mstartsWith\u001b[0m\u001b[0;34m(\u001b[0m\u001b[0;34m'A'\u001b[0m\u001b[0;34m)\u001b[0m\u001b[0;34m\u001b[0m\u001b[0;34m\u001b[0m\u001b[0m\n\u001b[0m",
            "\u001b[0;32m/usr/local/lib/python3.7/dist-packages/pyspark/sql/dataframe.py\u001b[0m in \u001b[0;36m__getattr__\u001b[0;34m(self, name)\u001b[0m\n\u001b[1;32m   1658\u001b[0m         \u001b[0;32mif\u001b[0m \u001b[0mname\u001b[0m \u001b[0;32mnot\u001b[0m \u001b[0;32min\u001b[0m \u001b[0mself\u001b[0m\u001b[0;34m.\u001b[0m\u001b[0mcolumns\u001b[0m\u001b[0;34m:\u001b[0m\u001b[0;34m\u001b[0m\u001b[0;34m\u001b[0m\u001b[0m\n\u001b[1;32m   1659\u001b[0m             raise AttributeError(\n\u001b[0;32m-> 1660\u001b[0;31m                 \"'%s' object has no attribute '%s'\" % (self.__class__.__name__, name))\n\u001b[0m\u001b[1;32m   1661\u001b[0m         \u001b[0mjc\u001b[0m \u001b[0;34m=\u001b[0m \u001b[0mself\u001b[0m\u001b[0;34m.\u001b[0m\u001b[0m_jdf\u001b[0m\u001b[0;34m.\u001b[0m\u001b[0mapply\u001b[0m\u001b[0;34m(\u001b[0m\u001b[0mname\u001b[0m\u001b[0;34m)\u001b[0m\u001b[0;34m\u001b[0m\u001b[0;34m\u001b[0m\u001b[0m\n\u001b[1;32m   1662\u001b[0m         \u001b[0;32mreturn\u001b[0m \u001b[0mColumn\u001b[0m\u001b[0;34m(\u001b[0m\u001b[0mjc\u001b[0m\u001b[0;34m)\u001b[0m\u001b[0;34m\u001b[0m\u001b[0;34m\u001b[0m\u001b[0m\n",
            "\u001b[0;31mAttributeError\u001b[0m: 'DataFrame' object has no attribute 'startsWith'"
          ]
        }
      ]
    },
    {
      "cell_type": "code",
      "source": [
        "df.select('volume').describe().show()"
      ],
      "metadata": {
        "id": "uDys61m4l2IX"
      },
      "execution_count": null,
      "outputs": []
    },
    {
      "cell_type": "code",
      "source": [
        "df.groupBy(\"nome\", \"data\") \\\n",
        "  .agg(max(\"volume\").alias(\"volume\")) \\\n",
        "  .sort(desc(\"volume\")) \\\n",
        "  .show()"
      ],
      "metadata": {
        "id": "lP9GoMmfKLn7"
      },
      "execution_count": null,
      "outputs": []
    },
    {
      "cell_type": "code",
      "source": [
        "apple.groupby('nome').agg({'maxima': 'max'}).show()"
      ],
      "metadata": {
        "id": "ftWyzlb3JeOF"
      },
      "execution_count": null,
      "outputs": []
    },
    {
      "cell_type": "markdown",
      "source": [
        "Com qual frequência o preço mais alto do dia da ação também é o preço de fechamento?\n"
      ],
      "metadata": {
        "id": "E-EoRxnxT3tk"
      }
    },
    {
      "cell_type": "markdown",
      "source": [
        "Em qual dia a ação da Apple mais subiu até o fechamento, de forma absoluta?\n"
      ],
      "metadata": {
        "id": "z3w35YraT4_3"
      }
    },
    {
      "cell_type": "markdown",
      "source": [
        "Em média, qual o volume diário de transações das ações da AAPL?\n"
      ],
      "metadata": {
        "id": "Mt7lXDYpT7AM"
      }
    },
    {
      "cell_type": "markdown",
      "source": [
        "Quantas ações tem 1, 2, 3, 4 e 5 caracteres em seu nome, respectivamente?\n"
      ],
      "metadata": {
        "id": "gtNVzmALT8BX"
      }
    },
    {
      "cell_type": "markdown",
      "source": [
        "Qual a ação menos negociada da bolsa, em volume de transações?\n"
      ],
      "metadata": {
        "id": "tHxO0tnkT8Q4"
      }
    },
    {
      "cell_type": "markdown",
      "source": [
        "Com qual frequência o preço de fechamento é também o mais alto do dia?\n"
      ],
      "metadata": {
        "id": "E3QjS-CuT_Mr"
      }
    },
    {
      "cell_type": "code",
      "source": [
        "import pyspark.sql.functions"
      ],
      "metadata": {
        "id": "5M_ihFEGpWjB"
      },
      "execution_count": null,
      "outputs": []
    }
  ]
}