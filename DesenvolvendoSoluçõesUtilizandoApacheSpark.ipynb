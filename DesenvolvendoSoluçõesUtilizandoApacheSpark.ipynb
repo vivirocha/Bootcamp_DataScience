{
  "nbformat": 4,
  "nbformat_minor": 0,
  "metadata": {
    "colab": {
      "name": "DesenvolvendoSoluçõesUtilizandoApacheSpark.ipynb",
      "provenance": [],
      "collapsed_sections": [],
      "authorship_tag": "ABX9TyN3Z1taezcr2ubNtnU2VGII",
      "include_colab_link": true
    },
    "kernelspec": {
      "name": "python3",
      "display_name": "Python 3"
    },
    "language_info": {
      "name": "python"
    }
  },
  "cells": [
    {
      "cell_type": "markdown",
      "metadata": {
        "id": "view-in-github",
        "colab_type": "text"
      },
      "source": [
        "<a href=\"https://colab.research.google.com/github/vivirocha/Bootcamp_DataScience/blob/main/DesenvolvendoSolu%C3%A7%C3%B5esUtilizandoApacheSpark.ipynb\" target=\"_parent\"><img src=\"https://colab.research.google.com/assets/colab-badge.svg\" alt=\"Open In Colab\"/></a>"
      ]
    },
    {
      "cell_type": "markdown",
      "source": [
        "**Bootcamp Cientista de Dados - IGTI **\n",
        "\n",
        "Trabalho 1 - Módulo 2\n",
        "\n",
        "*Desenvolvendo Soluções Utilizando Apache Spark*\n"
      ],
      "metadata": {
        "id": "9-XRJBPk0Oxs"
      }
    },
    {
      "cell_type": "markdown",
      "source": [
        "**Enunciado** <br> \n",
        "Dados do mercado financeiro são interessantes e ricos: cada ação negociada na bolsa de valores tem um preço que varia a cada dia. Você foi contratado como cientista de dados de uma empresa de Wall Street para criar modelos preditivos que, a partir da variação diária do preço das ações, consigam subsidiar e melhorar decisões de compra e venda de ações. Você disse que, como todo bom cientista de dados, gostaria de explorar os dados para entender suas características antes de criar qualquer modelo preditivo. <br>\n",
        "\n",
        "Os dados estão disponíveis em https://www.kaggle.com/camnugent/sandp500/ por meio do arquivo all_stocks_5yr.csv. O arquivo contém, para cada dia e ação do S&P 500 (lista de 500 maiores empresas americanas), os seguintes dados: <br> \n",
        "● Date - no formato yy-mm-dd <br>\n",
        "● Open - Preço da ação na abertura do mercado no dia, em dólares. <br>\n",
        "● High - Maior preço alcançado naquele dia. <br>\n",
        "● Low - Menor preço alcançado naquele dia. <br>\n",
        "● Close - Preço da ação no fechamento do mercado no dia. <br>\n",
        "● Volume - Número de ações vendidas / compradas.<br>\n",
        "● Name - O nome da ação. <br>\n",
        "\n",
        "Apesar do volume de dados ser pequeno, você decidiu usar o Apache Spark para processar os dados para aprender a ferramenta, e tendo em vista que a sua empresa disse que, em breve, obterá dados por minuto, e não por dia, e de todas as ações do planeta, não apenas dos Estados Unidos. Neste caso, uma ferramenta desenhada para lidar com big data será necessária, e você já quer estar com o código pronto.\n"
      ],
      "metadata": {
        "id": "Dt4v31i72xuB"
      }
    },
    {
      "cell_type": "code",
      "execution_count": 1,
      "metadata": {
        "colab": {
          "base_uri": "https://localhost:8080/"
        },
        "id": "K_Fzh1T1r3w4",
        "outputId": "690e61ae-e4c9-4316-9e4d-e8fc6b7d4b29"
      },
      "outputs": [
        {
          "output_type": "stream",
          "name": "stdout",
          "text": [
            "Collecting spark\n",
            "  Downloading spark-0.2.1.tar.gz (41 kB)\n",
            "\u001b[?25l\r\u001b[K     |████████                        | 10 kB 22.3 MB/s eta 0:00:01\r\u001b[K     |████████████████                | 20 kB 12.6 MB/s eta 0:00:01\r\u001b[K     |████████████████████████        | 30 kB 6.7 MB/s eta 0:00:01\r\u001b[K     |████████████████████████████████| 40 kB 6.3 MB/s eta 0:00:01\r\u001b[K     |████████████████████████████████| 41 kB 65 kB/s \n",
            "\u001b[?25hBuilding wheels for collected packages: spark\n",
            "  Building wheel for spark (setup.py) ... \u001b[?25l\u001b[?25hdone\n",
            "  Created wheel for spark: filename=spark-0.2.1-py3-none-any.whl size=58762 sha256=3cda93e5e7c129824dfd6d82847d1443036f866f4155618a7ddc64380de7da41\n",
            "  Stored in directory: /root/.cache/pip/wheels/4e/0e/f1/164619f9920fb447d294afaae11a7715bd442ded7225953d72\n",
            "Successfully built spark\n",
            "Installing collected packages: spark\n",
            "Successfully installed spark-0.2.1\n"
          ]
        }
      ],
      "source": [
        "#Instalando spark\n",
        "!pip install spark"
      ]
    },
    {
      "cell_type": "code",
      "source": [
        "#Instalando pyspark\n",
        "!pip install pyspark"
      ],
      "metadata": {
        "colab": {
          "base_uri": "https://localhost:8080/"
        },
        "id": "bKcoFQACzjFb",
        "outputId": "79214c01-ee81-4870-ff2d-7130a7ef9c84"
      },
      "execution_count": 2,
      "outputs": [
        {
          "output_type": "stream",
          "name": "stdout",
          "text": [
            "Collecting pyspark\n",
            "  Downloading pyspark-3.2.1.tar.gz (281.4 MB)\n",
            "\u001b[K     |████████████████████████████████| 281.4 MB 36 kB/s \n",
            "\u001b[?25hCollecting py4j==0.10.9.3\n",
            "  Downloading py4j-0.10.9.3-py2.py3-none-any.whl (198 kB)\n",
            "\u001b[K     |████████████████████████████████| 198 kB 54.9 MB/s \n",
            "\u001b[?25hBuilding wheels for collected packages: pyspark\n",
            "  Building wheel for pyspark (setup.py) ... \u001b[?25l\u001b[?25hdone\n",
            "  Created wheel for pyspark: filename=pyspark-3.2.1-py2.py3-none-any.whl size=281853642 sha256=1a2d225b6a725fd2ae9c180f213dfd8219144e0f8c66b7636d173ada3c3d143b\n",
            "  Stored in directory: /root/.cache/pip/wheels/9f/f5/07/7cd8017084dce4e93e84e92efd1e1d5334db05f2e83bcef74f\n",
            "Successfully built pyspark\n",
            "Installing collected packages: py4j, pyspark\n",
            "Successfully installed py4j-0.10.9.3 pyspark-3.2.1\n"
          ]
        }
      ]
    },
    {
      "cell_type": "code",
      "source": [
        "from pyspark.context import SparkContext\n",
        "from pyspark.sql import SparkSession\n",
        "sc = SparkContext.getOrCreate()\n",
        "spark = SparkSession.builder.appName('SolucoesSpark') \\\n",
        "                    .getOrCreate()"
      ],
      "metadata": {
        "id": "lEg8Z0V8zh7L"
      },
      "execution_count": 37,
      "outputs": []
    },
    {
      "cell_type": "code",
      "source": [
        "#Importando biblioteca pandas\n",
        "import pandas as pd"
      ],
      "metadata": {
        "id": "18R6YFh0BnZM"
      },
      "execution_count": 4,
      "outputs": []
    },
    {
      "cell_type": "code",
      "source": [
        "#Lendo o arquivo .csv e criando um dataframe dele.\n",
        "df = spark.read.csv('all_stocks_5yr.csv', sep=',', header=True)"
      ],
      "metadata": {
        "id": "E-IKJR4I6ta3"
      },
      "execution_count": 5,
      "outputs": []
    },
    {
      "cell_type": "code",
      "source": [
        "df.show(truncate=False)"
      ],
      "metadata": {
        "colab": {
          "base_uri": "https://localhost:8080/"
        },
        "id": "U5xoQUhb_8ZM",
        "outputId": "fb9f6e86-16ed-4727-89f2-e99e41f301af"
      },
      "execution_count": 40,
      "outputs": [
        {
          "output_type": "stream",
          "name": "stdout",
          "text": [
            "+----+----------+--------+------+------+----------+--------+----------+\n",
            "|nome|data      |abertura|maxima|minima|fechamento|volume  |fech_abert|\n",
            "+----+----------+--------+------+------+----------+--------+----------+\n",
            "|AAL |2013-02-08|15.07   |15.12 |14.63 |14.75     |8407500 |false     |\n",
            "|AAL |2013-02-11|14.89   |15.01 |14.26 |14.46     |8882000 |false     |\n",
            "|AAL |2013-02-12|14.45   |14.51 |14.1  |14.27     |8126000 |false     |\n",
            "|AAL |2013-02-13|14.3    |14.94 |14.25 |14.66     |10259500|true      |\n",
            "|AAL |2013-02-14|14.94   |14.96 |13.16 |13.99     |31879900|false     |\n",
            "|AAL |2013-02-15|13.93   |14.61 |13.93 |14.5      |15628000|true      |\n",
            "|AAL |2013-02-19|14.33   |14.56 |14.08 |14.26     |11354400|false     |\n",
            "|AAL |2013-02-20|14.17   |14.26 |13.15 |13.33     |14725200|false     |\n",
            "|AAL |2013-02-21|13.62   |13.95 |12.9  |13.37     |11922100|false     |\n",
            "|AAL |2013-02-22|13.57   |13.6  |13.21 |13.57     |6071400 |false     |\n",
            "|AAL |2013-02-25|13.6    |13.76 |13.0  |13.02     |7186400 |false     |\n",
            "|AAL |2013-02-26|13.14   |13.42 |12.7  |13.26     |9419000 |true      |\n",
            "|AAL |2013-02-27|13.28   |13.62 |13.18 |13.41     |7390500 |true      |\n",
            "|AAL |2013-02-28|13.49   |13.63 |13.39 |13.43     |6143600 |false     |\n",
            "|AAL |2013-03-01|13.37   |13.95 |13.32 |13.61     |7376800 |true      |\n",
            "|AAL |2013-03-04|13.5    |14.07 |13.47 |13.9      |8174800 |true      |\n",
            "|AAL |2013-03-05|14.01   |14.05 |13.71 |14.05     |7676100 |true      |\n",
            "|AAL |2013-03-06|14.52   |14.68 |14.25 |14.57     |13243200|true      |\n",
            "|AAL |2013-03-07|14.7    |14.93 |14.5  |14.82     |9125300 |true      |\n",
            "|AAL |2013-03-08|14.99   |15.2  |14.84 |14.92     |10593700|false     |\n",
            "+----+----------+--------+------+------+----------+--------+----------+\n",
            "only showing top 20 rows\n",
            "\n"
          ]
        }
      ]
    },
    {
      "cell_type": "markdown",
      "source": [
        "Para visualizarmos os dados do nosso dataframe, utilizaremos o comando **.show()**."
      ],
      "metadata": {
        "id": "yDZtp7CpuXC1"
      }
    },
    {
      "cell_type": "code",
      "source": [
        "df.show()"
      ],
      "metadata": {
        "colab": {
          "base_uri": "https://localhost:8080/"
        },
        "id": "7oDMpLmj6aOe",
        "outputId": "2022fdd8-e33f-45ad-9974-af820c9fe412"
      },
      "execution_count": 6,
      "outputs": [
        {
          "output_type": "stream",
          "name": "stdout",
          "text": [
            "+----------+-----+-----+-----+-----+--------+----+\n",
            "|      date| open| high|  low|close|  volume|Name|\n",
            "+----------+-----+-----+-----+-----+--------+----+\n",
            "|2013-02-08|15.07|15.12|14.63|14.75| 8407500| AAL|\n",
            "|2013-02-11|14.89|15.01|14.26|14.46| 8882000| AAL|\n",
            "|2013-02-12|14.45|14.51| 14.1|14.27| 8126000| AAL|\n",
            "|2013-02-13| 14.3|14.94|14.25|14.66|10259500| AAL|\n",
            "|2013-02-14|14.94|14.96|13.16|13.99|31879900| AAL|\n",
            "|2013-02-15|13.93|14.61|13.93| 14.5|15628000| AAL|\n",
            "|2013-02-19|14.33|14.56|14.08|14.26|11354400| AAL|\n",
            "|2013-02-20|14.17|14.26|13.15|13.33|14725200| AAL|\n",
            "|2013-02-21|13.62|13.95| 12.9|13.37|11922100| AAL|\n",
            "|2013-02-22|13.57| 13.6|13.21|13.57| 6071400| AAL|\n",
            "|2013-02-25| 13.6|13.76| 13.0|13.02| 7186400| AAL|\n",
            "|2013-02-26|13.14|13.42| 12.7|13.26| 9419000| AAL|\n",
            "|2013-02-27|13.28|13.62|13.18|13.41| 7390500| AAL|\n",
            "|2013-02-28|13.49|13.63|13.39|13.43| 6143600| AAL|\n",
            "|2013-03-01|13.37|13.95|13.32|13.61| 7376800| AAL|\n",
            "|2013-03-04| 13.5|14.07|13.47| 13.9| 8174800| AAL|\n",
            "|2013-03-05|14.01|14.05|13.71|14.05| 7676100| AAL|\n",
            "|2013-03-06|14.52|14.68|14.25|14.57|13243200| AAL|\n",
            "|2013-03-07| 14.7|14.93| 14.5|14.82| 9125300| AAL|\n",
            "|2013-03-08|14.99| 15.2|14.84|14.92|10593700| AAL|\n",
            "+----------+-----+-----+-----+-----+--------+----+\n",
            "only showing top 20 rows\n",
            "\n"
          ]
        }
      ]
    },
    {
      "cell_type": "markdown",
      "source": [
        "Iremos renomear as colunas."
      ],
      "metadata": {
        "id": "gH9iz3nP5ruD"
      }
    },
    {
      "cell_type": "code",
      "source": [
        "#Importando col a partir do pyspark.sql.functions\n",
        "from pyspark.sql.functions import col"
      ],
      "metadata": {
        "id": "DVq72QPZAiMd"
      },
      "execution_count": 7,
      "outputs": []
    },
    {
      "cell_type": "code",
      "source": [
        "df = df.select(col(\"date\").alias(\"data\"), col(\"open\").alias(\"abertura\"), col(\"high\").alias('maxima'), col('low').alias('minima'), col('close').alias('fechamento'), col('volume').alias('volume'), col('Name').alias('nome'))\n",
        "df.show()"
      ],
      "metadata": {
        "colab": {
          "base_uri": "https://localhost:8080/"
        },
        "id": "oDNAGJQg0uqY",
        "outputId": "80d5b23a-1cfb-4e07-ec97-5355fb0bd362"
      },
      "execution_count": 8,
      "outputs": [
        {
          "output_type": "stream",
          "name": "stdout",
          "text": [
            "+----------+--------+------+------+----------+--------+----+\n",
            "|      data|abertura|maxima|minima|fechamento|  volume|nome|\n",
            "+----------+--------+------+------+----------+--------+----+\n",
            "|2013-02-08|   15.07| 15.12| 14.63|     14.75| 8407500| AAL|\n",
            "|2013-02-11|   14.89| 15.01| 14.26|     14.46| 8882000| AAL|\n",
            "|2013-02-12|   14.45| 14.51|  14.1|     14.27| 8126000| AAL|\n",
            "|2013-02-13|    14.3| 14.94| 14.25|     14.66|10259500| AAL|\n",
            "|2013-02-14|   14.94| 14.96| 13.16|     13.99|31879900| AAL|\n",
            "|2013-02-15|   13.93| 14.61| 13.93|      14.5|15628000| AAL|\n",
            "|2013-02-19|   14.33| 14.56| 14.08|     14.26|11354400| AAL|\n",
            "|2013-02-20|   14.17| 14.26| 13.15|     13.33|14725200| AAL|\n",
            "|2013-02-21|   13.62| 13.95|  12.9|     13.37|11922100| AAL|\n",
            "|2013-02-22|   13.57|  13.6| 13.21|     13.57| 6071400| AAL|\n",
            "|2013-02-25|    13.6| 13.76|  13.0|     13.02| 7186400| AAL|\n",
            "|2013-02-26|   13.14| 13.42|  12.7|     13.26| 9419000| AAL|\n",
            "|2013-02-27|   13.28| 13.62| 13.18|     13.41| 7390500| AAL|\n",
            "|2013-02-28|   13.49| 13.63| 13.39|     13.43| 6143600| AAL|\n",
            "|2013-03-01|   13.37| 13.95| 13.32|     13.61| 7376800| AAL|\n",
            "|2013-03-04|    13.5| 14.07| 13.47|      13.9| 8174800| AAL|\n",
            "|2013-03-05|   14.01| 14.05| 13.71|     14.05| 7676100| AAL|\n",
            "|2013-03-06|   14.52| 14.68| 14.25|     14.57|13243200| AAL|\n",
            "|2013-03-07|    14.7| 14.93|  14.5|     14.82| 9125300| AAL|\n",
            "|2013-03-08|   14.99|  15.2| 14.84|     14.92|10593700| AAL|\n",
            "+----------+--------+------+------+----------+--------+----+\n",
            "only showing top 20 rows\n",
            "\n"
          ]
        }
      ]
    },
    {
      "cell_type": "markdown",
      "source": [
        "Limitaremos a visualização de apenas 5 observações."
      ],
      "metadata": {
        "id": "xTzRQ2A5v28g"
      }
    },
    {
      "cell_type": "code",
      "source": [
        "df.limit(5).toPandas()"
      ],
      "metadata": {
        "colab": {
          "base_uri": "https://localhost:8080/",
          "height": 206
        },
        "id": "6zsybI9LBffo",
        "outputId": "b4f3057b-bdbf-4f9a-8a95-3cb906606585"
      },
      "execution_count": 9,
      "outputs": [
        {
          "output_type": "execute_result",
          "data": {
            "text/html": [
              "\n",
              "  <div id=\"df-cd89a9e3-b1d3-4886-9005-5bc62f6720f7\">\n",
              "    <div class=\"colab-df-container\">\n",
              "      <div>\n",
              "<style scoped>\n",
              "    .dataframe tbody tr th:only-of-type {\n",
              "        vertical-align: middle;\n",
              "    }\n",
              "\n",
              "    .dataframe tbody tr th {\n",
              "        vertical-align: top;\n",
              "    }\n",
              "\n",
              "    .dataframe thead th {\n",
              "        text-align: right;\n",
              "    }\n",
              "</style>\n",
              "<table border=\"1\" class=\"dataframe\">\n",
              "  <thead>\n",
              "    <tr style=\"text-align: right;\">\n",
              "      <th></th>\n",
              "      <th>data</th>\n",
              "      <th>abertura</th>\n",
              "      <th>maxima</th>\n",
              "      <th>minima</th>\n",
              "      <th>fechamento</th>\n",
              "      <th>volume</th>\n",
              "      <th>nome</th>\n",
              "    </tr>\n",
              "  </thead>\n",
              "  <tbody>\n",
              "    <tr>\n",
              "      <th>0</th>\n",
              "      <td>2013-02-08</td>\n",
              "      <td>15.07</td>\n",
              "      <td>15.12</td>\n",
              "      <td>14.63</td>\n",
              "      <td>14.75</td>\n",
              "      <td>8407500</td>\n",
              "      <td>AAL</td>\n",
              "    </tr>\n",
              "    <tr>\n",
              "      <th>1</th>\n",
              "      <td>2013-02-11</td>\n",
              "      <td>14.89</td>\n",
              "      <td>15.01</td>\n",
              "      <td>14.26</td>\n",
              "      <td>14.46</td>\n",
              "      <td>8882000</td>\n",
              "      <td>AAL</td>\n",
              "    </tr>\n",
              "    <tr>\n",
              "      <th>2</th>\n",
              "      <td>2013-02-12</td>\n",
              "      <td>14.45</td>\n",
              "      <td>14.51</td>\n",
              "      <td>14.1</td>\n",
              "      <td>14.27</td>\n",
              "      <td>8126000</td>\n",
              "      <td>AAL</td>\n",
              "    </tr>\n",
              "    <tr>\n",
              "      <th>3</th>\n",
              "      <td>2013-02-13</td>\n",
              "      <td>14.3</td>\n",
              "      <td>14.94</td>\n",
              "      <td>14.25</td>\n",
              "      <td>14.66</td>\n",
              "      <td>10259500</td>\n",
              "      <td>AAL</td>\n",
              "    </tr>\n",
              "    <tr>\n",
              "      <th>4</th>\n",
              "      <td>2013-02-14</td>\n",
              "      <td>14.94</td>\n",
              "      <td>14.96</td>\n",
              "      <td>13.16</td>\n",
              "      <td>13.99</td>\n",
              "      <td>31879900</td>\n",
              "      <td>AAL</td>\n",
              "    </tr>\n",
              "  </tbody>\n",
              "</table>\n",
              "</div>\n",
              "      <button class=\"colab-df-convert\" onclick=\"convertToInteractive('df-cd89a9e3-b1d3-4886-9005-5bc62f6720f7')\"\n",
              "              title=\"Convert this dataframe to an interactive table.\"\n",
              "              style=\"display:none;\">\n",
              "        \n",
              "  <svg xmlns=\"http://www.w3.org/2000/svg\" height=\"24px\"viewBox=\"0 0 24 24\"\n",
              "       width=\"24px\">\n",
              "    <path d=\"M0 0h24v24H0V0z\" fill=\"none\"/>\n",
              "    <path d=\"M18.56 5.44l.94 2.06.94-2.06 2.06-.94-2.06-.94-.94-2.06-.94 2.06-2.06.94zm-11 1L8.5 8.5l.94-2.06 2.06-.94-2.06-.94L8.5 2.5l-.94 2.06-2.06.94zm10 10l.94 2.06.94-2.06 2.06-.94-2.06-.94-.94-2.06-.94 2.06-2.06.94z\"/><path d=\"M17.41 7.96l-1.37-1.37c-.4-.4-.92-.59-1.43-.59-.52 0-1.04.2-1.43.59L10.3 9.45l-7.72 7.72c-.78.78-.78 2.05 0 2.83L4 21.41c.39.39.9.59 1.41.59.51 0 1.02-.2 1.41-.59l7.78-7.78 2.81-2.81c.8-.78.8-2.07 0-2.86zM5.41 20L4 18.59l7.72-7.72 1.47 1.35L5.41 20z\"/>\n",
              "  </svg>\n",
              "      </button>\n",
              "      \n",
              "  <style>\n",
              "    .colab-df-container {\n",
              "      display:flex;\n",
              "      flex-wrap:wrap;\n",
              "      gap: 12px;\n",
              "    }\n",
              "\n",
              "    .colab-df-convert {\n",
              "      background-color: #E8F0FE;\n",
              "      border: none;\n",
              "      border-radius: 50%;\n",
              "      cursor: pointer;\n",
              "      display: none;\n",
              "      fill: #1967D2;\n",
              "      height: 32px;\n",
              "      padding: 0 0 0 0;\n",
              "      width: 32px;\n",
              "    }\n",
              "\n",
              "    .colab-df-convert:hover {\n",
              "      background-color: #E2EBFA;\n",
              "      box-shadow: 0px 1px 2px rgba(60, 64, 67, 0.3), 0px 1px 3px 1px rgba(60, 64, 67, 0.15);\n",
              "      fill: #174EA6;\n",
              "    }\n",
              "\n",
              "    [theme=dark] .colab-df-convert {\n",
              "      background-color: #3B4455;\n",
              "      fill: #D2E3FC;\n",
              "    }\n",
              "\n",
              "    [theme=dark] .colab-df-convert:hover {\n",
              "      background-color: #434B5C;\n",
              "      box-shadow: 0px 1px 3px 1px rgba(0, 0, 0, 0.15);\n",
              "      filter: drop-shadow(0px 1px 2px rgba(0, 0, 0, 0.3));\n",
              "      fill: #FFFFFF;\n",
              "    }\n",
              "  </style>\n",
              "\n",
              "      <script>\n",
              "        const buttonEl =\n",
              "          document.querySelector('#df-cd89a9e3-b1d3-4886-9005-5bc62f6720f7 button.colab-df-convert');\n",
              "        buttonEl.style.display =\n",
              "          google.colab.kernel.accessAllowed ? 'block' : 'none';\n",
              "\n",
              "        async function convertToInteractive(key) {\n",
              "          const element = document.querySelector('#df-cd89a9e3-b1d3-4886-9005-5bc62f6720f7');\n",
              "          const dataTable =\n",
              "            await google.colab.kernel.invokeFunction('convertToInteractive',\n",
              "                                                     [key], {});\n",
              "          if (!dataTable) return;\n",
              "\n",
              "          const docLinkHtml = 'Like what you see? Visit the ' +\n",
              "            '<a target=\"_blank\" href=https://colab.research.google.com/notebooks/data_table.ipynb>data table notebook</a>'\n",
              "            + ' to learn more about interactive tables.';\n",
              "          element.innerHTML = '';\n",
              "          dataTable['output_type'] = 'display_data';\n",
              "          await google.colab.output.renderOutput(dataTable, element);\n",
              "          const docLink = document.createElement('div');\n",
              "          docLink.innerHTML = docLinkHtml;\n",
              "          element.appendChild(docLink);\n",
              "        }\n",
              "      </script>\n",
              "    </div>\n",
              "  </div>\n",
              "  "
            ],
            "text/plain": [
              "         data abertura maxima minima fechamento    volume nome\n",
              "0  2013-02-08    15.07  15.12  14.63      14.75   8407500  AAL\n",
              "1  2013-02-11    14.89  15.01  14.26      14.46   8882000  AAL\n",
              "2  2013-02-12    14.45  14.51   14.1      14.27   8126000  AAL\n",
              "3  2013-02-13     14.3  14.94  14.25      14.66  10259500  AAL\n",
              "4  2013-02-14    14.94  14.96  13.16      13.99  31879900  AAL"
            ]
          },
          "metadata": {},
          "execution_count": 9
        }
      ]
    },
    {
      "cell_type": "markdown",
      "source": [
        "Iremos alterar a posição das colunas com o comando **.select()**."
      ],
      "metadata": {
        "id": "YQjVn8MPwA1x"
      }
    },
    {
      "cell_type": "code",
      "source": [
        "df = df.select('nome', 'data', 'abertura', 'maxima', 'minima', 'fechamento', 'volume')\n",
        "df.show()"
      ],
      "metadata": {
        "colab": {
          "base_uri": "https://localhost:8080/"
        },
        "id": "L5c3hpzxB8NT",
        "outputId": "e25cecac-2fd7-4fce-b11a-2f008f8eefce"
      },
      "execution_count": 10,
      "outputs": [
        {
          "output_type": "stream",
          "name": "stdout",
          "text": [
            "+----+----------+--------+------+------+----------+--------+\n",
            "|nome|      data|abertura|maxima|minima|fechamento|  volume|\n",
            "+----+----------+--------+------+------+----------+--------+\n",
            "| AAL|2013-02-08|   15.07| 15.12| 14.63|     14.75| 8407500|\n",
            "| AAL|2013-02-11|   14.89| 15.01| 14.26|     14.46| 8882000|\n",
            "| AAL|2013-02-12|   14.45| 14.51|  14.1|     14.27| 8126000|\n",
            "| AAL|2013-02-13|    14.3| 14.94| 14.25|     14.66|10259500|\n",
            "| AAL|2013-02-14|   14.94| 14.96| 13.16|     13.99|31879900|\n",
            "| AAL|2013-02-15|   13.93| 14.61| 13.93|      14.5|15628000|\n",
            "| AAL|2013-02-19|   14.33| 14.56| 14.08|     14.26|11354400|\n",
            "| AAL|2013-02-20|   14.17| 14.26| 13.15|     13.33|14725200|\n",
            "| AAL|2013-02-21|   13.62| 13.95|  12.9|     13.37|11922100|\n",
            "| AAL|2013-02-22|   13.57|  13.6| 13.21|     13.57| 6071400|\n",
            "| AAL|2013-02-25|    13.6| 13.76|  13.0|     13.02| 7186400|\n",
            "| AAL|2013-02-26|   13.14| 13.42|  12.7|     13.26| 9419000|\n",
            "| AAL|2013-02-27|   13.28| 13.62| 13.18|     13.41| 7390500|\n",
            "| AAL|2013-02-28|   13.49| 13.63| 13.39|     13.43| 6143600|\n",
            "| AAL|2013-03-01|   13.37| 13.95| 13.32|     13.61| 7376800|\n",
            "| AAL|2013-03-04|    13.5| 14.07| 13.47|      13.9| 8174800|\n",
            "| AAL|2013-03-05|   14.01| 14.05| 13.71|     14.05| 7676100|\n",
            "| AAL|2013-03-06|   14.52| 14.68| 14.25|     14.57|13243200|\n",
            "| AAL|2013-03-07|    14.7| 14.93|  14.5|     14.82| 9125300|\n",
            "| AAL|2013-03-08|   14.99|  15.2| 14.84|     14.92|10593700|\n",
            "+----+----------+--------+------+------+----------+--------+\n",
            "only showing top 20 rows\n",
            "\n"
          ]
        }
      ]
    },
    {
      "cell_type": "markdown",
      "source": [
        "Quantos registros há na planilha?\n",
        "\n",
        "Para respondermos essa questão podemos utilizar os comandos **.describe()** ou **.count()**."
      ],
      "metadata": {
        "id": "8tgra53e2wZK"
      }
    },
    {
      "cell_type": "code",
      "source": [
        "df.describe().show()\n"
      ],
      "metadata": {
        "colab": {
          "base_uri": "https://localhost:8080/"
        },
        "id": "bzB9I5DM3nb3",
        "outputId": "e98c65c8-3019-496f-b8be-de4beacb2cf1"
      },
      "execution_count": 11,
      "outputs": [
        {
          "output_type": "stream",
          "name": "stdout",
          "text": [
            "+-------+------+----------+-----------------+-----------------+-----------------+-----------------+-----------------+\n",
            "|summary|  nome|      data|         abertura|           maxima|           minima|       fechamento|           volume|\n",
            "+-------+------+----------+-----------------+-----------------+-----------------+-----------------+-----------------+\n",
            "|  count|619040|    619040|           619029|           619032|           619032|           619040|           619040|\n",
            "|   mean|  null|      null|83.02333431454696|83.77831069346465|82.25609641375786|83.04376276476573|4321823.395568945|\n",
            "| stddev|  null|      null| 97.3787690433231|  98.207518904464| 96.5074210580914|97.38974800165752|8693609.511967659|\n",
            "|    min|     A|2013-02-08|             1.62|             1.69|              1.5|             1.59|                0|\n",
            "|    max|   ZTS|2018-02-07|           999.47|           999.75|           999.48|            999.6|           999994|\n",
            "+-------+------+----------+-----------------+-----------------+-----------------+-----------------+-----------------+\n",
            "\n"
          ]
        }
      ]
    },
    {
      "cell_type": "code",
      "source": [
        "df.count()"
      ],
      "metadata": {
        "colab": {
          "base_uri": "https://localhost:8080/"
        },
        "id": "Te-du17LFHDw",
        "outputId": "80ed9109-65d2-41ee-f96f-e64548d7d2cb"
      },
      "execution_count": 12,
      "outputs": [
        {
          "output_type": "execute_result",
          "data": {
            "text/plain": [
              "619040"
            ]
          },
          "metadata": {},
          "execution_count": 12
        }
      ]
    },
    {
      "cell_type": "markdown",
      "source": [
        "Quantos registros há na planilha para a ação da Apple (AAPL)?\n",
        "<br> \n",
        "\n",
        "\n",
        "Para selecionarmos dados específicos de uma coluna específica utilizaremos as funções em conjunto: **select, where, count**. <br>\n",
        "Então selecionaremos a coluna **nome**, onde exista nomes **igual a AAPL** *(ação da APPLE)* e **contaremos** quantas são."
      ],
      "metadata": {
        "id": "rpaMPimzGI9f"
      }
    },
    {
      "cell_type": "code",
      "source": [
        "df.select('nome').where(df.nome==\"AAPL\").count()"
      ],
      "metadata": {
        "colab": {
          "base_uri": "https://localhost:8080/"
        },
        "id": "9WmgL-F2Fao0",
        "outputId": "b0140148-c731-48c5-f95d-10cb7c48d22c"
      },
      "execution_count": 13,
      "outputs": [
        {
          "output_type": "execute_result",
          "data": {
            "text/plain": [
              "1259"
            ]
          },
          "metadata": {},
          "execution_count": 13
        }
      ]
    },
    {
      "cell_type": "markdown",
      "source": [
        "Quantas empresas distintas têm registros nessa planilha?\n",
        "\n",
        "Vamos importar a biblioteca countDistinct do pyspark.sql.functions.\n"
      ],
      "metadata": {
        "id": "Z77IdGPYHYnB"
      }
    },
    {
      "cell_type": "code",
      "source": [
        "#importando biblioteca para contagem de valores distintos \n",
        "from pyspark.sql.functions import countDistinct"
      ],
      "metadata": {
        "id": "7bcULGccLgRh"
      },
      "execution_count": 14,
      "outputs": []
    },
    {
      "cell_type": "markdown",
      "source": [
        "Criaremos uma variável para inserir os valores distintos da coluna **nome** e visualizaremos com o comando **.show()**\n",
        "\n",
        "\n"
      ],
      "metadata": {
        "id": "Luk4Ga2ZMpyV"
      }
    },
    {
      "cell_type": "code",
      "source": [
        "empresasdistintas = df.select(countDistinct(\"nome\"))\n",
        "empresasdistintas.show()"
      ],
      "metadata": {
        "colab": {
          "base_uri": "https://localhost:8080/"
        },
        "id": "biMFQTZ6HbkO",
        "outputId": "563a1852-a558-4024-ea7a-ffb12e9a34bb"
      },
      "execution_count": 15,
      "outputs": [
        {
          "output_type": "stream",
          "name": "stdout",
          "text": [
            "+--------------------+\n",
            "|count(DISTINCT nome)|\n",
            "+--------------------+\n",
            "|                 505|\n",
            "+--------------------+\n",
            "\n"
          ]
        }
      ]
    },
    {
      "cell_type": "markdown",
      "source": [
        "Com qual frequência o preço de uma ação no fechamento é maior do que o preço na abertura?\n",
        "\n",
        "Criaremos uma coluna (**fech_abert**) para verificarmos em quais observações o preço de fechamento é maior do que o preço da abertura.\n"
      ],
      "metadata": {
        "id": "P_0AOjRwM9lC"
      }
    },
    {
      "cell_type": "code",
      "source": [
        "df = df.withColumn(\"fech_abert\", col('fechamento') >col('abertura'))\n",
        "df.limit(5).toPandas()"
      ],
      "metadata": {
        "colab": {
          "base_uri": "https://localhost:8080/",
          "height": 206
        },
        "id": "3hUotytEl6Tt",
        "outputId": "8d6ce04b-03fb-42b3-ac66-87b6945da8a3"
      },
      "execution_count": 16,
      "outputs": [
        {
          "output_type": "execute_result",
          "data": {
            "text/html": [
              "\n",
              "  <div id=\"df-e44f6873-9930-462c-aaf8-429cf2ed4cd0\">\n",
              "    <div class=\"colab-df-container\">\n",
              "      <div>\n",
              "<style scoped>\n",
              "    .dataframe tbody tr th:only-of-type {\n",
              "        vertical-align: middle;\n",
              "    }\n",
              "\n",
              "    .dataframe tbody tr th {\n",
              "        vertical-align: top;\n",
              "    }\n",
              "\n",
              "    .dataframe thead th {\n",
              "        text-align: right;\n",
              "    }\n",
              "</style>\n",
              "<table border=\"1\" class=\"dataframe\">\n",
              "  <thead>\n",
              "    <tr style=\"text-align: right;\">\n",
              "      <th></th>\n",
              "      <th>nome</th>\n",
              "      <th>data</th>\n",
              "      <th>abertura</th>\n",
              "      <th>maxima</th>\n",
              "      <th>minima</th>\n",
              "      <th>fechamento</th>\n",
              "      <th>volume</th>\n",
              "      <th>fech_abert</th>\n",
              "    </tr>\n",
              "  </thead>\n",
              "  <tbody>\n",
              "    <tr>\n",
              "      <th>0</th>\n",
              "      <td>AAL</td>\n",
              "      <td>2013-02-08</td>\n",
              "      <td>15.07</td>\n",
              "      <td>15.12</td>\n",
              "      <td>14.63</td>\n",
              "      <td>14.75</td>\n",
              "      <td>8407500</td>\n",
              "      <td>False</td>\n",
              "    </tr>\n",
              "    <tr>\n",
              "      <th>1</th>\n",
              "      <td>AAL</td>\n",
              "      <td>2013-02-11</td>\n",
              "      <td>14.89</td>\n",
              "      <td>15.01</td>\n",
              "      <td>14.26</td>\n",
              "      <td>14.46</td>\n",
              "      <td>8882000</td>\n",
              "      <td>False</td>\n",
              "    </tr>\n",
              "    <tr>\n",
              "      <th>2</th>\n",
              "      <td>AAL</td>\n",
              "      <td>2013-02-12</td>\n",
              "      <td>14.45</td>\n",
              "      <td>14.51</td>\n",
              "      <td>14.1</td>\n",
              "      <td>14.27</td>\n",
              "      <td>8126000</td>\n",
              "      <td>False</td>\n",
              "    </tr>\n",
              "    <tr>\n",
              "      <th>3</th>\n",
              "      <td>AAL</td>\n",
              "      <td>2013-02-13</td>\n",
              "      <td>14.3</td>\n",
              "      <td>14.94</td>\n",
              "      <td>14.25</td>\n",
              "      <td>14.66</td>\n",
              "      <td>10259500</td>\n",
              "      <td>True</td>\n",
              "    </tr>\n",
              "    <tr>\n",
              "      <th>4</th>\n",
              "      <td>AAL</td>\n",
              "      <td>2013-02-14</td>\n",
              "      <td>14.94</td>\n",
              "      <td>14.96</td>\n",
              "      <td>13.16</td>\n",
              "      <td>13.99</td>\n",
              "      <td>31879900</td>\n",
              "      <td>False</td>\n",
              "    </tr>\n",
              "  </tbody>\n",
              "</table>\n",
              "</div>\n",
              "      <button class=\"colab-df-convert\" onclick=\"convertToInteractive('df-e44f6873-9930-462c-aaf8-429cf2ed4cd0')\"\n",
              "              title=\"Convert this dataframe to an interactive table.\"\n",
              "              style=\"display:none;\">\n",
              "        \n",
              "  <svg xmlns=\"http://www.w3.org/2000/svg\" height=\"24px\"viewBox=\"0 0 24 24\"\n",
              "       width=\"24px\">\n",
              "    <path d=\"M0 0h24v24H0V0z\" fill=\"none\"/>\n",
              "    <path d=\"M18.56 5.44l.94 2.06.94-2.06 2.06-.94-2.06-.94-.94-2.06-.94 2.06-2.06.94zm-11 1L8.5 8.5l.94-2.06 2.06-.94-2.06-.94L8.5 2.5l-.94 2.06-2.06.94zm10 10l.94 2.06.94-2.06 2.06-.94-2.06-.94-.94-2.06-.94 2.06-2.06.94z\"/><path d=\"M17.41 7.96l-1.37-1.37c-.4-.4-.92-.59-1.43-.59-.52 0-1.04.2-1.43.59L10.3 9.45l-7.72 7.72c-.78.78-.78 2.05 0 2.83L4 21.41c.39.39.9.59 1.41.59.51 0 1.02-.2 1.41-.59l7.78-7.78 2.81-2.81c.8-.78.8-2.07 0-2.86zM5.41 20L4 18.59l7.72-7.72 1.47 1.35L5.41 20z\"/>\n",
              "  </svg>\n",
              "      </button>\n",
              "      \n",
              "  <style>\n",
              "    .colab-df-container {\n",
              "      display:flex;\n",
              "      flex-wrap:wrap;\n",
              "      gap: 12px;\n",
              "    }\n",
              "\n",
              "    .colab-df-convert {\n",
              "      background-color: #E8F0FE;\n",
              "      border: none;\n",
              "      border-radius: 50%;\n",
              "      cursor: pointer;\n",
              "      display: none;\n",
              "      fill: #1967D2;\n",
              "      height: 32px;\n",
              "      padding: 0 0 0 0;\n",
              "      width: 32px;\n",
              "    }\n",
              "\n",
              "    .colab-df-convert:hover {\n",
              "      background-color: #E2EBFA;\n",
              "      box-shadow: 0px 1px 2px rgba(60, 64, 67, 0.3), 0px 1px 3px 1px rgba(60, 64, 67, 0.15);\n",
              "      fill: #174EA6;\n",
              "    }\n",
              "\n",
              "    [theme=dark] .colab-df-convert {\n",
              "      background-color: #3B4455;\n",
              "      fill: #D2E3FC;\n",
              "    }\n",
              "\n",
              "    [theme=dark] .colab-df-convert:hover {\n",
              "      background-color: #434B5C;\n",
              "      box-shadow: 0px 1px 3px 1px rgba(0, 0, 0, 0.15);\n",
              "      filter: drop-shadow(0px 1px 2px rgba(0, 0, 0, 0.3));\n",
              "      fill: #FFFFFF;\n",
              "    }\n",
              "  </style>\n",
              "\n",
              "      <script>\n",
              "        const buttonEl =\n",
              "          document.querySelector('#df-e44f6873-9930-462c-aaf8-429cf2ed4cd0 button.colab-df-convert');\n",
              "        buttonEl.style.display =\n",
              "          google.colab.kernel.accessAllowed ? 'block' : 'none';\n",
              "\n",
              "        async function convertToInteractive(key) {\n",
              "          const element = document.querySelector('#df-e44f6873-9930-462c-aaf8-429cf2ed4cd0');\n",
              "          const dataTable =\n",
              "            await google.colab.kernel.invokeFunction('convertToInteractive',\n",
              "                                                     [key], {});\n",
              "          if (!dataTable) return;\n",
              "\n",
              "          const docLinkHtml = 'Like what you see? Visit the ' +\n",
              "            '<a target=\"_blank\" href=https://colab.research.google.com/notebooks/data_table.ipynb>data table notebook</a>'\n",
              "            + ' to learn more about interactive tables.';\n",
              "          element.innerHTML = '';\n",
              "          dataTable['output_type'] = 'display_data';\n",
              "          await google.colab.output.renderOutput(dataTable, element);\n",
              "          const docLink = document.createElement('div');\n",
              "          docLink.innerHTML = docLinkHtml;\n",
              "          element.appendChild(docLink);\n",
              "        }\n",
              "      </script>\n",
              "    </div>\n",
              "  </div>\n",
              "  "
            ],
            "text/plain": [
              "  nome        data abertura maxima minima fechamento    volume  fech_abert\n",
              "0  AAL  2013-02-08    15.07  15.12  14.63      14.75   8407500       False\n",
              "1  AAL  2013-02-11    14.89  15.01  14.26      14.46   8882000       False\n",
              "2  AAL  2013-02-12    14.45  14.51   14.1      14.27   8126000       False\n",
              "3  AAL  2013-02-13     14.3  14.94  14.25      14.66  10259500        True\n",
              "4  AAL  2013-02-14    14.94  14.96  13.16      13.99  31879900       False"
            ]
          },
          "metadata": {},
          "execution_count": 16
        }
      ]
    },
    {
      "cell_type": "markdown",
      "source": [
        "Vamos usar a função count para contarmos quantas vezes o fechamento foi maior que a abertura."
      ],
      "metadata": {
        "id": "onj9Ych8t9U0"
      }
    },
    {
      "cell_type": "code",
      "source": [
        "df.select('fech_abert').where(df.fech_abert==\"True\").count()\n"
      ],
      "metadata": {
        "colab": {
          "base_uri": "https://localhost:8080/"
        },
        "id": "ZjM7-EGRuEFk",
        "outputId": "756e09b6-a436-481c-b17b-089e35cab07a"
      },
      "execution_count": 17,
      "outputs": [
        {
          "output_type": "execute_result",
          "data": {
            "text/plain": [
              "318940"
            ]
          },
          "metadata": {},
          "execution_count": 17
        }
      ]
    },
    {
      "cell_type": "markdown",
      "source": [
        "Então, dividiremos o resultado pelo total dos eventos e arredondaremos o resultado."
      ],
      "metadata": {
        "id": "0yHdt8HYuPyi"
      }
    },
    {
      "cell_type": "code",
      "source": [
        "porcentagem =  (318940/619040)*100\n",
        "round(porcentagem, 2)"
      ],
      "metadata": {
        "colab": {
          "base_uri": "https://localhost:8080/"
        },
        "id": "2s85zwNxuZ7H",
        "outputId": "6ba85d2e-1d54-456b-988a-d05fe0cbadf1"
      },
      "execution_count": 18,
      "outputs": [
        {
          "output_type": "execute_result",
          "data": {
            "text/plain": [
              "51.52"
            ]
          },
          "metadata": {},
          "execution_count": 18
        }
      ]
    },
    {
      "cell_type": "markdown",
      "source": [
        "Qual o maior valor das ações da Apple (AAPL) na história?\n"
      ],
      "metadata": {
        "id": "liF0Q0-V_-tS"
      }
    },
    {
      "cell_type": "code",
      "source": [
        "#Selecionando e agrupando as colunas de nome e maxima geral.\n",
        "df.groupby('nome').agg({'maxima': 'max'}).show()"
      ],
      "metadata": {
        "colab": {
          "base_uri": "https://localhost:8080/"
        },
        "id": "0F3tZyGO2kOr",
        "outputId": "1dabd935-24e3-4328-ce92-bfc8a30fb23c"
      },
      "execution_count": 19,
      "outputs": [
        {
          "output_type": "stream",
          "name": "stdout",
          "text": [
            "+----+-----------+\n",
            "|nome|max(maxima)|\n",
            "+----+-----------+\n",
            "|   A|       75.0|\n",
            "| AAL|      59.08|\n",
            "| AAP|      99.99|\n",
            "|AAPL|      99.99|\n",
            "|ABBV|      99.49|\n",
            "| ABC|      99.92|\n",
            "| ABT|       64.6|\n",
            "| ACN|      99.94|\n",
            "|ADBE|      99.99|\n",
            "| ADI|      98.38|\n",
            "| ADM|      53.91|\n",
            "| ADP|      99.88|\n",
            "| ADS|      312.0|\n",
            "|ADSK|      98.05|\n",
            "| AEE|      64.89|\n",
            "| AEP|      78.07|\n",
            "| AES|       9.97|\n",
            "| AET|      99.92|\n",
            "| AFL|      91.73|\n",
            "| AGN|      99.55|\n",
            "+----+-----------+\n",
            "only showing top 20 rows\n",
            "\n"
          ]
        }
      ]
    },
    {
      "cell_type": "markdown",
      "source": [
        "Vamos criar uma variável com o nome **apple** e inseriremos dentro dela apenas a valores encontrados em **AAPL**. Faremos um agrupamento para localizarmos apenas a cotação máxima da ação desta empresa."
      ],
      "metadata": {
        "id": "0y2zjq3h6oUP"
      }
    },
    {
      "cell_type": "code",
      "source": [
        "#Filtrando pelo valor que desejamos encontrar.\n",
        "apple = df[df['nome']=='AAPL']"
      ],
      "metadata": {
        "id": "8ixrQUpXn5aX"
      },
      "execution_count": 20,
      "outputs": []
    },
    {
      "cell_type": "code",
      "source": [
        "#Agrupando por nome e procurando a maxima do valor que desejamos encontrar.\n",
        "apple.groupby('nome').agg({'maxima': 'max'}).show()"
      ],
      "metadata": {
        "colab": {
          "base_uri": "https://localhost:8080/"
        },
        "id": "n-9TgRi6FD54",
        "outputId": "b5d09d9f-b889-4279-ef1b-3808c77f8d7a"
      },
      "execution_count": 21,
      "outputs": [
        {
          "output_type": "stream",
          "name": "stdout",
          "text": [
            "+----+-----------+\n",
            "|nome|max(maxima)|\n",
            "+----+-----------+\n",
            "|AAPL|      99.99|\n",
            "+----+-----------+\n",
            "\n"
          ]
        }
      ]
    },
    {
      "cell_type": "markdown",
      "source": [
        "Qual ação tem a maior volatilidade? Uma forma é medir o desvio-padrão do preço de fechamento de cada ação e considerar a ação de maior desvio-padrão."
      ],
      "metadata": {
        "id": "NjiTrGoCpuPG"
      }
    },
    {
      "cell_type": "code",
      "source": [
        "df.describe().show()"
      ],
      "metadata": {
        "colab": {
          "base_uri": "https://localhost:8080/"
        },
        "id": "4cCvNbzMpwNt",
        "outputId": "c0e1c0eb-9a22-431e-f6e3-77e1aad53a20"
      },
      "execution_count": 22,
      "outputs": [
        {
          "output_type": "stream",
          "name": "stdout",
          "text": [
            "+-------+------+----------+-----------------+-----------------+-----------------+-----------------+-----------------+\n",
            "|summary|  nome|      data|         abertura|           maxima|           minima|       fechamento|           volume|\n",
            "+-------+------+----------+-----------------+-----------------+-----------------+-----------------+-----------------+\n",
            "|  count|619040|    619040|           619029|           619032|           619032|           619040|           619040|\n",
            "|   mean|  null|      null|83.02333431454696|83.77831069346465|82.25609641375786|83.04376276476573|4321823.395568945|\n",
            "| stddev|  null|      null| 97.3787690433231|  98.207518904464| 96.5074210580914|97.38974800165752|8693609.511967659|\n",
            "|    min|     A|2013-02-08|             1.62|             1.69|              1.5|             1.59|                0|\n",
            "|    max|   ZTS|2018-02-07|           999.47|           999.75|           999.48|            999.6|           999994|\n",
            "+-------+------+----------+-----------------+-----------------+-----------------+-----------------+-----------------+\n",
            "\n"
          ]
        }
      ]
    },
    {
      "cell_type": "code",
      "source": [
        "df.groupby('nome').agg({'fechamento': 'max'}).show(5)"
      ],
      "metadata": {
        "colab": {
          "base_uri": "https://localhost:8080/"
        },
        "id": "vCOAkdOov4Ad",
        "outputId": "56c14d7c-b8cc-4263-fb15-b86b8eebb7fb"
      },
      "execution_count": 23,
      "outputs": [
        {
          "output_type": "stream",
          "name": "stdout",
          "text": [
            "+----+---------------+\n",
            "|nome|max(fechamento)|\n",
            "+----+---------------+\n",
            "|   A|          74.82|\n",
            "| AAL|          58.47|\n",
            "| AAP|          99.95|\n",
            "|AAPL|          99.99|\n",
            "|ABBV|          99.95|\n",
            "+----+---------------+\n",
            "only showing top 5 rows\n",
            "\n"
          ]
        }
      ]
    },
    {
      "cell_type": "code",
      "source": [
        "df.agg({'fechamento': 'stddev'}).show()"
      ],
      "metadata": {
        "colab": {
          "base_uri": "https://localhost:8080/"
        },
        "id": "XM7ZExEM6_ka",
        "outputId": "450c03f1-bfc7-4bc9-aca6-75c98bcf341b"
      },
      "execution_count": 24,
      "outputs": [
        {
          "output_type": "stream",
          "name": "stdout",
          "text": [
            "+------------------+\n",
            "|stddev(fechamento)|\n",
            "+------------------+\n",
            "| 97.38974800165752|\n",
            "+------------------+\n",
            "\n"
          ]
        }
      ]
    },
    {
      "cell_type": "code",
      "source": [
        "from pyspark.sql.functions import stddev"
      ],
      "metadata": {
        "id": "4sOGYun7_C2A"
      },
      "execution_count": 25,
      "outputs": []
    },
    {
      "cell_type": "code",
      "source": [
        "desvpad = df.select(stddev('fechamento')).show()"
      ],
      "metadata": {
        "colab": {
          "base_uri": "https://localhost:8080/"
        },
        "id": "u-k_GkTq9Gh1",
        "outputId": "0ac9bd18-4113-4a79-f410-40cbd8200a63"
      },
      "execution_count": 26,
      "outputs": [
        {
          "output_type": "stream",
          "name": "stdout",
          "text": [
            "+-----------------------+\n",
            "|stddev_samp(fechamento)|\n",
            "+-----------------------+\n",
            "|      97.38974800165752|\n",
            "+-----------------------+\n",
            "\n"
          ]
        }
      ]
    },
    {
      "cell_type": "code",
      "source": [
        "df.select(stddev('fechamento')).collect()"
      ],
      "metadata": {
        "colab": {
          "base_uri": "https://localhost:8080/"
        },
        "id": "CfUJBoLiAIxc",
        "outputId": "dc7f1c3a-e0e0-45c0-c2ce-e274c3d6dd6e"
      },
      "execution_count": 27,
      "outputs": [
        {
          "output_type": "execute_result",
          "data": {
            "text/plain": [
              "[Row(stddev_samp(fechamento)=97.38974800165752)]"
            ]
          },
          "metadata": {},
          "execution_count": 27
        }
      ]
    },
    {
      "cell_type": "code",
      "source": [
        "df.agg({'fechamento':'stddev_pop'}).collect()"
      ],
      "metadata": {
        "colab": {
          "base_uri": "https://localhost:8080/"
        },
        "id": "paK1QhkhEVS9",
        "outputId": "d45b7f37-feba-497a-a4f0-d7d24653d9fb"
      },
      "execution_count": 28,
      "outputs": [
        {
          "output_type": "execute_result",
          "data": {
            "text/plain": [
              "[Row(stddev_pop(fechamento)=97.3896693397073)]"
            ]
          },
          "metadata": {},
          "execution_count": 28
        }
      ]
    },
    {
      "cell_type": "code",
      "source": [
        "dp = df.groupby('nome').agg({'fechamento': 'stddev'}).show(5)"
      ],
      "metadata": {
        "colab": {
          "base_uri": "https://localhost:8080/"
        },
        "id": "_592SQu76d55",
        "outputId": "a3474ada-51f4-4c5a-949d-2872e859209c"
      },
      "execution_count": 29,
      "outputs": [
        {
          "output_type": "stream",
          "name": "stdout",
          "text": [
            "+----+------------------+\n",
            "|nome|stddev(fechamento)|\n",
            "+----+------------------+\n",
            "|ALXN|29.230294072399754|\n",
            "| GIS| 5.626922424396725|\n",
            "|   K| 5.791233527106072|\n",
            "| LEN| 7.164922272045884|\n",
            "| AIV| 6.048727635117268|\n",
            "+----+------------------+\n",
            "only showing top 5 rows\n",
            "\n"
          ]
        }
      ]
    },
    {
      "cell_type": "markdown",
      "source": [
        "Qual o dia com maior volume de negociação da bolsa?\n"
      ],
      "metadata": {
        "id": "WTPaU5QaNrb4"
      }
    },
    {
      "cell_type": "code",
      "source": [
        "volum = df.withColumn(\"vol_total\", col('volume'))\n",
        "volum.limit(5).toPandas()"
      ],
      "metadata": {
        "colab": {
          "base_uri": "https://localhost:8080/",
          "height": 206
        },
        "id": "pmHBdpf-Jw4Z",
        "outputId": "e5d1f591-1f43-4cc4-e4ca-13eedb4888fc"
      },
      "execution_count": 107,
      "outputs": [
        {
          "output_type": "execute_result",
          "data": {
            "text/html": [
              "\n",
              "  <div id=\"df-b242f1c1-2ae1-46b8-9f92-361feadea01d\">\n",
              "    <div class=\"colab-df-container\">\n",
              "      <div>\n",
              "<style scoped>\n",
              "    .dataframe tbody tr th:only-of-type {\n",
              "        vertical-align: middle;\n",
              "    }\n",
              "\n",
              "    .dataframe tbody tr th {\n",
              "        vertical-align: top;\n",
              "    }\n",
              "\n",
              "    .dataframe thead th {\n",
              "        text-align: right;\n",
              "    }\n",
              "</style>\n",
              "<table border=\"1\" class=\"dataframe\">\n",
              "  <thead>\n",
              "    <tr style=\"text-align: right;\">\n",
              "      <th></th>\n",
              "      <th>nome</th>\n",
              "      <th>data</th>\n",
              "      <th>abertura</th>\n",
              "      <th>maxima</th>\n",
              "      <th>minima</th>\n",
              "      <th>fechamento</th>\n",
              "      <th>volume</th>\n",
              "      <th>fech_abert</th>\n",
              "      <th>vol_total</th>\n",
              "    </tr>\n",
              "  </thead>\n",
              "  <tbody>\n",
              "    <tr>\n",
              "      <th>0</th>\n",
              "      <td>AAL</td>\n",
              "      <td>2013-02-08</td>\n",
              "      <td>15.07</td>\n",
              "      <td>15.12</td>\n",
              "      <td>14.63</td>\n",
              "      <td>14.75</td>\n",
              "      <td>8407500</td>\n",
              "      <td>False</td>\n",
              "      <td>8407500</td>\n",
              "    </tr>\n",
              "    <tr>\n",
              "      <th>1</th>\n",
              "      <td>AAL</td>\n",
              "      <td>2013-02-11</td>\n",
              "      <td>14.89</td>\n",
              "      <td>15.01</td>\n",
              "      <td>14.26</td>\n",
              "      <td>14.46</td>\n",
              "      <td>8882000</td>\n",
              "      <td>False</td>\n",
              "      <td>8882000</td>\n",
              "    </tr>\n",
              "    <tr>\n",
              "      <th>2</th>\n",
              "      <td>AAL</td>\n",
              "      <td>2013-02-12</td>\n",
              "      <td>14.45</td>\n",
              "      <td>14.51</td>\n",
              "      <td>14.1</td>\n",
              "      <td>14.27</td>\n",
              "      <td>8126000</td>\n",
              "      <td>False</td>\n",
              "      <td>8126000</td>\n",
              "    </tr>\n",
              "    <tr>\n",
              "      <th>3</th>\n",
              "      <td>AAL</td>\n",
              "      <td>2013-02-13</td>\n",
              "      <td>14.3</td>\n",
              "      <td>14.94</td>\n",
              "      <td>14.25</td>\n",
              "      <td>14.66</td>\n",
              "      <td>10259500</td>\n",
              "      <td>True</td>\n",
              "      <td>10259500</td>\n",
              "    </tr>\n",
              "    <tr>\n",
              "      <th>4</th>\n",
              "      <td>AAL</td>\n",
              "      <td>2013-02-14</td>\n",
              "      <td>14.94</td>\n",
              "      <td>14.96</td>\n",
              "      <td>13.16</td>\n",
              "      <td>13.99</td>\n",
              "      <td>31879900</td>\n",
              "      <td>False</td>\n",
              "      <td>31879900</td>\n",
              "    </tr>\n",
              "  </tbody>\n",
              "</table>\n",
              "</div>\n",
              "      <button class=\"colab-df-convert\" onclick=\"convertToInteractive('df-b242f1c1-2ae1-46b8-9f92-361feadea01d')\"\n",
              "              title=\"Convert this dataframe to an interactive table.\"\n",
              "              style=\"display:none;\">\n",
              "        \n",
              "  <svg xmlns=\"http://www.w3.org/2000/svg\" height=\"24px\"viewBox=\"0 0 24 24\"\n",
              "       width=\"24px\">\n",
              "    <path d=\"M0 0h24v24H0V0z\" fill=\"none\"/>\n",
              "    <path d=\"M18.56 5.44l.94 2.06.94-2.06 2.06-.94-2.06-.94-.94-2.06-.94 2.06-2.06.94zm-11 1L8.5 8.5l.94-2.06 2.06-.94-2.06-.94L8.5 2.5l-.94 2.06-2.06.94zm10 10l.94 2.06.94-2.06 2.06-.94-2.06-.94-.94-2.06-.94 2.06-2.06.94z\"/><path d=\"M17.41 7.96l-1.37-1.37c-.4-.4-.92-.59-1.43-.59-.52 0-1.04.2-1.43.59L10.3 9.45l-7.72 7.72c-.78.78-.78 2.05 0 2.83L4 21.41c.39.39.9.59 1.41.59.51 0 1.02-.2 1.41-.59l7.78-7.78 2.81-2.81c.8-.78.8-2.07 0-2.86zM5.41 20L4 18.59l7.72-7.72 1.47 1.35L5.41 20z\"/>\n",
              "  </svg>\n",
              "      </button>\n",
              "      \n",
              "  <style>\n",
              "    .colab-df-container {\n",
              "      display:flex;\n",
              "      flex-wrap:wrap;\n",
              "      gap: 12px;\n",
              "    }\n",
              "\n",
              "    .colab-df-convert {\n",
              "      background-color: #E8F0FE;\n",
              "      border: none;\n",
              "      border-radius: 50%;\n",
              "      cursor: pointer;\n",
              "      display: none;\n",
              "      fill: #1967D2;\n",
              "      height: 32px;\n",
              "      padding: 0 0 0 0;\n",
              "      width: 32px;\n",
              "    }\n",
              "\n",
              "    .colab-df-convert:hover {\n",
              "      background-color: #E2EBFA;\n",
              "      box-shadow: 0px 1px 2px rgba(60, 64, 67, 0.3), 0px 1px 3px 1px rgba(60, 64, 67, 0.15);\n",
              "      fill: #174EA6;\n",
              "    }\n",
              "\n",
              "    [theme=dark] .colab-df-convert {\n",
              "      background-color: #3B4455;\n",
              "      fill: #D2E3FC;\n",
              "    }\n",
              "\n",
              "    [theme=dark] .colab-df-convert:hover {\n",
              "      background-color: #434B5C;\n",
              "      box-shadow: 0px 1px 3px 1px rgba(0, 0, 0, 0.15);\n",
              "      filter: drop-shadow(0px 1px 2px rgba(0, 0, 0, 0.3));\n",
              "      fill: #FFFFFF;\n",
              "    }\n",
              "  </style>\n",
              "\n",
              "      <script>\n",
              "        const buttonEl =\n",
              "          document.querySelector('#df-b242f1c1-2ae1-46b8-9f92-361feadea01d button.colab-df-convert');\n",
              "        buttonEl.style.display =\n",
              "          google.colab.kernel.accessAllowed ? 'block' : 'none';\n",
              "\n",
              "        async function convertToInteractive(key) {\n",
              "          const element = document.querySelector('#df-b242f1c1-2ae1-46b8-9f92-361feadea01d');\n",
              "          const dataTable =\n",
              "            await google.colab.kernel.invokeFunction('convertToInteractive',\n",
              "                                                     [key], {});\n",
              "          if (!dataTable) return;\n",
              "\n",
              "          const docLinkHtml = 'Like what you see? Visit the ' +\n",
              "            '<a target=\"_blank\" href=https://colab.research.google.com/notebooks/data_table.ipynb>data table notebook</a>'\n",
              "            + ' to learn more about interactive tables.';\n",
              "          element.innerHTML = '';\n",
              "          dataTable['output_type'] = 'display_data';\n",
              "          await google.colab.output.renderOutput(dataTable, element);\n",
              "          const docLink = document.createElement('div');\n",
              "          docLink.innerHTML = docLinkHtml;\n",
              "          element.appendChild(docLink);\n",
              "        }\n",
              "      </script>\n",
              "    </div>\n",
              "  </div>\n",
              "  "
            ],
            "text/plain": [
              "  nome        data abertura maxima  ... fechamento    volume fech_abert  vol_total\n",
              "0  AAL  2013-02-08    15.07  15.12  ...      14.75   8407500      False    8407500\n",
              "1  AAL  2013-02-11    14.89  15.01  ...      14.46   8882000      False    8882000\n",
              "2  AAL  2013-02-12    14.45  14.51  ...      14.27   8126000      False    8126000\n",
              "3  AAL  2013-02-13     14.3  14.94  ...      14.66  10259500       True   10259500\n",
              "4  AAL  2013-02-14    14.94  14.96  ...      13.99  31879900      False   31879900\n",
              "\n",
              "[5 rows x 9 columns]"
            ]
          },
          "metadata": {},
          "execution_count": 107
        }
      ]
    },
    {
      "cell_type": "code",
      "source": [
        "volum.sort(volum.vol_total.desc()).show(5)"
      ],
      "metadata": {
        "colab": {
          "base_uri": "https://localhost:8080/"
        },
        "id": "eNbMG11-NqnE",
        "outputId": "25ee3441-f86f-4bc2-ad00-cc72cacbecd6"
      },
      "execution_count": 108,
      "outputs": [
        {
          "output_type": "stream",
          "name": "stdout",
          "text": [
            "+----+----------+--------+------+------+----------+-------+----------+---------+\n",
            "|nome|      data|abertura|maxima|minima|fechamento| volume|fech_abert|vol_total|\n",
            "+----+----------+--------+------+------+----------+-------+----------+---------+\n",
            "| GPN|2015-03-16|  44.785|45.335| 44.69|    45.295| 999994|      true|   999994|\n",
            "| CBG|2013-09-26|   23.47| 23.63| 23.26|     23.42| 999993|     false|   999993|\n",
            "| AYI|2017-06-28|  176.44|181.25|176.44|    179.73| 999984|      true|   999984|\n",
            "|SYMC|2013-06-13|    22.1| 22.54| 21.98|     22.49|9999678|      true|  9999678|\n",
            "| EXC|2015-07-30|   31.12| 31.78| 31.12|     31.65|9999678|      true|  9999678|\n",
            "+----+----------+--------+------+------+----------+-------+----------+---------+\n",
            "only showing top 5 rows\n",
            "\n"
          ]
        }
      ]
    },
    {
      "cell_type": "code",
      "source": [
        "from pyspark.sql.functions import max"
      ],
      "metadata": {
        "id": "ZDFmWyGD8CRA"
      },
      "execution_count": 94,
      "outputs": []
    },
    {
      "cell_type": "code",
      "source": [
        "from pyspark.sql.types import StringType,BooleanType,DateType"
      ],
      "metadata": {
        "id": "-s70JtWHA0NF"
      },
      "execution_count": 95,
      "outputs": []
    },
    {
      "cell_type": "code",
      "source": [
        "volum.printSchema()\n"
      ],
      "metadata": {
        "colab": {
          "base_uri": "https://localhost:8080/"
        },
        "id": "0iUYA8JOC_vp",
        "outputId": "83009125-5a2c-4ae7-ebe2-93768593ff95"
      },
      "execution_count": 109,
      "outputs": [
        {
          "output_type": "stream",
          "name": "stdout",
          "text": [
            "root\n",
            " |-- nome: string (nullable = true)\n",
            " |-- data: string (nullable = true)\n",
            " |-- abertura: string (nullable = true)\n",
            " |-- maxima: string (nullable = true)\n",
            " |-- minima: string (nullable = true)\n",
            " |-- fechamento: string (nullable = true)\n",
            " |-- volume: string (nullable = true)\n",
            " |-- fech_abert: boolean (nullable = true)\n",
            " |-- vol_total: string (nullable = true)\n",
            "\n"
          ]
        }
      ]
    },
    {
      "cell_type": "code",
      "source": [
        ""
      ],
      "metadata": {
        "id": "lP9GoMmfKLn7"
      },
      "execution_count": null,
      "outputs": []
    },
    {
      "cell_type": "code",
      "source": [
        "volum.withColumn(('vol_total'),df.volume.cast('int'))\n"
      ],
      "metadata": {
        "colab": {
          "base_uri": "https://localhost:8080/"
        },
        "id": "dMouu2coDk9u",
        "outputId": "0313ba3f-c3a9-456b-eab2-d10baf16ca76"
      },
      "execution_count": 111,
      "outputs": [
        {
          "output_type": "execute_result",
          "data": {
            "text/plain": [
              "DataFrame[nome: string, data: string, abertura: string, maxima: string, minima: string, fechamento: string, volume: string, fech_abert: boolean, vol_total: int]"
            ]
          },
          "metadata": {},
          "execution_count": 111
        }
      ]
    },
    {
      "cell_type": "code",
      "source": [
        "df.select(col(\"vol_total\").cast('int').alias(\"vol_total\"))"
      ],
      "metadata": {
        "colab": {
          "base_uri": "https://localhost:8080/"
        },
        "id": "AE1UxZGcBERo",
        "outputId": "0d6166ee-2771-4dae-92fb-e9e73c9eee0d"
      },
      "execution_count": 103,
      "outputs": [
        {
          "output_type": "execute_result",
          "data": {
            "text/plain": [
              "DataFrame[vol_total: int]"
            ]
          },
          "metadata": {},
          "execution_count": 103
        }
      ]
    },
    {
      "cell_type": "code",
      "source": [
        "volum \\\n",
        ".groupBy('data')\\\n",
        ".max('vol_total')\\\n",
        ".limit(10)\\\n",
        ".show()\n"
      ],
      "metadata": {
        "colab": {
          "base_uri": "https://localhost:8080/",
          "height": 323
        },
        "id": "DFDVcKXj7uty",
        "outputId": "78a5826a-a612-43ea-9109-7a9556475f08"
      },
      "execution_count": 112,
      "outputs": [
        {
          "output_type": "error",
          "ename": "AnalysisException",
          "evalue": "ignored",
          "traceback": [
            "\u001b[0;31m---------------------------------------------------------------------------\u001b[0m",
            "\u001b[0;31mAnalysisException\u001b[0m                         Traceback (most recent call last)",
            "\u001b[0;32m<ipython-input-112-49aa2c114797>\u001b[0m in \u001b[0;36m<module>\u001b[0;34m()\u001b[0m\n\u001b[0;32m----> 1\u001b[0;31m \u001b[0mvolum\u001b[0m \u001b[0;34m.\u001b[0m\u001b[0mgroupBy\u001b[0m\u001b[0;34m(\u001b[0m\u001b[0;34m'data'\u001b[0m\u001b[0;34m)\u001b[0m\u001b[0;34m.\u001b[0m\u001b[0mmax\u001b[0m\u001b[0;34m(\u001b[0m\u001b[0;34m'vol_total'\u001b[0m\u001b[0;34m)\u001b[0m\u001b[0;34m.\u001b[0m\u001b[0mlimit\u001b[0m\u001b[0;34m(\u001b[0m\u001b[0;36m10\u001b[0m\u001b[0;34m)\u001b[0m\u001b[0;34m.\u001b[0m\u001b[0mshow\u001b[0m\u001b[0;34m(\u001b[0m\u001b[0;34m)\u001b[0m\u001b[0;34m\u001b[0m\u001b[0;34m\u001b[0m\u001b[0m\n\u001b[0m",
            "\u001b[0;32m/usr/local/lib/python3.7/dist-packages/pyspark/sql/group.py\u001b[0m in \u001b[0;36m_api\u001b[0;34m(self, *cols)\u001b[0m\n\u001b[1;32m     39\u001b[0m     \u001b[0;32mdef\u001b[0m \u001b[0m_api\u001b[0m\u001b[0;34m(\u001b[0m\u001b[0mself\u001b[0m\u001b[0;34m,\u001b[0m \u001b[0;34m*\u001b[0m\u001b[0mcols\u001b[0m\u001b[0;34m)\u001b[0m\u001b[0;34m:\u001b[0m\u001b[0;34m\u001b[0m\u001b[0;34m\u001b[0m\u001b[0m\n\u001b[1;32m     40\u001b[0m         \u001b[0mname\u001b[0m \u001b[0;34m=\u001b[0m \u001b[0mf\u001b[0m\u001b[0;34m.\u001b[0m\u001b[0m__name__\u001b[0m\u001b[0;34m\u001b[0m\u001b[0;34m\u001b[0m\u001b[0m\n\u001b[0;32m---> 41\u001b[0;31m         \u001b[0mjdf\u001b[0m \u001b[0;34m=\u001b[0m \u001b[0mgetattr\u001b[0m\u001b[0;34m(\u001b[0m\u001b[0mself\u001b[0m\u001b[0;34m.\u001b[0m\u001b[0m_jgd\u001b[0m\u001b[0;34m,\u001b[0m \u001b[0mname\u001b[0m\u001b[0;34m)\u001b[0m\u001b[0;34m(\u001b[0m\u001b[0m_to_seq\u001b[0m\u001b[0;34m(\u001b[0m\u001b[0mself\u001b[0m\u001b[0;34m.\u001b[0m\u001b[0msql_ctx\u001b[0m\u001b[0;34m.\u001b[0m\u001b[0m_sc\u001b[0m\u001b[0;34m,\u001b[0m \u001b[0mcols\u001b[0m\u001b[0;34m)\u001b[0m\u001b[0;34m)\u001b[0m\u001b[0;34m\u001b[0m\u001b[0;34m\u001b[0m\u001b[0m\n\u001b[0m\u001b[1;32m     42\u001b[0m         \u001b[0;32mreturn\u001b[0m \u001b[0mDataFrame\u001b[0m\u001b[0;34m(\u001b[0m\u001b[0mjdf\u001b[0m\u001b[0;34m,\u001b[0m \u001b[0mself\u001b[0m\u001b[0;34m.\u001b[0m\u001b[0msql_ctx\u001b[0m\u001b[0;34m)\u001b[0m\u001b[0;34m\u001b[0m\u001b[0;34m\u001b[0m\u001b[0m\n\u001b[1;32m     43\u001b[0m     \u001b[0m_api\u001b[0m\u001b[0;34m.\u001b[0m\u001b[0m__name__\u001b[0m \u001b[0;34m=\u001b[0m \u001b[0mf\u001b[0m\u001b[0;34m.\u001b[0m\u001b[0m__name__\u001b[0m\u001b[0;34m\u001b[0m\u001b[0;34m\u001b[0m\u001b[0m\n",
            "\u001b[0;32m/usr/local/lib/python3.7/dist-packages/py4j/java_gateway.py\u001b[0m in \u001b[0;36m__call__\u001b[0;34m(self, *args)\u001b[0m\n\u001b[1;32m   1320\u001b[0m         \u001b[0manswer\u001b[0m \u001b[0;34m=\u001b[0m \u001b[0mself\u001b[0m\u001b[0;34m.\u001b[0m\u001b[0mgateway_client\u001b[0m\u001b[0;34m.\u001b[0m\u001b[0msend_command\u001b[0m\u001b[0;34m(\u001b[0m\u001b[0mcommand\u001b[0m\u001b[0;34m)\u001b[0m\u001b[0;34m\u001b[0m\u001b[0;34m\u001b[0m\u001b[0m\n\u001b[1;32m   1321\u001b[0m         return_value = get_return_value(\n\u001b[0;32m-> 1322\u001b[0;31m             answer, self.gateway_client, self.target_id, self.name)\n\u001b[0m\u001b[1;32m   1323\u001b[0m \u001b[0;34m\u001b[0m\u001b[0m\n\u001b[1;32m   1324\u001b[0m         \u001b[0;32mfor\u001b[0m \u001b[0mtemp_arg\u001b[0m \u001b[0;32min\u001b[0m \u001b[0mtemp_args\u001b[0m\u001b[0;34m:\u001b[0m\u001b[0;34m\u001b[0m\u001b[0;34m\u001b[0m\u001b[0m\n",
            "\u001b[0;32m/usr/local/lib/python3.7/dist-packages/pyspark/sql/utils.py\u001b[0m in \u001b[0;36mdeco\u001b[0;34m(*a, **kw)\u001b[0m\n\u001b[1;32m    115\u001b[0m                 \u001b[0;31m# Hide where the exception came from that shows a non-Pythonic\u001b[0m\u001b[0;34m\u001b[0m\u001b[0;34m\u001b[0m\u001b[0;34m\u001b[0m\u001b[0m\n\u001b[1;32m    116\u001b[0m                 \u001b[0;31m# JVM exception message.\u001b[0m\u001b[0;34m\u001b[0m\u001b[0;34m\u001b[0m\u001b[0;34m\u001b[0m\u001b[0m\n\u001b[0;32m--> 117\u001b[0;31m                 \u001b[0;32mraise\u001b[0m \u001b[0mconverted\u001b[0m \u001b[0;32mfrom\u001b[0m \u001b[0;32mNone\u001b[0m\u001b[0;34m\u001b[0m\u001b[0;34m\u001b[0m\u001b[0m\n\u001b[0m\u001b[1;32m    118\u001b[0m             \u001b[0;32melse\u001b[0m\u001b[0;34m:\u001b[0m\u001b[0;34m\u001b[0m\u001b[0;34m\u001b[0m\u001b[0m\n\u001b[1;32m    119\u001b[0m                 \u001b[0;32mraise\u001b[0m\u001b[0;34m\u001b[0m\u001b[0;34m\u001b[0m\u001b[0m\n",
            "\u001b[0;31mAnalysisException\u001b[0m: \"vol_total\" is not a numeric column. Aggregation function can only be applied on a numeric column."
          ]
        }
      ]
    },
    {
      "cell_type": "code",
      "source": [
        "volum.orderBy(volum.vol_total, ascending = False).show(10)"
      ],
      "metadata": {
        "colab": {
          "base_uri": "https://localhost:8080/"
        },
        "id": "1FbdTPHtbk8F",
        "outputId": "3e95fb0f-1659-41e3-8771-e2aab3670165"
      },
      "execution_count": 113,
      "outputs": [
        {
          "output_type": "stream",
          "name": "stdout",
          "text": [
            "+----+----------+--------+------+------+----------+-------+----------+---------+\n",
            "|nome|      data|abertura|maxima|minima|fechamento| volume|fech_abert|vol_total|\n",
            "+----+----------+--------+------+------+----------+-------+----------+---------+\n",
            "| GPN|2015-03-16|  44.785|45.335| 44.69|    45.295| 999994|      true|   999994|\n",
            "| CBG|2013-09-26|   23.47| 23.63| 23.26|     23.42| 999993|     false|   999993|\n",
            "| AYI|2017-06-28|  176.44|181.25|176.44|    179.73| 999984|      true|   999984|\n",
            "| EXC|2015-07-30|   31.12| 31.78| 31.12|     31.65|9999678|      true|  9999678|\n",
            "|SYMC|2013-06-13|    22.1| 22.54| 21.98|     22.49|9999678|      true|  9999678|\n",
            "| WMT|2017-09-08|   79.74|79.875| 77.73|     78.88|9999593|     false|  9999593|\n",
            "|CTXS|2016-09-20|    84.0| 84.18| 83.11|     83.19| 999958|     false|   999958|\n",
            "| SCG|2014-10-07|   48.15|48.785|48.073|     48.27| 999943|      true|   999943|\n",
            "| LUK|2014-05-28|   25.86|  26.0| 25.71|     25.76| 999941|     false|   999941|\n",
            "| MRK|2015-03-17|   56.89| 56.89| 56.24|     56.47|9999391|     false|  9999391|\n",
            "+----+----------+--------+------+------+----------+-------+----------+---------+\n",
            "only showing top 10 rows\n",
            "\n"
          ]
        }
      ]
    },
    {
      "cell_type": "code",
      "source": [
        "volum.groupby('data').agg({'vol_total': 'max'}).show()"
      ],
      "metadata": {
        "colab": {
          "base_uri": "https://localhost:8080/"
        },
        "id": "iyBQZy-aI0Dp",
        "outputId": "69ad7056-90c8-47fe-d3b6-f2a01420c1f6"
      },
      "execution_count": 114,
      "outputs": [
        {
          "output_type": "stream",
          "name": "stdout",
          "text": [
            "+----------+--------------+\n",
            "|      data|max(vol_total)|\n",
            "+----------+--------------+\n",
            "|2013-02-08|       9814015|\n",
            "|2013-02-11|        999351|\n",
            "|2013-02-12|       9996613|\n",
            "|2013-02-13|        994668|\n",
            "|2013-02-14|        991784|\n",
            "|2013-02-15|        999585|\n",
            "|2013-02-19|       9927033|\n",
            "|2013-02-20|        996615|\n",
            "|2013-02-21|        997858|\n",
            "|2013-02-22|        999729|\n",
            "|2013-02-25|        997593|\n",
            "|2013-02-26|        998641|\n",
            "|2013-02-27|       9966373|\n",
            "|2013-02-28|        989496|\n",
            "|2013-03-01|        996350|\n",
            "|2013-03-04|       9997338|\n",
            "|2013-03-05|        999509|\n",
            "|2013-03-06|        999523|\n",
            "|2013-03-07|        999882|\n",
            "|2013-03-08|       9994826|\n",
            "+----------+--------------+\n",
            "only showing top 20 rows\n",
            "\n"
          ]
        }
      ]
    },
    {
      "cell_type": "code",
      "source": [
        ""
      ],
      "metadata": {
        "id": "ftWyzlb3JeOF"
      },
      "execution_count": null,
      "outputs": []
    },
    {
      "cell_type": "code",
      "source": [
        ""
      ],
      "metadata": {
        "id": "n_1EtmGoJJT0"
      },
      "execution_count": null,
      "outputs": []
    },
    {
      "cell_type": "code",
      "source": [
        "volum.groupby('data').agg({'vol_total': 'max'}).show(5)"
      ],
      "metadata": {
        "colab": {
          "base_uri": "https://localhost:8080/"
        },
        "id": "tgKwyPtsQ4ZU",
        "outputId": "7d0f229e-77a7-403b-fa06-705998de2831"
      },
      "execution_count": 115,
      "outputs": [
        {
          "output_type": "stream",
          "name": "stdout",
          "text": [
            "+----------+--------------+\n",
            "|      data|max(vol_total)|\n",
            "+----------+--------------+\n",
            "|2013-02-08|       9814015|\n",
            "|2013-02-11|        999351|\n",
            "|2013-02-12|       9996613|\n",
            "|2013-02-13|        994668|\n",
            "|2013-02-14|        991784|\n",
            "+----------+--------------+\n",
            "only showing top 5 rows\n",
            "\n"
          ]
        }
      ]
    },
    {
      "cell_type": "markdown",
      "source": [
        "Qual a ação mais negociada da bolsa, em volume de transações?\n"
      ],
      "metadata": {
        "id": "CN4dQ419T0Sj"
      }
    },
    {
      "cell_type": "markdown",
      "source": [
        "Quantas ações começam com a letra “A”?\n"
      ],
      "metadata": {
        "id": "CDMgcG3ST2fY"
      }
    },
    {
      "cell_type": "markdown",
      "source": [
        "Com qual frequência o preço mais alto do dia da ação também é o preço de fechamento?\n"
      ],
      "metadata": {
        "id": "E-EoRxnxT3tk"
      }
    },
    {
      "cell_type": "markdown",
      "source": [
        "Em qual dia a ação da Apple mais subiu até o fechamento, de forma absoluta?\n"
      ],
      "metadata": {
        "id": "z3w35YraT4_3"
      }
    },
    {
      "cell_type": "markdown",
      "source": [
        "Em média, qual o volume diário de transações das ações da AAPL?\n"
      ],
      "metadata": {
        "id": "Mt7lXDYpT7AM"
      }
    },
    {
      "cell_type": "markdown",
      "source": [
        "Quantas ações tem 1, 2, 3, 4 e 5 caracteres em seu nome, respectivamente?\n"
      ],
      "metadata": {
        "id": "gtNVzmALT8BX"
      }
    },
    {
      "cell_type": "markdown",
      "source": [
        "Qual a ação menos negociada da bolsa, em volume de transações?\n"
      ],
      "metadata": {
        "id": "tHxO0tnkT8Q4"
      }
    },
    {
      "cell_type": "markdown",
      "source": [
        "Com qual frequência o preço de fechamento é também o mais alto do dia?\n"
      ],
      "metadata": {
        "id": "E3QjS-CuT_Mr"
      }
    }
  ]
}