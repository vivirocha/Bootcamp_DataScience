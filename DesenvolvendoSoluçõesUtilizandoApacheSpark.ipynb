{
  "nbformat": 4,
  "nbformat_minor": 0,
  "metadata": {
    "colab": {
      "name": "DesenvolvendoSoluçõesUtilizandoApacheSpark.ipynb",
      "provenance": [],
      "collapsed_sections": [],
      "authorship_tag": "ABX9TyNRXIKRP3YSJFmNEEuBx2L+",
      "include_colab_link": true
    },
    "kernelspec": {
      "name": "python3",
      "display_name": "Python 3"
    },
    "language_info": {
      "name": "python"
    }
  },
  "cells": [
    {
      "cell_type": "markdown",
      "metadata": {
        "id": "view-in-github",
        "colab_type": "text"
      },
      "source": [
        "<a href=\"https://colab.research.google.com/github/vivirocha/Bootcamp_DataScience/blob/main/DesenvolvendoSolu%C3%A7%C3%B5esUtilizandoApacheSpark.ipynb\" target=\"_parent\"><img src=\"https://colab.research.google.com/assets/colab-badge.svg\" alt=\"Open In Colab\"/></a>"
      ]
    },
    {
      "cell_type": "markdown",
      "source": [
        "**Bootcamp Cientista de Dados - IGTI **\n",
        "\n",
        "Trabalho 1 - Módulo 2\n",
        "\n",
        "*Desenvolvendo Soluções Utilizando Apache Spark*\n"
      ],
      "metadata": {
        "id": "9-XRJBPk0Oxs"
      }
    },
    {
      "cell_type": "code",
      "execution_count": 139,
      "metadata": {
        "colab": {
          "base_uri": "https://localhost:8080/"
        },
        "id": "K_Fzh1T1r3w4",
        "outputId": "9eae57e7-4ed8-4f12-a08d-69bbe13b6c5e"
      },
      "outputs": [
        {
          "output_type": "stream",
          "name": "stdout",
          "text": [
            "Collecting spark\n",
            "  Downloading spark-0.2.1.tar.gz (41 kB)\n",
            "\u001b[?25l\r\u001b[K     |████████                        | 10 kB 16.8 MB/s eta 0:00:01\r\u001b[K     |████████████████                | 20 kB 13.5 MB/s eta 0:00:01\r\u001b[K     |████████████████████████        | 30 kB 10.0 MB/s eta 0:00:01\r\u001b[K     |████████████████████████████████| 40 kB 9.2 MB/s eta 0:00:01\r\u001b[K     |████████████████████████████████| 41 kB 39 kB/s \n",
            "\u001b[?25hBuilding wheels for collected packages: spark\n",
            "  Building wheel for spark (setup.py) ... \u001b[?25l\u001b[?25hdone\n",
            "  Created wheel for spark: filename=spark-0.2.1-py3-none-any.whl size=58762 sha256=4b869a9697f6a0a1372b20ad747ccbce7896e9abf16eaeeead6050d1b794023e\n",
            "  Stored in directory: /root/.cache/pip/wheels/4e/0e/f1/164619f9920fb447d294afaae11a7715bd442ded7225953d72\n",
            "Successfully built spark\n",
            "Installing collected packages: spark\n",
            "Successfully installed spark-0.2.1\n"
          ]
        }
      ],
      "source": [
        "!pip install spark"
      ]
    },
    {
      "cell_type": "code",
      "source": [
        "!pip install pyspark"
      ],
      "metadata": {
        "colab": {
          "base_uri": "https://localhost:8080/"
        },
        "id": "bKcoFQACzjFb",
        "outputId": "298979f1-3b5e-4366-fd50-6922491bcd02"
      },
      "execution_count": 140,
      "outputs": [
        {
          "output_type": "stream",
          "name": "stdout",
          "text": [
            "Requirement already satisfied: pyspark in /usr/local/lib/python3.7/dist-packages (3.2.1)\n",
            "Requirement already satisfied: py4j==0.10.9.3 in /usr/local/lib/python3.7/dist-packages (from pyspark) (0.10.9.3)\n"
          ]
        }
      ]
    },
    {
      "cell_type": "code",
      "source": [
        "import pandas as pd"
      ],
      "metadata": {
        "id": "18R6YFh0BnZM"
      },
      "execution_count": 165,
      "outputs": []
    },
    {
      "cell_type": "code",
      "source": [
        "df = spark.read.csv(\"all_stocks_5yr.csv\")"
      ],
      "metadata": {
        "id": "E-IKJR4I6ta3"
      },
      "execution_count": 160,
      "outputs": []
    },
    {
      "cell_type": "code",
      "source": [
        "df.show()"
      ],
      "metadata": {
        "colab": {
          "base_uri": "https://localhost:8080/"
        },
        "id": "7oDMpLmj6aOe",
        "outputId": "21f97676-598c-44d7-a0bc-97c29d43fb98"
      },
      "execution_count": 161,
      "outputs": [
        {
          "output_type": "stream",
          "name": "stdout",
          "text": [
            "+----------+-----+-----+-----+-----+--------+----+\n",
            "|       _c0|  _c1|  _c2|  _c3|  _c4|     _c5| _c6|\n",
            "+----------+-----+-----+-----+-----+--------+----+\n",
            "|      date| open| high|  low|close|  volume|Name|\n",
            "|2013-02-08|15.07|15.12|14.63|14.75| 8407500| AAL|\n",
            "|2013-02-11|14.89|15.01|14.26|14.46| 8882000| AAL|\n",
            "|2013-02-12|14.45|14.51| 14.1|14.27| 8126000| AAL|\n",
            "|2013-02-13| 14.3|14.94|14.25|14.66|10259500| AAL|\n",
            "|2013-02-14|14.94|14.96|13.16|13.99|31879900| AAL|\n",
            "|2013-02-15|13.93|14.61|13.93| 14.5|15628000| AAL|\n",
            "|2013-02-19|14.33|14.56|14.08|14.26|11354400| AAL|\n",
            "|2013-02-20|14.17|14.26|13.15|13.33|14725200| AAL|\n",
            "|2013-02-21|13.62|13.95| 12.9|13.37|11922100| AAL|\n",
            "|2013-02-22|13.57| 13.6|13.21|13.57| 6071400| AAL|\n",
            "|2013-02-25| 13.6|13.76| 13.0|13.02| 7186400| AAL|\n",
            "|2013-02-26|13.14|13.42| 12.7|13.26| 9419000| AAL|\n",
            "|2013-02-27|13.28|13.62|13.18|13.41| 7390500| AAL|\n",
            "|2013-02-28|13.49|13.63|13.39|13.43| 6143600| AAL|\n",
            "|2013-03-01|13.37|13.95|13.32|13.61| 7376800| AAL|\n",
            "|2013-03-04| 13.5|14.07|13.47| 13.9| 8174800| AAL|\n",
            "|2013-03-05|14.01|14.05|13.71|14.05| 7676100| AAL|\n",
            "|2013-03-06|14.52|14.68|14.25|14.57|13243200| AAL|\n",
            "|2013-03-07| 14.7|14.93| 14.5|14.82| 9125300| AAL|\n",
            "+----------+-----+-----+-----+-----+--------+----+\n",
            "only showing top 20 rows\n",
            "\n"
          ]
        }
      ]
    },
    {
      "cell_type": "markdown",
      "source": [
        "Iremos alterar a ordem das colunas."
      ],
      "metadata": {
        "id": "gH9iz3nP5ruD"
      }
    },
    {
      "cell_type": "code",
      "source": [
        "df = df.toDF(*['data', 'abertura', 'maxima', 'minima', 'fechamento', 'volume', 'nome'])"
      ],
      "metadata": {
        "id": "DVq72QPZAiMd"
      },
      "execution_count": 162,
      "outputs": []
    },
    {
      "cell_type": "code",
      "source": [
        "df.limit(10).toPandas()"
      ],
      "metadata": {
        "colab": {
          "base_uri": "https://localhost:8080/",
          "height": 363
        },
        "id": "6zsybI9LBffo",
        "outputId": "e129ede4-a833-4861-ab72-5c592307906e"
      },
      "execution_count": 169,
      "outputs": [
        {
          "output_type": "execute_result",
          "data": {
            "text/html": [
              "\n",
              "  <div id=\"df-48a327b0-13f4-4ca8-b0a5-7678b025251b\">\n",
              "    <div class=\"colab-df-container\">\n",
              "      <div>\n",
              "<style scoped>\n",
              "    .dataframe tbody tr th:only-of-type {\n",
              "        vertical-align: middle;\n",
              "    }\n",
              "\n",
              "    .dataframe tbody tr th {\n",
              "        vertical-align: top;\n",
              "    }\n",
              "\n",
              "    .dataframe thead th {\n",
              "        text-align: right;\n",
              "    }\n",
              "</style>\n",
              "<table border=\"1\" class=\"dataframe\">\n",
              "  <thead>\n",
              "    <tr style=\"text-align: right;\">\n",
              "      <th></th>\n",
              "      <th>data</th>\n",
              "      <th>abertura</th>\n",
              "      <th>maxima</th>\n",
              "      <th>minima</th>\n",
              "      <th>fechamento</th>\n",
              "      <th>volume</th>\n",
              "      <th>nome</th>\n",
              "    </tr>\n",
              "  </thead>\n",
              "  <tbody>\n",
              "    <tr>\n",
              "      <th>0</th>\n",
              "      <td>date</td>\n",
              "      <td>open</td>\n",
              "      <td>high</td>\n",
              "      <td>low</td>\n",
              "      <td>close</td>\n",
              "      <td>volume</td>\n",
              "      <td>Name</td>\n",
              "    </tr>\n",
              "    <tr>\n",
              "      <th>1</th>\n",
              "      <td>2013-02-08</td>\n",
              "      <td>15.07</td>\n",
              "      <td>15.12</td>\n",
              "      <td>14.63</td>\n",
              "      <td>14.75</td>\n",
              "      <td>8407500</td>\n",
              "      <td>AAL</td>\n",
              "    </tr>\n",
              "    <tr>\n",
              "      <th>2</th>\n",
              "      <td>2013-02-11</td>\n",
              "      <td>14.89</td>\n",
              "      <td>15.01</td>\n",
              "      <td>14.26</td>\n",
              "      <td>14.46</td>\n",
              "      <td>8882000</td>\n",
              "      <td>AAL</td>\n",
              "    </tr>\n",
              "    <tr>\n",
              "      <th>3</th>\n",
              "      <td>2013-02-12</td>\n",
              "      <td>14.45</td>\n",
              "      <td>14.51</td>\n",
              "      <td>14.1</td>\n",
              "      <td>14.27</td>\n",
              "      <td>8126000</td>\n",
              "      <td>AAL</td>\n",
              "    </tr>\n",
              "    <tr>\n",
              "      <th>4</th>\n",
              "      <td>2013-02-13</td>\n",
              "      <td>14.3</td>\n",
              "      <td>14.94</td>\n",
              "      <td>14.25</td>\n",
              "      <td>14.66</td>\n",
              "      <td>10259500</td>\n",
              "      <td>AAL</td>\n",
              "    </tr>\n",
              "    <tr>\n",
              "      <th>5</th>\n",
              "      <td>2013-02-14</td>\n",
              "      <td>14.94</td>\n",
              "      <td>14.96</td>\n",
              "      <td>13.16</td>\n",
              "      <td>13.99</td>\n",
              "      <td>31879900</td>\n",
              "      <td>AAL</td>\n",
              "    </tr>\n",
              "    <tr>\n",
              "      <th>6</th>\n",
              "      <td>2013-02-15</td>\n",
              "      <td>13.93</td>\n",
              "      <td>14.61</td>\n",
              "      <td>13.93</td>\n",
              "      <td>14.5</td>\n",
              "      <td>15628000</td>\n",
              "      <td>AAL</td>\n",
              "    </tr>\n",
              "    <tr>\n",
              "      <th>7</th>\n",
              "      <td>2013-02-19</td>\n",
              "      <td>14.33</td>\n",
              "      <td>14.56</td>\n",
              "      <td>14.08</td>\n",
              "      <td>14.26</td>\n",
              "      <td>11354400</td>\n",
              "      <td>AAL</td>\n",
              "    </tr>\n",
              "    <tr>\n",
              "      <th>8</th>\n",
              "      <td>2013-02-20</td>\n",
              "      <td>14.17</td>\n",
              "      <td>14.26</td>\n",
              "      <td>13.15</td>\n",
              "      <td>13.33</td>\n",
              "      <td>14725200</td>\n",
              "      <td>AAL</td>\n",
              "    </tr>\n",
              "    <tr>\n",
              "      <th>9</th>\n",
              "      <td>2013-02-21</td>\n",
              "      <td>13.62</td>\n",
              "      <td>13.95</td>\n",
              "      <td>12.9</td>\n",
              "      <td>13.37</td>\n",
              "      <td>11922100</td>\n",
              "      <td>AAL</td>\n",
              "    </tr>\n",
              "  </tbody>\n",
              "</table>\n",
              "</div>\n",
              "      <button class=\"colab-df-convert\" onclick=\"convertToInteractive('df-48a327b0-13f4-4ca8-b0a5-7678b025251b')\"\n",
              "              title=\"Convert this dataframe to an interactive table.\"\n",
              "              style=\"display:none;\">\n",
              "        \n",
              "  <svg xmlns=\"http://www.w3.org/2000/svg\" height=\"24px\"viewBox=\"0 0 24 24\"\n",
              "       width=\"24px\">\n",
              "    <path d=\"M0 0h24v24H0V0z\" fill=\"none\"/>\n",
              "    <path d=\"M18.56 5.44l.94 2.06.94-2.06 2.06-.94-2.06-.94-.94-2.06-.94 2.06-2.06.94zm-11 1L8.5 8.5l.94-2.06 2.06-.94-2.06-.94L8.5 2.5l-.94 2.06-2.06.94zm10 10l.94 2.06.94-2.06 2.06-.94-2.06-.94-.94-2.06-.94 2.06-2.06.94z\"/><path d=\"M17.41 7.96l-1.37-1.37c-.4-.4-.92-.59-1.43-.59-.52 0-1.04.2-1.43.59L10.3 9.45l-7.72 7.72c-.78.78-.78 2.05 0 2.83L4 21.41c.39.39.9.59 1.41.59.51 0 1.02-.2 1.41-.59l7.78-7.78 2.81-2.81c.8-.78.8-2.07 0-2.86zM5.41 20L4 18.59l7.72-7.72 1.47 1.35L5.41 20z\"/>\n",
              "  </svg>\n",
              "      </button>\n",
              "      \n",
              "  <style>\n",
              "    .colab-df-container {\n",
              "      display:flex;\n",
              "      flex-wrap:wrap;\n",
              "      gap: 12px;\n",
              "    }\n",
              "\n",
              "    .colab-df-convert {\n",
              "      background-color: #E8F0FE;\n",
              "      border: none;\n",
              "      border-radius: 50%;\n",
              "      cursor: pointer;\n",
              "      display: none;\n",
              "      fill: #1967D2;\n",
              "      height: 32px;\n",
              "      padding: 0 0 0 0;\n",
              "      width: 32px;\n",
              "    }\n",
              "\n",
              "    .colab-df-convert:hover {\n",
              "      background-color: #E2EBFA;\n",
              "      box-shadow: 0px 1px 2px rgba(60, 64, 67, 0.3), 0px 1px 3px 1px rgba(60, 64, 67, 0.15);\n",
              "      fill: #174EA6;\n",
              "    }\n",
              "\n",
              "    [theme=dark] .colab-df-convert {\n",
              "      background-color: #3B4455;\n",
              "      fill: #D2E3FC;\n",
              "    }\n",
              "\n",
              "    [theme=dark] .colab-df-convert:hover {\n",
              "      background-color: #434B5C;\n",
              "      box-shadow: 0px 1px 3px 1px rgba(0, 0, 0, 0.15);\n",
              "      filter: drop-shadow(0px 1px 2px rgba(0, 0, 0, 0.3));\n",
              "      fill: #FFFFFF;\n",
              "    }\n",
              "  </style>\n",
              "\n",
              "      <script>\n",
              "        const buttonEl =\n",
              "          document.querySelector('#df-48a327b0-13f4-4ca8-b0a5-7678b025251b button.colab-df-convert');\n",
              "        buttonEl.style.display =\n",
              "          google.colab.kernel.accessAllowed ? 'block' : 'none';\n",
              "\n",
              "        async function convertToInteractive(key) {\n",
              "          const element = document.querySelector('#df-48a327b0-13f4-4ca8-b0a5-7678b025251b');\n",
              "          const dataTable =\n",
              "            await google.colab.kernel.invokeFunction('convertToInteractive',\n",
              "                                                     [key], {});\n",
              "          if (!dataTable) return;\n",
              "\n",
              "          const docLinkHtml = 'Like what you see? Visit the ' +\n",
              "            '<a target=\"_blank\" href=https://colab.research.google.com/notebooks/data_table.ipynb>data table notebook</a>'\n",
              "            + ' to learn more about interactive tables.';\n",
              "          element.innerHTML = '';\n",
              "          dataTable['output_type'] = 'display_data';\n",
              "          await google.colab.output.renderOutput(dataTable, element);\n",
              "          const docLink = document.createElement('div');\n",
              "          docLink.innerHTML = docLinkHtml;\n",
              "          element.appendChild(docLink);\n",
              "        }\n",
              "      </script>\n",
              "    </div>\n",
              "  </div>\n",
              "  "
            ],
            "text/plain": [
              "         data abertura maxima minima fechamento    volume  nome\n",
              "0        date     open   high    low      close    volume  Name\n",
              "1  2013-02-08    15.07  15.12  14.63      14.75   8407500   AAL\n",
              "2  2013-02-11    14.89  15.01  14.26      14.46   8882000   AAL\n",
              "3  2013-02-12    14.45  14.51   14.1      14.27   8126000   AAL\n",
              "4  2013-02-13     14.3  14.94  14.25      14.66  10259500   AAL\n",
              "5  2013-02-14    14.94  14.96  13.16      13.99  31879900   AAL\n",
              "6  2013-02-15    13.93  14.61  13.93       14.5  15628000   AAL\n",
              "7  2013-02-19    14.33  14.56  14.08      14.26  11354400   AAL\n",
              "8  2013-02-20    14.17  14.26  13.15      13.33  14725200   AAL\n",
              "9  2013-02-21    13.62  13.95   12.9      13.37  11922100   AAL"
            ]
          },
          "metadata": {},
          "execution_count": 169
        }
      ]
    },
    {
      "cell_type": "code",
      "source": [
        "df = df.select('nome', 'data', 'abertura', 'maxima', 'minima', 'fechamento', 'volume')\n",
        "df.show()"
      ],
      "metadata": {
        "colab": {
          "base_uri": "https://localhost:8080/"
        },
        "id": "L5c3hpzxB8NT",
        "outputId": "3566382b-d55f-4817-db23-3eaab8076cb9"
      },
      "execution_count": 174,
      "outputs": [
        {
          "output_type": "stream",
          "name": "stdout",
          "text": [
            "+----+----------+--------+------+------+----------+--------+\n",
            "|nome|      data|abertura|maxima|minima|fechamento|  volume|\n",
            "+----+----------+--------+------+------+----------+--------+\n",
            "|Name|      date|    open|  high|   low|     close|  volume|\n",
            "| AAL|2013-02-08|   15.07| 15.12| 14.63|     14.75| 8407500|\n",
            "| AAL|2013-02-11|   14.89| 15.01| 14.26|     14.46| 8882000|\n",
            "| AAL|2013-02-12|   14.45| 14.51|  14.1|     14.27| 8126000|\n",
            "| AAL|2013-02-13|    14.3| 14.94| 14.25|     14.66|10259500|\n",
            "| AAL|2013-02-14|   14.94| 14.96| 13.16|     13.99|31879900|\n",
            "| AAL|2013-02-15|   13.93| 14.61| 13.93|      14.5|15628000|\n",
            "| AAL|2013-02-19|   14.33| 14.56| 14.08|     14.26|11354400|\n",
            "| AAL|2013-02-20|   14.17| 14.26| 13.15|     13.33|14725200|\n",
            "| AAL|2013-02-21|   13.62| 13.95|  12.9|     13.37|11922100|\n",
            "| AAL|2013-02-22|   13.57|  13.6| 13.21|     13.57| 6071400|\n",
            "| AAL|2013-02-25|    13.6| 13.76|  13.0|     13.02| 7186400|\n",
            "| AAL|2013-02-26|   13.14| 13.42|  12.7|     13.26| 9419000|\n",
            "| AAL|2013-02-27|   13.28| 13.62| 13.18|     13.41| 7390500|\n",
            "| AAL|2013-02-28|   13.49| 13.63| 13.39|     13.43| 6143600|\n",
            "| AAL|2013-03-01|   13.37| 13.95| 13.32|     13.61| 7376800|\n",
            "| AAL|2013-03-04|    13.5| 14.07| 13.47|      13.9| 8174800|\n",
            "| AAL|2013-03-05|   14.01| 14.05| 13.71|     14.05| 7676100|\n",
            "| AAL|2013-03-06|   14.52| 14.68| 14.25|     14.57|13243200|\n",
            "| AAL|2013-03-07|    14.7| 14.93|  14.5|     14.82| 9125300|\n",
            "+----+----------+--------+------+------+----------+--------+\n",
            "only showing top 20 rows\n",
            "\n"
          ]
        }
      ]
    }
  ]
}