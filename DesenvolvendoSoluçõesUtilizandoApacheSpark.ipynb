{
  "nbformat": 4,
  "nbformat_minor": 0,
  "metadata": {
    "colab": {
      "name": "DesenvolvendoSoluçõesUtilizandoApacheSpark.ipynb",
      "provenance": [],
      "collapsed_sections": [],
      "authorship_tag": "ABX9TyPrH54OPQ1g8HzguRzoctkn",
      "include_colab_link": true
    },
    "kernelspec": {
      "name": "python3",
      "display_name": "Python 3"
    },
    "language_info": {
      "name": "python"
    }
  },
  "cells": [
    {
      "cell_type": "markdown",
      "metadata": {
        "id": "view-in-github",
        "colab_type": "text"
      },
      "source": [
        "<a href=\"https://colab.research.google.com/github/vivirocha/Bootcamp_DataScience/blob/main/DesenvolvendoSolu%C3%A7%C3%B5esUtilizandoApacheSpark.ipynb\" target=\"_parent\"><img src=\"https://colab.research.google.com/assets/colab-badge.svg\" alt=\"Open In Colab\"/></a>"
      ]
    },
    {
      "cell_type": "markdown",
      "source": [
        "**Bootcamp Cientista de Dados - IGTI **\n",
        "\n",
        "Trabalho 1 - Módulo 2\n",
        "\n",
        "*Desenvolvendo Soluções Utilizando Apache Spark*\n"
      ],
      "metadata": {
        "id": "9-XRJBPk0Oxs"
      }
    },
    {
      "cell_type": "markdown",
      "source": [
        "**Enunciado** <br> \n",
        "Dados do mercado financeiro são interessantes e ricos: cada ação negociada na bolsa de valores tem um preço que varia a cada dia. Você foi contratado como cientista de dados de uma empresa de Wall Street para criar modelos preditivos que, a partir da variação diária do preço das ações, consigam subsidiar e melhorar decisões de compra e venda de ações. Você disse que, como todo bom cientista de dados, gostaria de explorar os dados para entender suas características antes de criar qualquer modelo preditivo. <br>\n",
        "\n",
        "Os dados estão disponíveis em https://www.kaggle.com/camnugent/sandp500/ por meio do arquivo all_stocks_5yr.csv. O arquivo contém, para cada dia e ação do S&P 500 (lista de 500 maiores empresas americanas), os seguintes dados: <br> \n",
        "● Date - no formato yy-mm-dd <br>\n",
        "● Open - Preço da ação na abertura do mercado no dia, em dólares. <br>\n",
        "● High - Maior preço alcançado naquele dia. <br>\n",
        "● Low - Menor preço alcançado naquele dia. <br>\n",
        "● Close - Preço da ação no fechamento do mercado no dia. <br>\n",
        "● Volume - Número de ações vendidas / compradas.<br>\n",
        "● Name - O nome da ação. <br>\n",
        "\n",
        "Apesar do volume de dados ser pequeno, você decidiu usar o Apache Spark para processar os dados para aprender a ferramenta, e tendo em vista que a sua empresa disse que, em breve, obterá dados por minuto, e não por dia, e de todas as ações do planeta, não apenas dos Estados Unidos. Neste caso, uma ferramenta desenhada para lidar com big data será necessária, e você já quer estar com o código pronto.\n"
      ],
      "metadata": {
        "id": "Dt4v31i72xuB"
      }
    },
    {
      "cell_type": "code",
      "execution_count": 374,
      "metadata": {
        "colab": {
          "base_uri": "https://localhost:8080/"
        },
        "id": "K_Fzh1T1r3w4",
        "outputId": "bfe902ac-bfbd-419e-d159-9fe113437caa"
      },
      "outputs": [
        {
          "output_type": "stream",
          "name": "stdout",
          "text": [
            "Requirement already satisfied: spark in /usr/local/lib/python3.7/dist-packages (0.2.1)\n"
          ]
        }
      ],
      "source": [
        "#Instalando spark\n",
        "!pip install spark"
      ]
    },
    {
      "cell_type": "code",
      "source": [
        "#Instalando pyspark\n",
        "!pip install pyspark"
      ],
      "metadata": {
        "colab": {
          "base_uri": "https://localhost:8080/"
        },
        "id": "bKcoFQACzjFb",
        "outputId": "92754626-91e6-4049-cf3a-6795071de846"
      },
      "execution_count": 375,
      "outputs": [
        {
          "output_type": "stream",
          "name": "stdout",
          "text": [
            "Requirement already satisfied: pyspark in /usr/local/lib/python3.7/dist-packages (3.2.1)\n",
            "Requirement already satisfied: py4j==0.10.9.3 in /usr/local/lib/python3.7/dist-packages (from pyspark) (0.10.9.3)\n"
          ]
        }
      ]
    },
    {
      "cell_type": "code",
      "source": [
        "from pyspark.context import SparkContext\n",
        "from pyspark.sql.session import SparkSession\n",
        "sc = SparkContext.getOrCreate()\n",
        "spark = SparkSession(sc)"
      ],
      "metadata": {
        "id": "lEg8Z0V8zh7L"
      },
      "execution_count": 376,
      "outputs": []
    },
    {
      "cell_type": "code",
      "source": [
        "#Importando biblioteca pandas\n",
        "import pandas as pd"
      ],
      "metadata": {
        "id": "18R6YFh0BnZM"
      },
      "execution_count": 377,
      "outputs": []
    },
    {
      "cell_type": "code",
      "source": [
        "#Lendo o arquivo .csv e criando um dataframe dele.\n",
        "df = spark.read.csv('all_stocks_5yr.csv', sep=',', header=True)"
      ],
      "metadata": {
        "id": "E-IKJR4I6ta3"
      },
      "execution_count": 378,
      "outputs": []
    },
    {
      "cell_type": "markdown",
      "source": [
        "Para visualizarmos os dados do nosso dataframe, utilizaremos o comando **.show()**."
      ],
      "metadata": {
        "id": "yDZtp7CpuXC1"
      }
    },
    {
      "cell_type": "code",
      "source": [
        "df.show()"
      ],
      "metadata": {
        "colab": {
          "base_uri": "https://localhost:8080/"
        },
        "id": "7oDMpLmj6aOe",
        "outputId": "3d4028a4-2268-4bfd-b640-34dbe36f6938"
      },
      "execution_count": 379,
      "outputs": [
        {
          "output_type": "stream",
          "name": "stdout",
          "text": [
            "+----------+-----+-----+-----+-----+--------+----+\n",
            "|      date| open| high|  low|close|  volume|Name|\n",
            "+----------+-----+-----+-----+-----+--------+----+\n",
            "|2013-02-08|15.07|15.12|14.63|14.75| 8407500| AAL|\n",
            "|2013-02-11|14.89|15.01|14.26|14.46| 8882000| AAL|\n",
            "|2013-02-12|14.45|14.51| 14.1|14.27| 8126000| AAL|\n",
            "|2013-02-13| 14.3|14.94|14.25|14.66|10259500| AAL|\n",
            "|2013-02-14|14.94|14.96|13.16|13.99|31879900| AAL|\n",
            "|2013-02-15|13.93|14.61|13.93| 14.5|15628000| AAL|\n",
            "|2013-02-19|14.33|14.56|14.08|14.26|11354400| AAL|\n",
            "|2013-02-20|14.17|14.26|13.15|13.33|14725200| AAL|\n",
            "|2013-02-21|13.62|13.95| 12.9|13.37|11922100| AAL|\n",
            "|2013-02-22|13.57| 13.6|13.21|13.57| 6071400| AAL|\n",
            "|2013-02-25| 13.6|13.76| 13.0|13.02| 7186400| AAL|\n",
            "|2013-02-26|13.14|13.42| 12.7|13.26| 9419000| AAL|\n",
            "|2013-02-27|13.28|13.62|13.18|13.41| 7390500| AAL|\n",
            "|2013-02-28|13.49|13.63|13.39|13.43| 6143600| AAL|\n",
            "|2013-03-01|13.37|13.95|13.32|13.61| 7376800| AAL|\n",
            "|2013-03-04| 13.5|14.07|13.47| 13.9| 8174800| AAL|\n",
            "|2013-03-05|14.01|14.05|13.71|14.05| 7676100| AAL|\n",
            "|2013-03-06|14.52|14.68|14.25|14.57|13243200| AAL|\n",
            "|2013-03-07| 14.7|14.93| 14.5|14.82| 9125300| AAL|\n",
            "|2013-03-08|14.99| 15.2|14.84|14.92|10593700| AAL|\n",
            "+----------+-----+-----+-----+-----+--------+----+\n",
            "only showing top 20 rows\n",
            "\n"
          ]
        }
      ]
    },
    {
      "cell_type": "markdown",
      "source": [
        "Iremos renomear as colunas."
      ],
      "metadata": {
        "id": "gH9iz3nP5ruD"
      }
    },
    {
      "cell_type": "code",
      "source": [
        "#Importando col a partir do pyspark.sql.functions\n",
        "from pyspark.sql.functions import col"
      ],
      "metadata": {
        "id": "DVq72QPZAiMd"
      },
      "execution_count": 380,
      "outputs": []
    },
    {
      "cell_type": "code",
      "source": [
        "df = df.select(col(\"date\").alias(\"data\"), col(\"open\").alias(\"abertura\"), col(\"high\").alias('maxima'), col('low').alias('minima'), col('close').alias('fechamento'), col('volume').alias('volume'), col('Name').alias('nome'))\n",
        "df.show()"
      ],
      "metadata": {
        "colab": {
          "base_uri": "https://localhost:8080/"
        },
        "id": "oDNAGJQg0uqY",
        "outputId": "260ceb79-0582-4564-ec43-b697971de7b6"
      },
      "execution_count": 381,
      "outputs": [
        {
          "output_type": "stream",
          "name": "stdout",
          "text": [
            "+----------+--------+------+------+----------+--------+----+\n",
            "|      data|abertura|maxima|minima|fechamento|  volume|nome|\n",
            "+----------+--------+------+------+----------+--------+----+\n",
            "|2013-02-08|   15.07| 15.12| 14.63|     14.75| 8407500| AAL|\n",
            "|2013-02-11|   14.89| 15.01| 14.26|     14.46| 8882000| AAL|\n",
            "|2013-02-12|   14.45| 14.51|  14.1|     14.27| 8126000| AAL|\n",
            "|2013-02-13|    14.3| 14.94| 14.25|     14.66|10259500| AAL|\n",
            "|2013-02-14|   14.94| 14.96| 13.16|     13.99|31879900| AAL|\n",
            "|2013-02-15|   13.93| 14.61| 13.93|      14.5|15628000| AAL|\n",
            "|2013-02-19|   14.33| 14.56| 14.08|     14.26|11354400| AAL|\n",
            "|2013-02-20|   14.17| 14.26| 13.15|     13.33|14725200| AAL|\n",
            "|2013-02-21|   13.62| 13.95|  12.9|     13.37|11922100| AAL|\n",
            "|2013-02-22|   13.57|  13.6| 13.21|     13.57| 6071400| AAL|\n",
            "|2013-02-25|    13.6| 13.76|  13.0|     13.02| 7186400| AAL|\n",
            "|2013-02-26|   13.14| 13.42|  12.7|     13.26| 9419000| AAL|\n",
            "|2013-02-27|   13.28| 13.62| 13.18|     13.41| 7390500| AAL|\n",
            "|2013-02-28|   13.49| 13.63| 13.39|     13.43| 6143600| AAL|\n",
            "|2013-03-01|   13.37| 13.95| 13.32|     13.61| 7376800| AAL|\n",
            "|2013-03-04|    13.5| 14.07| 13.47|      13.9| 8174800| AAL|\n",
            "|2013-03-05|   14.01| 14.05| 13.71|     14.05| 7676100| AAL|\n",
            "|2013-03-06|   14.52| 14.68| 14.25|     14.57|13243200| AAL|\n",
            "|2013-03-07|    14.7| 14.93|  14.5|     14.82| 9125300| AAL|\n",
            "|2013-03-08|   14.99|  15.2| 14.84|     14.92|10593700| AAL|\n",
            "+----------+--------+------+------+----------+--------+----+\n",
            "only showing top 20 rows\n",
            "\n"
          ]
        }
      ]
    },
    {
      "cell_type": "markdown",
      "source": [
        "Limitaremos a visualização de apenas 5 observações."
      ],
      "metadata": {
        "id": "xTzRQ2A5v28g"
      }
    },
    {
      "cell_type": "code",
      "source": [
        "df.limit(10).toPandas()"
      ],
      "metadata": {
        "colab": {
          "base_uri": "https://localhost:8080/",
          "height": 363
        },
        "id": "6zsybI9LBffo",
        "outputId": "7046937c-9932-42a1-c61c-96551f352b21"
      },
      "execution_count": 382,
      "outputs": [
        {
          "output_type": "execute_result",
          "data": {
            "text/html": [
              "\n",
              "  <div id=\"df-57be9d65-9e69-4707-9131-f2175f8405c5\">\n",
              "    <div class=\"colab-df-container\">\n",
              "      <div>\n",
              "<style scoped>\n",
              "    .dataframe tbody tr th:only-of-type {\n",
              "        vertical-align: middle;\n",
              "    }\n",
              "\n",
              "    .dataframe tbody tr th {\n",
              "        vertical-align: top;\n",
              "    }\n",
              "\n",
              "    .dataframe thead th {\n",
              "        text-align: right;\n",
              "    }\n",
              "</style>\n",
              "<table border=\"1\" class=\"dataframe\">\n",
              "  <thead>\n",
              "    <tr style=\"text-align: right;\">\n",
              "      <th></th>\n",
              "      <th>data</th>\n",
              "      <th>abertura</th>\n",
              "      <th>maxima</th>\n",
              "      <th>minima</th>\n",
              "      <th>fechamento</th>\n",
              "      <th>volume</th>\n",
              "      <th>nome</th>\n",
              "    </tr>\n",
              "  </thead>\n",
              "  <tbody>\n",
              "    <tr>\n",
              "      <th>0</th>\n",
              "      <td>2013-02-08</td>\n",
              "      <td>15.07</td>\n",
              "      <td>15.12</td>\n",
              "      <td>14.63</td>\n",
              "      <td>14.75</td>\n",
              "      <td>8407500</td>\n",
              "      <td>AAL</td>\n",
              "    </tr>\n",
              "    <tr>\n",
              "      <th>1</th>\n",
              "      <td>2013-02-11</td>\n",
              "      <td>14.89</td>\n",
              "      <td>15.01</td>\n",
              "      <td>14.26</td>\n",
              "      <td>14.46</td>\n",
              "      <td>8882000</td>\n",
              "      <td>AAL</td>\n",
              "    </tr>\n",
              "    <tr>\n",
              "      <th>2</th>\n",
              "      <td>2013-02-12</td>\n",
              "      <td>14.45</td>\n",
              "      <td>14.51</td>\n",
              "      <td>14.1</td>\n",
              "      <td>14.27</td>\n",
              "      <td>8126000</td>\n",
              "      <td>AAL</td>\n",
              "    </tr>\n",
              "    <tr>\n",
              "      <th>3</th>\n",
              "      <td>2013-02-13</td>\n",
              "      <td>14.3</td>\n",
              "      <td>14.94</td>\n",
              "      <td>14.25</td>\n",
              "      <td>14.66</td>\n",
              "      <td>10259500</td>\n",
              "      <td>AAL</td>\n",
              "    </tr>\n",
              "    <tr>\n",
              "      <th>4</th>\n",
              "      <td>2013-02-14</td>\n",
              "      <td>14.94</td>\n",
              "      <td>14.96</td>\n",
              "      <td>13.16</td>\n",
              "      <td>13.99</td>\n",
              "      <td>31879900</td>\n",
              "      <td>AAL</td>\n",
              "    </tr>\n",
              "    <tr>\n",
              "      <th>5</th>\n",
              "      <td>2013-02-15</td>\n",
              "      <td>13.93</td>\n",
              "      <td>14.61</td>\n",
              "      <td>13.93</td>\n",
              "      <td>14.5</td>\n",
              "      <td>15628000</td>\n",
              "      <td>AAL</td>\n",
              "    </tr>\n",
              "    <tr>\n",
              "      <th>6</th>\n",
              "      <td>2013-02-19</td>\n",
              "      <td>14.33</td>\n",
              "      <td>14.56</td>\n",
              "      <td>14.08</td>\n",
              "      <td>14.26</td>\n",
              "      <td>11354400</td>\n",
              "      <td>AAL</td>\n",
              "    </tr>\n",
              "    <tr>\n",
              "      <th>7</th>\n",
              "      <td>2013-02-20</td>\n",
              "      <td>14.17</td>\n",
              "      <td>14.26</td>\n",
              "      <td>13.15</td>\n",
              "      <td>13.33</td>\n",
              "      <td>14725200</td>\n",
              "      <td>AAL</td>\n",
              "    </tr>\n",
              "    <tr>\n",
              "      <th>8</th>\n",
              "      <td>2013-02-21</td>\n",
              "      <td>13.62</td>\n",
              "      <td>13.95</td>\n",
              "      <td>12.9</td>\n",
              "      <td>13.37</td>\n",
              "      <td>11922100</td>\n",
              "      <td>AAL</td>\n",
              "    </tr>\n",
              "    <tr>\n",
              "      <th>9</th>\n",
              "      <td>2013-02-22</td>\n",
              "      <td>13.57</td>\n",
              "      <td>13.6</td>\n",
              "      <td>13.21</td>\n",
              "      <td>13.57</td>\n",
              "      <td>6071400</td>\n",
              "      <td>AAL</td>\n",
              "    </tr>\n",
              "  </tbody>\n",
              "</table>\n",
              "</div>\n",
              "      <button class=\"colab-df-convert\" onclick=\"convertToInteractive('df-57be9d65-9e69-4707-9131-f2175f8405c5')\"\n",
              "              title=\"Convert this dataframe to an interactive table.\"\n",
              "              style=\"display:none;\">\n",
              "        \n",
              "  <svg xmlns=\"http://www.w3.org/2000/svg\" height=\"24px\"viewBox=\"0 0 24 24\"\n",
              "       width=\"24px\">\n",
              "    <path d=\"M0 0h24v24H0V0z\" fill=\"none\"/>\n",
              "    <path d=\"M18.56 5.44l.94 2.06.94-2.06 2.06-.94-2.06-.94-.94-2.06-.94 2.06-2.06.94zm-11 1L8.5 8.5l.94-2.06 2.06-.94-2.06-.94L8.5 2.5l-.94 2.06-2.06.94zm10 10l.94 2.06.94-2.06 2.06-.94-2.06-.94-.94-2.06-.94 2.06-2.06.94z\"/><path d=\"M17.41 7.96l-1.37-1.37c-.4-.4-.92-.59-1.43-.59-.52 0-1.04.2-1.43.59L10.3 9.45l-7.72 7.72c-.78.78-.78 2.05 0 2.83L4 21.41c.39.39.9.59 1.41.59.51 0 1.02-.2 1.41-.59l7.78-7.78 2.81-2.81c.8-.78.8-2.07 0-2.86zM5.41 20L4 18.59l7.72-7.72 1.47 1.35L5.41 20z\"/>\n",
              "  </svg>\n",
              "      </button>\n",
              "      \n",
              "  <style>\n",
              "    .colab-df-container {\n",
              "      display:flex;\n",
              "      flex-wrap:wrap;\n",
              "      gap: 12px;\n",
              "    }\n",
              "\n",
              "    .colab-df-convert {\n",
              "      background-color: #E8F0FE;\n",
              "      border: none;\n",
              "      border-radius: 50%;\n",
              "      cursor: pointer;\n",
              "      display: none;\n",
              "      fill: #1967D2;\n",
              "      height: 32px;\n",
              "      padding: 0 0 0 0;\n",
              "      width: 32px;\n",
              "    }\n",
              "\n",
              "    .colab-df-convert:hover {\n",
              "      background-color: #E2EBFA;\n",
              "      box-shadow: 0px 1px 2px rgba(60, 64, 67, 0.3), 0px 1px 3px 1px rgba(60, 64, 67, 0.15);\n",
              "      fill: #174EA6;\n",
              "    }\n",
              "\n",
              "    [theme=dark] .colab-df-convert {\n",
              "      background-color: #3B4455;\n",
              "      fill: #D2E3FC;\n",
              "    }\n",
              "\n",
              "    [theme=dark] .colab-df-convert:hover {\n",
              "      background-color: #434B5C;\n",
              "      box-shadow: 0px 1px 3px 1px rgba(0, 0, 0, 0.15);\n",
              "      filter: drop-shadow(0px 1px 2px rgba(0, 0, 0, 0.3));\n",
              "      fill: #FFFFFF;\n",
              "    }\n",
              "  </style>\n",
              "\n",
              "      <script>\n",
              "        const buttonEl =\n",
              "          document.querySelector('#df-57be9d65-9e69-4707-9131-f2175f8405c5 button.colab-df-convert');\n",
              "        buttonEl.style.display =\n",
              "          google.colab.kernel.accessAllowed ? 'block' : 'none';\n",
              "\n",
              "        async function convertToInteractive(key) {\n",
              "          const element = document.querySelector('#df-57be9d65-9e69-4707-9131-f2175f8405c5');\n",
              "          const dataTable =\n",
              "            await google.colab.kernel.invokeFunction('convertToInteractive',\n",
              "                                                     [key], {});\n",
              "          if (!dataTable) return;\n",
              "\n",
              "          const docLinkHtml = 'Like what you see? Visit the ' +\n",
              "            '<a target=\"_blank\" href=https://colab.research.google.com/notebooks/data_table.ipynb>data table notebook</a>'\n",
              "            + ' to learn more about interactive tables.';\n",
              "          element.innerHTML = '';\n",
              "          dataTable['output_type'] = 'display_data';\n",
              "          await google.colab.output.renderOutput(dataTable, element);\n",
              "          const docLink = document.createElement('div');\n",
              "          docLink.innerHTML = docLinkHtml;\n",
              "          element.appendChild(docLink);\n",
              "        }\n",
              "      </script>\n",
              "    </div>\n",
              "  </div>\n",
              "  "
            ],
            "text/plain": [
              "         data abertura maxima minima fechamento    volume nome\n",
              "0  2013-02-08    15.07  15.12  14.63      14.75   8407500  AAL\n",
              "1  2013-02-11    14.89  15.01  14.26      14.46   8882000  AAL\n",
              "2  2013-02-12    14.45  14.51   14.1      14.27   8126000  AAL\n",
              "3  2013-02-13     14.3  14.94  14.25      14.66  10259500  AAL\n",
              "4  2013-02-14    14.94  14.96  13.16      13.99  31879900  AAL\n",
              "5  2013-02-15    13.93  14.61  13.93       14.5  15628000  AAL\n",
              "6  2013-02-19    14.33  14.56  14.08      14.26  11354400  AAL\n",
              "7  2013-02-20    14.17  14.26  13.15      13.33  14725200  AAL\n",
              "8  2013-02-21    13.62  13.95   12.9      13.37  11922100  AAL\n",
              "9  2013-02-22    13.57   13.6  13.21      13.57   6071400  AAL"
            ]
          },
          "metadata": {},
          "execution_count": 382
        }
      ]
    },
    {
      "cell_type": "markdown",
      "source": [
        "Iremos alterar a posição das colunas com o comando **.select()**."
      ],
      "metadata": {
        "id": "YQjVn8MPwA1x"
      }
    },
    {
      "cell_type": "code",
      "source": [
        "df = df.select('nome', 'data', 'abertura', 'maxima', 'minima', 'fechamento', 'volume')\n",
        "df.show()"
      ],
      "metadata": {
        "colab": {
          "base_uri": "https://localhost:8080/"
        },
        "id": "L5c3hpzxB8NT",
        "outputId": "437a7ed2-c176-4865-beb0-9a04518fe3b5"
      },
      "execution_count": 383,
      "outputs": [
        {
          "output_type": "stream",
          "name": "stdout",
          "text": [
            "+----+----------+--------+------+------+----------+--------+\n",
            "|nome|      data|abertura|maxima|minima|fechamento|  volume|\n",
            "+----+----------+--------+------+------+----------+--------+\n",
            "| AAL|2013-02-08|   15.07| 15.12| 14.63|     14.75| 8407500|\n",
            "| AAL|2013-02-11|   14.89| 15.01| 14.26|     14.46| 8882000|\n",
            "| AAL|2013-02-12|   14.45| 14.51|  14.1|     14.27| 8126000|\n",
            "| AAL|2013-02-13|    14.3| 14.94| 14.25|     14.66|10259500|\n",
            "| AAL|2013-02-14|   14.94| 14.96| 13.16|     13.99|31879900|\n",
            "| AAL|2013-02-15|   13.93| 14.61| 13.93|      14.5|15628000|\n",
            "| AAL|2013-02-19|   14.33| 14.56| 14.08|     14.26|11354400|\n",
            "| AAL|2013-02-20|   14.17| 14.26| 13.15|     13.33|14725200|\n",
            "| AAL|2013-02-21|   13.62| 13.95|  12.9|     13.37|11922100|\n",
            "| AAL|2013-02-22|   13.57|  13.6| 13.21|     13.57| 6071400|\n",
            "| AAL|2013-02-25|    13.6| 13.76|  13.0|     13.02| 7186400|\n",
            "| AAL|2013-02-26|   13.14| 13.42|  12.7|     13.26| 9419000|\n",
            "| AAL|2013-02-27|   13.28| 13.62| 13.18|     13.41| 7390500|\n",
            "| AAL|2013-02-28|   13.49| 13.63| 13.39|     13.43| 6143600|\n",
            "| AAL|2013-03-01|   13.37| 13.95| 13.32|     13.61| 7376800|\n",
            "| AAL|2013-03-04|    13.5| 14.07| 13.47|      13.9| 8174800|\n",
            "| AAL|2013-03-05|   14.01| 14.05| 13.71|     14.05| 7676100|\n",
            "| AAL|2013-03-06|   14.52| 14.68| 14.25|     14.57|13243200|\n",
            "| AAL|2013-03-07|    14.7| 14.93|  14.5|     14.82| 9125300|\n",
            "| AAL|2013-03-08|   14.99|  15.2| 14.84|     14.92|10593700|\n",
            "+----+----------+--------+------+------+----------+--------+\n",
            "only showing top 20 rows\n",
            "\n"
          ]
        }
      ]
    },
    {
      "cell_type": "markdown",
      "source": [
        "Quantos registros há na planilha?"
      ],
      "metadata": {
        "id": "8tgra53e2wZK"
      }
    },
    {
      "cell_type": "code",
      "source": [
        "df.describe().show()\n"
      ],
      "metadata": {
        "colab": {
          "base_uri": "https://localhost:8080/"
        },
        "id": "bzB9I5DM3nb3",
        "outputId": "825cd8b9-fd0a-48de-d023-d7b443224ee7"
      },
      "execution_count": 384,
      "outputs": [
        {
          "output_type": "stream",
          "name": "stdout",
          "text": [
            "+-------+------+----------+-----------------+-----------------+-----------------+-----------------+-----------------+\n",
            "|summary|  nome|      data|         abertura|           maxima|           minima|       fechamento|           volume|\n",
            "+-------+------+----------+-----------------+-----------------+-----------------+-----------------+-----------------+\n",
            "|  count|619040|    619040|           619029|           619032|           619032|           619040|           619040|\n",
            "|   mean|  null|      null|83.02333431454696|83.77831069346465|82.25609641375786|83.04376276476573|4321823.395568945|\n",
            "| stddev|  null|      null| 97.3787690433231|  98.207518904464| 96.5074210580914|97.38974800165752|8693609.511967659|\n",
            "|    min|     A|2013-02-08|             1.62|             1.69|              1.5|             1.59|                0|\n",
            "|    max|   ZTS|2018-02-07|           999.47|           999.75|           999.48|            999.6|           999994|\n",
            "+-------+------+----------+-----------------+-----------------+-----------------+-----------------+-----------------+\n",
            "\n"
          ]
        }
      ]
    },
    {
      "cell_type": "code",
      "source": [
        "df.count()"
      ],
      "metadata": {
        "colab": {
          "base_uri": "https://localhost:8080/"
        },
        "id": "Te-du17LFHDw",
        "outputId": "0a81d17b-aaf7-47a7-f360-df6b5a419abd"
      },
      "execution_count": 385,
      "outputs": [
        {
          "output_type": "execute_result",
          "data": {
            "text/plain": [
              "619040"
            ]
          },
          "metadata": {},
          "execution_count": 385
        }
      ]
    },
    {
      "cell_type": "markdown",
      "source": [
        "Quantos registros há na planilha para a ação da Apple (AAPL)?\n",
        "<br> \n",
        "\n",
        "\n",
        "Para selecionarmos dados específicos de uma coluna específica utilizaremos as funções em conjunto: **select, where, count**. <br>\n",
        "Então selecionaremos a coluna **nome**, onde exista nomes **igual a AAPL** *(ação da APPLE)* e **contaremos** quantas são."
      ],
      "metadata": {
        "id": "rpaMPimzGI9f"
      }
    },
    {
      "cell_type": "code",
      "source": [
        "df.select('nome').where(df.nome==\"AAPL\").count()"
      ],
      "metadata": {
        "colab": {
          "base_uri": "https://localhost:8080/"
        },
        "id": "9WmgL-F2Fao0",
        "outputId": "ad2efc16-9e54-472a-f2e5-55d4d21e44bf"
      },
      "execution_count": 386,
      "outputs": [
        {
          "output_type": "execute_result",
          "data": {
            "text/plain": [
              "1259"
            ]
          },
          "metadata": {},
          "execution_count": 386
        }
      ]
    },
    {
      "cell_type": "markdown",
      "source": [
        "Quantas empresas distintas têm registros nessa planilha?\n"
      ],
      "metadata": {
        "id": "Z77IdGPYHYnB"
      }
    },
    {
      "cell_type": "code",
      "source": [
        "#importando biblioteca para contagem de valores distintos \n",
        "from pyspark.sql.functions import countDistinct"
      ],
      "metadata": {
        "id": "7bcULGccLgRh"
      },
      "execution_count": 387,
      "outputs": []
    },
    {
      "cell_type": "markdown",
      "source": [
        "Criaremos uma variável para inserir os valores distintos da coluna **nome** e visualizaremos com o comando **.show()**\n",
        "\n",
        "\n"
      ],
      "metadata": {
        "id": "Luk4Ga2ZMpyV"
      }
    },
    {
      "cell_type": "code",
      "source": [
        "empresasdistintas = df.select(countDistinct(\"nome\"))\n",
        "empresasdistintas.show()"
      ],
      "metadata": {
        "colab": {
          "base_uri": "https://localhost:8080/"
        },
        "id": "biMFQTZ6HbkO",
        "outputId": "28082039-ac4b-444d-b482-73218b744632"
      },
      "execution_count": 388,
      "outputs": [
        {
          "output_type": "stream",
          "name": "stdout",
          "text": [
            "+--------------------+\n",
            "|count(DISTINCT nome)|\n",
            "+--------------------+\n",
            "|                 505|\n",
            "+--------------------+\n",
            "\n"
          ]
        }
      ]
    },
    {
      "cell_type": "markdown",
      "source": [
        "Com qual frequência o preço de uma ação no fechamento é maior do que o preço na abertura?\n",
        "\n",
        "Criaremos uma coluna para verificarmos em quais observações o preço de fechamento é maior do que o preço da abertura.\n"
      ],
      "metadata": {
        "id": "P_0AOjRwM9lC"
      }
    },
    {
      "cell_type": "code",
      "source": [
        "df = df.withColumn(\"fech_abert\", col('fechamento') >col('abertura'))\n",
        "df.limit(5).toPandas()"
      ],
      "metadata": {
        "colab": {
          "base_uri": "https://localhost:8080/",
          "height": 206
        },
        "id": "3hUotytEl6Tt",
        "outputId": "6ac0d570-b988-4ead-de47-8379624b04ee"
      },
      "execution_count": 389,
      "outputs": [
        {
          "output_type": "execute_result",
          "data": {
            "text/html": [
              "\n",
              "  <div id=\"df-f76d0374-20fd-480f-bd27-66caa898d7f5\">\n",
              "    <div class=\"colab-df-container\">\n",
              "      <div>\n",
              "<style scoped>\n",
              "    .dataframe tbody tr th:only-of-type {\n",
              "        vertical-align: middle;\n",
              "    }\n",
              "\n",
              "    .dataframe tbody tr th {\n",
              "        vertical-align: top;\n",
              "    }\n",
              "\n",
              "    .dataframe thead th {\n",
              "        text-align: right;\n",
              "    }\n",
              "</style>\n",
              "<table border=\"1\" class=\"dataframe\">\n",
              "  <thead>\n",
              "    <tr style=\"text-align: right;\">\n",
              "      <th></th>\n",
              "      <th>nome</th>\n",
              "      <th>data</th>\n",
              "      <th>abertura</th>\n",
              "      <th>maxima</th>\n",
              "      <th>minima</th>\n",
              "      <th>fechamento</th>\n",
              "      <th>volume</th>\n",
              "      <th>fech_abert</th>\n",
              "    </tr>\n",
              "  </thead>\n",
              "  <tbody>\n",
              "    <tr>\n",
              "      <th>0</th>\n",
              "      <td>AAL</td>\n",
              "      <td>2013-02-08</td>\n",
              "      <td>15.07</td>\n",
              "      <td>15.12</td>\n",
              "      <td>14.63</td>\n",
              "      <td>14.75</td>\n",
              "      <td>8407500</td>\n",
              "      <td>False</td>\n",
              "    </tr>\n",
              "    <tr>\n",
              "      <th>1</th>\n",
              "      <td>AAL</td>\n",
              "      <td>2013-02-11</td>\n",
              "      <td>14.89</td>\n",
              "      <td>15.01</td>\n",
              "      <td>14.26</td>\n",
              "      <td>14.46</td>\n",
              "      <td>8882000</td>\n",
              "      <td>False</td>\n",
              "    </tr>\n",
              "    <tr>\n",
              "      <th>2</th>\n",
              "      <td>AAL</td>\n",
              "      <td>2013-02-12</td>\n",
              "      <td>14.45</td>\n",
              "      <td>14.51</td>\n",
              "      <td>14.1</td>\n",
              "      <td>14.27</td>\n",
              "      <td>8126000</td>\n",
              "      <td>False</td>\n",
              "    </tr>\n",
              "    <tr>\n",
              "      <th>3</th>\n",
              "      <td>AAL</td>\n",
              "      <td>2013-02-13</td>\n",
              "      <td>14.3</td>\n",
              "      <td>14.94</td>\n",
              "      <td>14.25</td>\n",
              "      <td>14.66</td>\n",
              "      <td>10259500</td>\n",
              "      <td>True</td>\n",
              "    </tr>\n",
              "    <tr>\n",
              "      <th>4</th>\n",
              "      <td>AAL</td>\n",
              "      <td>2013-02-14</td>\n",
              "      <td>14.94</td>\n",
              "      <td>14.96</td>\n",
              "      <td>13.16</td>\n",
              "      <td>13.99</td>\n",
              "      <td>31879900</td>\n",
              "      <td>False</td>\n",
              "    </tr>\n",
              "  </tbody>\n",
              "</table>\n",
              "</div>\n",
              "      <button class=\"colab-df-convert\" onclick=\"convertToInteractive('df-f76d0374-20fd-480f-bd27-66caa898d7f5')\"\n",
              "              title=\"Convert this dataframe to an interactive table.\"\n",
              "              style=\"display:none;\">\n",
              "        \n",
              "  <svg xmlns=\"http://www.w3.org/2000/svg\" height=\"24px\"viewBox=\"0 0 24 24\"\n",
              "       width=\"24px\">\n",
              "    <path d=\"M0 0h24v24H0V0z\" fill=\"none\"/>\n",
              "    <path d=\"M18.56 5.44l.94 2.06.94-2.06 2.06-.94-2.06-.94-.94-2.06-.94 2.06-2.06.94zm-11 1L8.5 8.5l.94-2.06 2.06-.94-2.06-.94L8.5 2.5l-.94 2.06-2.06.94zm10 10l.94 2.06.94-2.06 2.06-.94-2.06-.94-.94-2.06-.94 2.06-2.06.94z\"/><path d=\"M17.41 7.96l-1.37-1.37c-.4-.4-.92-.59-1.43-.59-.52 0-1.04.2-1.43.59L10.3 9.45l-7.72 7.72c-.78.78-.78 2.05 0 2.83L4 21.41c.39.39.9.59 1.41.59.51 0 1.02-.2 1.41-.59l7.78-7.78 2.81-2.81c.8-.78.8-2.07 0-2.86zM5.41 20L4 18.59l7.72-7.72 1.47 1.35L5.41 20z\"/>\n",
              "  </svg>\n",
              "      </button>\n",
              "      \n",
              "  <style>\n",
              "    .colab-df-container {\n",
              "      display:flex;\n",
              "      flex-wrap:wrap;\n",
              "      gap: 12px;\n",
              "    }\n",
              "\n",
              "    .colab-df-convert {\n",
              "      background-color: #E8F0FE;\n",
              "      border: none;\n",
              "      border-radius: 50%;\n",
              "      cursor: pointer;\n",
              "      display: none;\n",
              "      fill: #1967D2;\n",
              "      height: 32px;\n",
              "      padding: 0 0 0 0;\n",
              "      width: 32px;\n",
              "    }\n",
              "\n",
              "    .colab-df-convert:hover {\n",
              "      background-color: #E2EBFA;\n",
              "      box-shadow: 0px 1px 2px rgba(60, 64, 67, 0.3), 0px 1px 3px 1px rgba(60, 64, 67, 0.15);\n",
              "      fill: #174EA6;\n",
              "    }\n",
              "\n",
              "    [theme=dark] .colab-df-convert {\n",
              "      background-color: #3B4455;\n",
              "      fill: #D2E3FC;\n",
              "    }\n",
              "\n",
              "    [theme=dark] .colab-df-convert:hover {\n",
              "      background-color: #434B5C;\n",
              "      box-shadow: 0px 1px 3px 1px rgba(0, 0, 0, 0.15);\n",
              "      filter: drop-shadow(0px 1px 2px rgba(0, 0, 0, 0.3));\n",
              "      fill: #FFFFFF;\n",
              "    }\n",
              "  </style>\n",
              "\n",
              "      <script>\n",
              "        const buttonEl =\n",
              "          document.querySelector('#df-f76d0374-20fd-480f-bd27-66caa898d7f5 button.colab-df-convert');\n",
              "        buttonEl.style.display =\n",
              "          google.colab.kernel.accessAllowed ? 'block' : 'none';\n",
              "\n",
              "        async function convertToInteractive(key) {\n",
              "          const element = document.querySelector('#df-f76d0374-20fd-480f-bd27-66caa898d7f5');\n",
              "          const dataTable =\n",
              "            await google.colab.kernel.invokeFunction('convertToInteractive',\n",
              "                                                     [key], {});\n",
              "          if (!dataTable) return;\n",
              "\n",
              "          const docLinkHtml = 'Like what you see? Visit the ' +\n",
              "            '<a target=\"_blank\" href=https://colab.research.google.com/notebooks/data_table.ipynb>data table notebook</a>'\n",
              "            + ' to learn more about interactive tables.';\n",
              "          element.innerHTML = '';\n",
              "          dataTable['output_type'] = 'display_data';\n",
              "          await google.colab.output.renderOutput(dataTable, element);\n",
              "          const docLink = document.createElement('div');\n",
              "          docLink.innerHTML = docLinkHtml;\n",
              "          element.appendChild(docLink);\n",
              "        }\n",
              "      </script>\n",
              "    </div>\n",
              "  </div>\n",
              "  "
            ],
            "text/plain": [
              "  nome        data abertura maxima minima fechamento    volume  fech_abert\n",
              "0  AAL  2013-02-08    15.07  15.12  14.63      14.75   8407500       False\n",
              "1  AAL  2013-02-11    14.89  15.01  14.26      14.46   8882000       False\n",
              "2  AAL  2013-02-12    14.45  14.51   14.1      14.27   8126000       False\n",
              "3  AAL  2013-02-13     14.3  14.94  14.25      14.66  10259500        True\n",
              "4  AAL  2013-02-14    14.94  14.96  13.16      13.99  31879900       False"
            ]
          },
          "metadata": {},
          "execution_count": 389
        }
      ]
    },
    {
      "cell_type": "markdown",
      "source": [
        "Vamos usar a função count para contarmos quantas vezes o fechamento foi maior que a abertura."
      ],
      "metadata": {
        "id": "onj9Ych8t9U0"
      }
    },
    {
      "cell_type": "code",
      "source": [
        "df.select('fech_abert').where(df.fech_abert==\"True\").count()\n"
      ],
      "metadata": {
        "colab": {
          "base_uri": "https://localhost:8080/"
        },
        "id": "ZjM7-EGRuEFk",
        "outputId": "07c2c602-88fe-46c3-926e-ab8e92ccb576"
      },
      "execution_count": 390,
      "outputs": [
        {
          "output_type": "execute_result",
          "data": {
            "text/plain": [
              "318940"
            ]
          },
          "metadata": {},
          "execution_count": 390
        }
      ]
    },
    {
      "cell_type": "markdown",
      "source": [
        "Então, dividiremos o resultado pelo total dos eventos."
      ],
      "metadata": {
        "id": "0yHdt8HYuPyi"
      }
    },
    {
      "cell_type": "code",
      "source": [
        "porcentagem =  (318940/619040)*100\n",
        "round(porcentagem, 2)"
      ],
      "metadata": {
        "colab": {
          "base_uri": "https://localhost:8080/"
        },
        "id": "2s85zwNxuZ7H",
        "outputId": "5aeeeaf4-5662-49bb-8e34-2b74f6e4c6bd"
      },
      "execution_count": 391,
      "outputs": [
        {
          "output_type": "execute_result",
          "data": {
            "text/plain": [
              "51.52"
            ]
          },
          "metadata": {},
          "execution_count": 391
        }
      ]
    },
    {
      "cell_type": "markdown",
      "source": [
        "Qual o maior valor das ações da Apple (AAPL) na história?\n"
      ],
      "metadata": {
        "id": "liF0Q0-V_-tS"
      }
    },
    {
      "cell_type": "code",
      "source": [
        "#Selecionando e agrupando as colunas de nome e maxima geral.\n",
        "df.groupby('nome').agg({'maxima': 'max'}).show()"
      ],
      "metadata": {
        "colab": {
          "base_uri": "https://localhost:8080/"
        },
        "id": "0F3tZyGO2kOr",
        "outputId": "13f3bf59-649e-4f4c-c2f5-1c795fa8138e"
      },
      "execution_count": 392,
      "outputs": [
        {
          "output_type": "stream",
          "name": "stdout",
          "text": [
            "+----+-----------+\n",
            "|nome|max(maxima)|\n",
            "+----+-----------+\n",
            "|   A|       75.0|\n",
            "| AAL|      59.08|\n",
            "| AAP|      99.99|\n",
            "|AAPL|      99.99|\n",
            "|ABBV|      99.49|\n",
            "| ABC|      99.92|\n",
            "| ABT|       64.6|\n",
            "| ACN|      99.94|\n",
            "|ADBE|      99.99|\n",
            "| ADI|      98.38|\n",
            "| ADM|      53.91|\n",
            "| ADP|      99.88|\n",
            "| ADS|      312.0|\n",
            "|ADSK|      98.05|\n",
            "| AEE|      64.89|\n",
            "| AEP|      78.07|\n",
            "| AES|       9.97|\n",
            "| AET|      99.92|\n",
            "| AFL|      91.73|\n",
            "| AGN|      99.55|\n",
            "+----+-----------+\n",
            "only showing top 20 rows\n",
            "\n"
          ]
        }
      ]
    },
    {
      "cell_type": "code",
      "source": [
        "#Filtrando pelo valor que desejamos encontrar.\n",
        "apple = df[df['nome']=='AAPL']"
      ],
      "metadata": {
        "id": "8ixrQUpXn5aX"
      },
      "execution_count": 393,
      "outputs": []
    },
    {
      "cell_type": "code",
      "source": [
        "#Agrupando por nome e procurando a maxima do valor que desejamos encontrar.\n",
        "apple.groupby('nome').agg({'maxima': 'max'}).show()"
      ],
      "metadata": {
        "colab": {
          "base_uri": "https://localhost:8080/"
        },
        "id": "n-9TgRi6FD54",
        "outputId": "4818c0fe-6104-4a23-8a08-5291d38eb06d"
      },
      "execution_count": 394,
      "outputs": [
        {
          "output_type": "stream",
          "name": "stdout",
          "text": [
            "+----+-----------+\n",
            "|nome|max(maxima)|\n",
            "+----+-----------+\n",
            "|AAPL|      99.99|\n",
            "+----+-----------+\n",
            "\n"
          ]
        }
      ]
    },
    {
      "cell_type": "markdown",
      "source": [
        "Qual ação tem a maior volatilidade? Uma forma é medir o desvio-padrão do preço de fechamento de cada ação e considerar a ação de maior desvio-padrão."
      ],
      "metadata": {
        "id": "NjiTrGoCpuPG"
      }
    },
    {
      "cell_type": "code",
      "source": [
        "df.describe().show()"
      ],
      "metadata": {
        "colab": {
          "base_uri": "https://localhost:8080/"
        },
        "id": "4cCvNbzMpwNt",
        "outputId": "40be30b9-6e4e-4012-d098-99fac025475e"
      },
      "execution_count": 395,
      "outputs": [
        {
          "output_type": "stream",
          "name": "stdout",
          "text": [
            "+-------+------+----------+-----------------+-----------------+-----------------+-----------------+-----------------+\n",
            "|summary|  nome|      data|         abertura|           maxima|           minima|       fechamento|           volume|\n",
            "+-------+------+----------+-----------------+-----------------+-----------------+-----------------+-----------------+\n",
            "|  count|619040|    619040|           619029|           619032|           619032|           619040|           619040|\n",
            "|   mean|  null|      null|83.02333431454696|83.77831069346465|82.25609641375786|83.04376276476573|4321823.395568945|\n",
            "| stddev|  null|      null| 97.3787690433231|  98.207518904464| 96.5074210580914|97.38974800165752|8693609.511967659|\n",
            "|    min|     A|2013-02-08|             1.62|             1.69|              1.5|             1.59|                0|\n",
            "|    max|   ZTS|2018-02-07|           999.47|           999.75|           999.48|            999.6|           999994|\n",
            "+-------+------+----------+-----------------+-----------------+-----------------+-----------------+-----------------+\n",
            "\n"
          ]
        }
      ]
    },
    {
      "cell_type": "code",
      "source": [
        "df.groupby('nome').agg({'fechamento': 'max'}).show(5)"
      ],
      "metadata": {
        "colab": {
          "base_uri": "https://localhost:8080/"
        },
        "id": "vCOAkdOov4Ad",
        "outputId": "ae4855b7-14e4-4a74-9c5a-f279f778e8f2"
      },
      "execution_count": 396,
      "outputs": [
        {
          "output_type": "stream",
          "name": "stdout",
          "text": [
            "+----+---------------+\n",
            "|nome|max(fechamento)|\n",
            "+----+---------------+\n",
            "|   A|          74.82|\n",
            "| AAL|          58.47|\n",
            "| AAP|          99.95|\n",
            "|AAPL|          99.99|\n",
            "|ABBV|          99.95|\n",
            "+----+---------------+\n",
            "only showing top 5 rows\n",
            "\n"
          ]
        }
      ]
    },
    {
      "cell_type": "code",
      "source": [
        "df.agg({'fechamento': 'stddev'}).show()"
      ],
      "metadata": {
        "colab": {
          "base_uri": "https://localhost:8080/"
        },
        "id": "XM7ZExEM6_ka",
        "outputId": "22d3b1a8-e0df-40f2-f53c-714f59d79df4"
      },
      "execution_count": 397,
      "outputs": [
        {
          "output_type": "stream",
          "name": "stdout",
          "text": [
            "+------------------+\n",
            "|stddev(fechamento)|\n",
            "+------------------+\n",
            "| 97.38974800165752|\n",
            "+------------------+\n",
            "\n"
          ]
        }
      ]
    },
    {
      "cell_type": "code",
      "source": [
        "dp = df.groupby('nome').agg({'fechamento': 'stddev'}).show(5)"
      ],
      "metadata": {
        "colab": {
          "base_uri": "https://localhost:8080/"
        },
        "id": "_592SQu76d55",
        "outputId": "0fa9ec7a-cec9-4299-8a90-a6502fe0fdcd"
      },
      "execution_count": 398,
      "outputs": [
        {
          "output_type": "stream",
          "name": "stdout",
          "text": [
            "+----+------------------+\n",
            "|nome|stddev(fechamento)|\n",
            "+----+------------------+\n",
            "|ALXN|29.230294072399754|\n",
            "| GIS| 5.626922424396725|\n",
            "|   K| 5.791233527106072|\n",
            "| LEN| 7.164922272045884|\n",
            "| AIV| 6.048727635117268|\n",
            "+----+------------------+\n",
            "only showing top 5 rows\n",
            "\n"
          ]
        }
      ]
    }
  ]
}