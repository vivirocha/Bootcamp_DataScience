{
  "nbformat": 4,
  "nbformat_minor": 0,
  "metadata": {
    "colab": {
      "name": "DesenvolvendoSoluçõesUtilizandoApacheSpark.ipynb",
      "provenance": [],
      "collapsed_sections": [],
      "authorship_tag": "ABX9TyPKCZZD8JVrBYidfLZnugC2",
      "include_colab_link": true
    },
    "kernelspec": {
      "name": "python3",
      "display_name": "Python 3"
    },
    "language_info": {
      "name": "python"
    }
  },
  "cells": [
    {
      "cell_type": "markdown",
      "metadata": {
        "id": "view-in-github",
        "colab_type": "text"
      },
      "source": [
        "<a href=\"https://colab.research.google.com/github/vivirocha/Bootcamp_DataScience/blob/main/DesenvolvendoSolu%C3%A7%C3%B5esUtilizandoApacheSpark.ipynb\" target=\"_parent\"><img src=\"https://colab.research.google.com/assets/colab-badge.svg\" alt=\"Open In Colab\"/></a>"
      ]
    },
    {
      "cell_type": "markdown",
      "source": [
        "**Bootcamp Cientista de Dados - IGTI**\n",
        "\n",
        "Trabalho 1 - Módulo 2\n",
        "\n",
        "*Desenvolvendo Soluções Utilizando Apache Spark*\n"
      ],
      "metadata": {
        "id": "9-XRJBPk0Oxs"
      }
    },
    {
      "cell_type": "markdown",
      "source": [
        "**Enunciado** <br> \n",
        "Dados do mercado financeiro são interessantes e ricos: cada ação negociada na bolsa de valores tem um preço que varia a cada dia. Você foi contratado como cientista de dados de uma empresa de Wall Street para criar modelos preditivos que, a partir da variação diária do preço das ações, consigam subsidiar e melhorar decisões de compra e venda de ações. Você disse que, como todo bom cientista de dados, gostaria de explorar os dados para entender suas características antes de criar qualquer modelo preditivo. <br>\n",
        "\n",
        "Os dados estão disponíveis em https://www.kaggle.com/camnugent/sandp500/ por meio do arquivo all_stocks_5yr.csv. O arquivo contém, para cada dia e ação do S&P 500 (lista de 500 maiores empresas americanas), os seguintes dados: <br> \n",
        "● Date - no formato yy-mm-dd <br>\n",
        "● Open - Preço da ação na abertura do mercado no dia, em dólares. <br>\n",
        "● High - Maior preço alcançado naquele dia. <br>\n",
        "● Low - Menor preço alcançado naquele dia. <br>\n",
        "● Close - Preço da ação no fechamento do mercado no dia. <br>\n",
        "● Volume - Número de ações vendidas / compradas.<br>\n",
        "● Name - O nome da ação. <br>\n",
        "\n",
        "Apesar do volume de dados ser pequeno, você decidiu usar o Apache Spark para processar os dados para aprender a ferramenta, e tendo em vista que a sua empresa disse que, em breve, obterá dados por minuto, e não por dia, e de todas as ações do planeta, não apenas dos Estados Unidos. Neste caso, uma ferramenta desenhada para lidar com big data será necessária, e você já quer estar com o código pronto.\n"
      ],
      "metadata": {
        "id": "Dt4v31i72xuB"
      }
    },
    {
      "cell_type": "code",
      "execution_count": 48,
      "metadata": {
        "colab": {
          "base_uri": "https://localhost:8080/"
        },
        "id": "K_Fzh1T1r3w4",
        "outputId": "df98cb25-61d1-460f-c963-2aa5f9170231"
      },
      "outputs": [
        {
          "output_type": "stream",
          "name": "stdout",
          "text": [
            "Requirement already satisfied: spark in /usr/local/lib/python3.7/dist-packages (0.2.1)\n"
          ]
        }
      ],
      "source": [
        "#Instalando spark\n",
        "!pip install spark"
      ]
    },
    {
      "cell_type": "code",
      "source": [
        "#Instalando pyspark\n",
        "!pip install pyspark"
      ],
      "metadata": {
        "colab": {
          "base_uri": "https://localhost:8080/"
        },
        "id": "bKcoFQACzjFb",
        "outputId": "ba36099e-d224-4779-deb1-21c53291f327"
      },
      "execution_count": 49,
      "outputs": [
        {
          "output_type": "stream",
          "name": "stdout",
          "text": [
            "Requirement already satisfied: pyspark in /usr/local/lib/python3.7/dist-packages (3.2.1)\n",
            "Requirement already satisfied: py4j==0.10.9.3 in /usr/local/lib/python3.7/dist-packages (from pyspark) (0.10.9.3)\n"
          ]
        }
      ]
    },
    {
      "cell_type": "code",
      "source": [
        "from pyspark.context import SparkContext\n",
        "from pyspark.sql import SparkSession\n",
        "sc = SparkContext.getOrCreate()\n",
        "spark = SparkSession.builder.appName('SolucoesSpark') \\\n",
        "                    .getOrCreate()"
      ],
      "metadata": {
        "id": "lEg8Z0V8zh7L"
      },
      "execution_count": 50,
      "outputs": []
    },
    {
      "cell_type": "code",
      "source": [
        "#Lendo o arquivo .csv e criando um dataframe dele.\n",
        "df = spark.read.csv('all_stocks_5yr.csv', sep=',', header=True)"
      ],
      "metadata": {
        "id": "E-IKJR4I6ta3"
      },
      "execution_count": 51,
      "outputs": []
    },
    {
      "cell_type": "markdown",
      "source": [
        "Para visualizarmos os dados do nosso dataframe, utilizaremos o comando **.show()**."
      ],
      "metadata": {
        "id": "yDZtp7CpuXC1"
      }
    },
    {
      "cell_type": "code",
      "source": [
        "df.show(truncate=False)"
      ],
      "metadata": {
        "colab": {
          "base_uri": "https://localhost:8080/"
        },
        "id": "U5xoQUhb_8ZM",
        "outputId": "c2845420-3b2b-48f2-e38e-a624709c35fa"
      },
      "execution_count": 52,
      "outputs": [
        {
          "output_type": "stream",
          "name": "stdout",
          "text": [
            "+----------+-----+-----+-----+-----+--------+----+\n",
            "|date      |open |high |low  |close|volume  |Name|\n",
            "+----------+-----+-----+-----+-----+--------+----+\n",
            "|2013-02-08|15.07|15.12|14.63|14.75|8407500 |AAL |\n",
            "|2013-02-11|14.89|15.01|14.26|14.46|8882000 |AAL |\n",
            "|2013-02-12|14.45|14.51|14.1 |14.27|8126000 |AAL |\n",
            "|2013-02-13|14.3 |14.94|14.25|14.66|10259500|AAL |\n",
            "|2013-02-14|14.94|14.96|13.16|13.99|31879900|AAL |\n",
            "|2013-02-15|13.93|14.61|13.93|14.5 |15628000|AAL |\n",
            "|2013-02-19|14.33|14.56|14.08|14.26|11354400|AAL |\n",
            "|2013-02-20|14.17|14.26|13.15|13.33|14725200|AAL |\n",
            "|2013-02-21|13.62|13.95|12.9 |13.37|11922100|AAL |\n",
            "|2013-02-22|13.57|13.6 |13.21|13.57|6071400 |AAL |\n",
            "|2013-02-25|13.6 |13.76|13.0 |13.02|7186400 |AAL |\n",
            "|2013-02-26|13.14|13.42|12.7 |13.26|9419000 |AAL |\n",
            "|2013-02-27|13.28|13.62|13.18|13.41|7390500 |AAL |\n",
            "|2013-02-28|13.49|13.63|13.39|13.43|6143600 |AAL |\n",
            "|2013-03-01|13.37|13.95|13.32|13.61|7376800 |AAL |\n",
            "|2013-03-04|13.5 |14.07|13.47|13.9 |8174800 |AAL |\n",
            "|2013-03-05|14.01|14.05|13.71|14.05|7676100 |AAL |\n",
            "|2013-03-06|14.52|14.68|14.25|14.57|13243200|AAL |\n",
            "|2013-03-07|14.7 |14.93|14.5 |14.82|9125300 |AAL |\n",
            "|2013-03-08|14.99|15.2 |14.84|14.92|10593700|AAL |\n",
            "+----------+-----+-----+-----+-----+--------+----+\n",
            "only showing top 20 rows\n",
            "\n"
          ]
        }
      ]
    },
    {
      "cell_type": "code",
      "source": [
        "df.printSchema()\n"
      ],
      "metadata": {
        "colab": {
          "base_uri": "https://localhost:8080/"
        },
        "id": "0iUYA8JOC_vp",
        "outputId": "a08fad41-e59b-4ae4-ed53-a2195568183b"
      },
      "execution_count": 53,
      "outputs": [
        {
          "output_type": "stream",
          "name": "stdout",
          "text": [
            "root\n",
            " |-- date: string (nullable = true)\n",
            " |-- open: string (nullable = true)\n",
            " |-- high: string (nullable = true)\n",
            " |-- low: string (nullable = true)\n",
            " |-- close: string (nullable = true)\n",
            " |-- volume: string (nullable = true)\n",
            " |-- Name: string (nullable = true)\n",
            "\n"
          ]
        }
      ]
    },
    {
      "cell_type": "markdown",
      "source": [
        "Iremos renomear as colunas. <br>\n",
        "Para renomearmos as colunas, usaremos o comando**.select(col('old_name').alias('new_name'))**. "
      ],
      "metadata": {
        "id": "HjobL5i-hzV8"
      }
    },
    {
      "cell_type": "code",
      "source": [
        "#Importando col a partir do pyspark.sql.functions\n",
        "from pyspark.sql.functions import col"
      ],
      "metadata": {
        "id": "DVq72QPZAiMd"
      },
      "execution_count": 54,
      "outputs": []
    },
    {
      "cell_type": "code",
      "source": [
        "df = df.select(col(\"date\").alias(\"data\"), col(\"open\").alias(\"abertura\"), col(\"high\").alias('maxima'), col('low').alias('minima'), col('close').alias('fechamento'), col('volume').alias('volume'), col('Name').alias('nome'))\n",
        "df.show()"
      ],
      "metadata": {
        "colab": {
          "base_uri": "https://localhost:8080/"
        },
        "id": "oDNAGJQg0uqY",
        "outputId": "0491f8e5-43c3-4390-8238-bb73830c2d50"
      },
      "execution_count": 55,
      "outputs": [
        {
          "output_type": "stream",
          "name": "stdout",
          "text": [
            "+----------+--------+------+------+----------+--------+----+\n",
            "|      data|abertura|maxima|minima|fechamento|  volume|nome|\n",
            "+----------+--------+------+------+----------+--------+----+\n",
            "|2013-02-08|   15.07| 15.12| 14.63|     14.75| 8407500| AAL|\n",
            "|2013-02-11|   14.89| 15.01| 14.26|     14.46| 8882000| AAL|\n",
            "|2013-02-12|   14.45| 14.51|  14.1|     14.27| 8126000| AAL|\n",
            "|2013-02-13|    14.3| 14.94| 14.25|     14.66|10259500| AAL|\n",
            "|2013-02-14|   14.94| 14.96| 13.16|     13.99|31879900| AAL|\n",
            "|2013-02-15|   13.93| 14.61| 13.93|      14.5|15628000| AAL|\n",
            "|2013-02-19|   14.33| 14.56| 14.08|     14.26|11354400| AAL|\n",
            "|2013-02-20|   14.17| 14.26| 13.15|     13.33|14725200| AAL|\n",
            "|2013-02-21|   13.62| 13.95|  12.9|     13.37|11922100| AAL|\n",
            "|2013-02-22|   13.57|  13.6| 13.21|     13.57| 6071400| AAL|\n",
            "|2013-02-25|    13.6| 13.76|  13.0|     13.02| 7186400| AAL|\n",
            "|2013-02-26|   13.14| 13.42|  12.7|     13.26| 9419000| AAL|\n",
            "|2013-02-27|   13.28| 13.62| 13.18|     13.41| 7390500| AAL|\n",
            "|2013-02-28|   13.49| 13.63| 13.39|     13.43| 6143600| AAL|\n",
            "|2013-03-01|   13.37| 13.95| 13.32|     13.61| 7376800| AAL|\n",
            "|2013-03-04|    13.5| 14.07| 13.47|      13.9| 8174800| AAL|\n",
            "|2013-03-05|   14.01| 14.05| 13.71|     14.05| 7676100| AAL|\n",
            "|2013-03-06|   14.52| 14.68| 14.25|     14.57|13243200| AAL|\n",
            "|2013-03-07|    14.7| 14.93|  14.5|     14.82| 9125300| AAL|\n",
            "|2013-03-08|   14.99|  15.2| 14.84|     14.92|10593700| AAL|\n",
            "+----------+--------+------+------+----------+--------+----+\n",
            "only showing top 20 rows\n",
            "\n"
          ]
        }
      ]
    },
    {
      "cell_type": "code",
      "source": [
        "#Alterando o tipo das colunas\n",
        "from pyspark.sql.types import StringType, DateType, FloatType\n",
        "from pyspark.sql.types import BooleanType, IntegerType\n"
      ],
      "metadata": {
        "id": "K7t48QAJ9z46"
      },
      "execution_count": 56,
      "outputs": []
    },
    {
      "cell_type": "code",
      "source": [
        "df = df \\\n",
        "  .withColumn(\"data\" ,\n",
        "              df[\"data\"]\n",
        "              .cast(DateType()))   \\\n",
        "  .withColumn(\"abertura\",\n",
        "              df[\"abertura\"]\n",
        "              .cast(FloatType()))    \\\n",
        "   .withColumn(\"maxima\",df[\"maxima\"]\n",
        "              .cast(FloatType()))    \\\n",
        "              .withColumn(\"minima\", df[\"minima\"].cast(FloatType()))    \\\n",
        "              .withColumn(\"fechamento\",\n",
        "              df[\"fechamento\"]\n",
        "              .cast(FloatType()))    \\\n",
        "              .withColumn(\"volume\",\n",
        "              df[\"volume\"]\n",
        "              .cast(IntegerType()))    \\\n",
        "              .withColumn(\"nome\",\n",
        "              df[\"nome\"]\n",
        "              .cast(StringType()))    \\\n"
      ],
      "metadata": {
        "id": "r_Jp7H3GKDlR"
      },
      "execution_count": 57,
      "outputs": []
    },
    {
      "cell_type": "code",
      "source": [
        "#Visualizando os tipos de dados de cada coluna após a alteração.\n",
        "df.printSchema()"
      ],
      "metadata": {
        "colab": {
          "base_uri": "https://localhost:8080/"
        },
        "id": "fNjw-wA9PuGO",
        "outputId": "6318df29-b9f3-4272-ce0d-4087336fa109"
      },
      "execution_count": 58,
      "outputs": [
        {
          "output_type": "stream",
          "name": "stdout",
          "text": [
            "root\n",
            " |-- data: date (nullable = true)\n",
            " |-- abertura: float (nullable = true)\n",
            " |-- maxima: float (nullable = true)\n",
            " |-- minima: float (nullable = true)\n",
            " |-- fechamento: float (nullable = true)\n",
            " |-- volume: integer (nullable = true)\n",
            " |-- nome: string (nullable = true)\n",
            "\n"
          ]
        }
      ]
    },
    {
      "cell_type": "markdown",
      "source": [
        "Limitaremos a visualização de apenas 5 observações."
      ],
      "metadata": {
        "id": "xTzRQ2A5v28g"
      }
    },
    {
      "cell_type": "code",
      "source": [
        "df.limit(5).toPandas()"
      ],
      "metadata": {
        "colab": {
          "base_uri": "https://localhost:8080/",
          "height": 206
        },
        "id": "6zsybI9LBffo",
        "outputId": "c12f2926-c3d1-4a3a-8780-62befdb44d49"
      },
      "execution_count": 59,
      "outputs": [
        {
          "output_type": "execute_result",
          "data": {
            "text/html": [
              "\n",
              "  <div id=\"df-11c7f16c-110b-43fa-b6cf-54891deb7283\">\n",
              "    <div class=\"colab-df-container\">\n",
              "      <div>\n",
              "<style scoped>\n",
              "    .dataframe tbody tr th:only-of-type {\n",
              "        vertical-align: middle;\n",
              "    }\n",
              "\n",
              "    .dataframe tbody tr th {\n",
              "        vertical-align: top;\n",
              "    }\n",
              "\n",
              "    .dataframe thead th {\n",
              "        text-align: right;\n",
              "    }\n",
              "</style>\n",
              "<table border=\"1\" class=\"dataframe\">\n",
              "  <thead>\n",
              "    <tr style=\"text-align: right;\">\n",
              "      <th></th>\n",
              "      <th>data</th>\n",
              "      <th>abertura</th>\n",
              "      <th>maxima</th>\n",
              "      <th>minima</th>\n",
              "      <th>fechamento</th>\n",
              "      <th>volume</th>\n",
              "      <th>nome</th>\n",
              "    </tr>\n",
              "  </thead>\n",
              "  <tbody>\n",
              "    <tr>\n",
              "      <th>0</th>\n",
              "      <td>2013-02-08</td>\n",
              "      <td>15.07</td>\n",
              "      <td>15.12</td>\n",
              "      <td>14.63</td>\n",
              "      <td>14.75</td>\n",
              "      <td>8407500</td>\n",
              "      <td>AAL</td>\n",
              "    </tr>\n",
              "    <tr>\n",
              "      <th>1</th>\n",
              "      <td>2013-02-11</td>\n",
              "      <td>14.89</td>\n",
              "      <td>15.01</td>\n",
              "      <td>14.26</td>\n",
              "      <td>14.46</td>\n",
              "      <td>8882000</td>\n",
              "      <td>AAL</td>\n",
              "    </tr>\n",
              "    <tr>\n",
              "      <th>2</th>\n",
              "      <td>2013-02-12</td>\n",
              "      <td>14.45</td>\n",
              "      <td>14.51</td>\n",
              "      <td>14.10</td>\n",
              "      <td>14.27</td>\n",
              "      <td>8126000</td>\n",
              "      <td>AAL</td>\n",
              "    </tr>\n",
              "    <tr>\n",
              "      <th>3</th>\n",
              "      <td>2013-02-13</td>\n",
              "      <td>14.30</td>\n",
              "      <td>14.94</td>\n",
              "      <td>14.25</td>\n",
              "      <td>14.66</td>\n",
              "      <td>10259500</td>\n",
              "      <td>AAL</td>\n",
              "    </tr>\n",
              "    <tr>\n",
              "      <th>4</th>\n",
              "      <td>2013-02-14</td>\n",
              "      <td>14.94</td>\n",
              "      <td>14.96</td>\n",
              "      <td>13.16</td>\n",
              "      <td>13.99</td>\n",
              "      <td>31879900</td>\n",
              "      <td>AAL</td>\n",
              "    </tr>\n",
              "  </tbody>\n",
              "</table>\n",
              "</div>\n",
              "      <button class=\"colab-df-convert\" onclick=\"convertToInteractive('df-11c7f16c-110b-43fa-b6cf-54891deb7283')\"\n",
              "              title=\"Convert this dataframe to an interactive table.\"\n",
              "              style=\"display:none;\">\n",
              "        \n",
              "  <svg xmlns=\"http://www.w3.org/2000/svg\" height=\"24px\"viewBox=\"0 0 24 24\"\n",
              "       width=\"24px\">\n",
              "    <path d=\"M0 0h24v24H0V0z\" fill=\"none\"/>\n",
              "    <path d=\"M18.56 5.44l.94 2.06.94-2.06 2.06-.94-2.06-.94-.94-2.06-.94 2.06-2.06.94zm-11 1L8.5 8.5l.94-2.06 2.06-.94-2.06-.94L8.5 2.5l-.94 2.06-2.06.94zm10 10l.94 2.06.94-2.06 2.06-.94-2.06-.94-.94-2.06-.94 2.06-2.06.94z\"/><path d=\"M17.41 7.96l-1.37-1.37c-.4-.4-.92-.59-1.43-.59-.52 0-1.04.2-1.43.59L10.3 9.45l-7.72 7.72c-.78.78-.78 2.05 0 2.83L4 21.41c.39.39.9.59 1.41.59.51 0 1.02-.2 1.41-.59l7.78-7.78 2.81-2.81c.8-.78.8-2.07 0-2.86zM5.41 20L4 18.59l7.72-7.72 1.47 1.35L5.41 20z\"/>\n",
              "  </svg>\n",
              "      </button>\n",
              "      \n",
              "  <style>\n",
              "    .colab-df-container {\n",
              "      display:flex;\n",
              "      flex-wrap:wrap;\n",
              "      gap: 12px;\n",
              "    }\n",
              "\n",
              "    .colab-df-convert {\n",
              "      background-color: #E8F0FE;\n",
              "      border: none;\n",
              "      border-radius: 50%;\n",
              "      cursor: pointer;\n",
              "      display: none;\n",
              "      fill: #1967D2;\n",
              "      height: 32px;\n",
              "      padding: 0 0 0 0;\n",
              "      width: 32px;\n",
              "    }\n",
              "\n",
              "    .colab-df-convert:hover {\n",
              "      background-color: #E2EBFA;\n",
              "      box-shadow: 0px 1px 2px rgba(60, 64, 67, 0.3), 0px 1px 3px 1px rgba(60, 64, 67, 0.15);\n",
              "      fill: #174EA6;\n",
              "    }\n",
              "\n",
              "    [theme=dark] .colab-df-convert {\n",
              "      background-color: #3B4455;\n",
              "      fill: #D2E3FC;\n",
              "    }\n",
              "\n",
              "    [theme=dark] .colab-df-convert:hover {\n",
              "      background-color: #434B5C;\n",
              "      box-shadow: 0px 1px 3px 1px rgba(0, 0, 0, 0.15);\n",
              "      filter: drop-shadow(0px 1px 2px rgba(0, 0, 0, 0.3));\n",
              "      fill: #FFFFFF;\n",
              "    }\n",
              "  </style>\n",
              "\n",
              "      <script>\n",
              "        const buttonEl =\n",
              "          document.querySelector('#df-11c7f16c-110b-43fa-b6cf-54891deb7283 button.colab-df-convert');\n",
              "        buttonEl.style.display =\n",
              "          google.colab.kernel.accessAllowed ? 'block' : 'none';\n",
              "\n",
              "        async function convertToInteractive(key) {\n",
              "          const element = document.querySelector('#df-11c7f16c-110b-43fa-b6cf-54891deb7283');\n",
              "          const dataTable =\n",
              "            await google.colab.kernel.invokeFunction('convertToInteractive',\n",
              "                                                     [key], {});\n",
              "          if (!dataTable) return;\n",
              "\n",
              "          const docLinkHtml = 'Like what you see? Visit the ' +\n",
              "            '<a target=\"_blank\" href=https://colab.research.google.com/notebooks/data_table.ipynb>data table notebook</a>'\n",
              "            + ' to learn more about interactive tables.';\n",
              "          element.innerHTML = '';\n",
              "          dataTable['output_type'] = 'display_data';\n",
              "          await google.colab.output.renderOutput(dataTable, element);\n",
              "          const docLink = document.createElement('div');\n",
              "          docLink.innerHTML = docLinkHtml;\n",
              "          element.appendChild(docLink);\n",
              "        }\n",
              "      </script>\n",
              "    </div>\n",
              "  </div>\n",
              "  "
            ],
            "text/plain": [
              "         data  abertura  maxima  minima  fechamento    volume nome\n",
              "0  2013-02-08     15.07   15.12   14.63       14.75   8407500  AAL\n",
              "1  2013-02-11     14.89   15.01   14.26       14.46   8882000  AAL\n",
              "2  2013-02-12     14.45   14.51   14.10       14.27   8126000  AAL\n",
              "3  2013-02-13     14.30   14.94   14.25       14.66  10259500  AAL\n",
              "4  2013-02-14     14.94   14.96   13.16       13.99  31879900  AAL"
            ]
          },
          "metadata": {},
          "execution_count": 59
        }
      ]
    },
    {
      "cell_type": "markdown",
      "source": [
        "Iremos alterar a posição das colunas com o comando **.select()**."
      ],
      "metadata": {
        "id": "YQjVn8MPwA1x"
      }
    },
    {
      "cell_type": "code",
      "source": [
        "df = df.select('nome', 'data', 'abertura', 'maxima', 'minima', 'fechamento', 'volume')\n",
        "df.show()"
      ],
      "metadata": {
        "colab": {
          "base_uri": "https://localhost:8080/"
        },
        "id": "L5c3hpzxB8NT",
        "outputId": "fa020daf-5ada-436f-fd6f-ea40c2cc2817"
      },
      "execution_count": 60,
      "outputs": [
        {
          "output_type": "stream",
          "name": "stdout",
          "text": [
            "+----+----------+--------+------+------+----------+--------+\n",
            "|nome|      data|abertura|maxima|minima|fechamento|  volume|\n",
            "+----+----------+--------+------+------+----------+--------+\n",
            "| AAL|2013-02-08|   15.07| 15.12| 14.63|     14.75| 8407500|\n",
            "| AAL|2013-02-11|   14.89| 15.01| 14.26|     14.46| 8882000|\n",
            "| AAL|2013-02-12|   14.45| 14.51|  14.1|     14.27| 8126000|\n",
            "| AAL|2013-02-13|    14.3| 14.94| 14.25|     14.66|10259500|\n",
            "| AAL|2013-02-14|   14.94| 14.96| 13.16|     13.99|31879900|\n",
            "| AAL|2013-02-15|   13.93| 14.61| 13.93|      14.5|15628000|\n",
            "| AAL|2013-02-19|   14.33| 14.56| 14.08|     14.26|11354400|\n",
            "| AAL|2013-02-20|   14.17| 14.26| 13.15|     13.33|14725200|\n",
            "| AAL|2013-02-21|   13.62| 13.95|  12.9|     13.37|11922100|\n",
            "| AAL|2013-02-22|   13.57|  13.6| 13.21|     13.57| 6071400|\n",
            "| AAL|2013-02-25|    13.6| 13.76|  13.0|     13.02| 7186400|\n",
            "| AAL|2013-02-26|   13.14| 13.42|  12.7|     13.26| 9419000|\n",
            "| AAL|2013-02-27|   13.28| 13.62| 13.18|     13.41| 7390500|\n",
            "| AAL|2013-02-28|   13.49| 13.63| 13.39|     13.43| 6143600|\n",
            "| AAL|2013-03-01|   13.37| 13.95| 13.32|     13.61| 7376800|\n",
            "| AAL|2013-03-04|    13.5| 14.07| 13.47|      13.9| 8174800|\n",
            "| AAL|2013-03-05|   14.01| 14.05| 13.71|     14.05| 7676100|\n",
            "| AAL|2013-03-06|   14.52| 14.68| 14.25|     14.57|13243200|\n",
            "| AAL|2013-03-07|    14.7| 14.93|  14.5|     14.82| 9125300|\n",
            "| AAL|2013-03-08|   14.99|  15.2| 14.84|     14.92|10593700|\n",
            "+----+----------+--------+------+------+----------+--------+\n",
            "only showing top 20 rows\n",
            "\n"
          ]
        }
      ]
    },
    {
      "cell_type": "markdown",
      "source": [
        "Quantos registros há na planilha?\n",
        "\n",
        "Para respondermos essa questão podemos utilizar os comandos **.describe()** ou **.count()**."
      ],
      "metadata": {
        "id": "8tgra53e2wZK"
      }
    },
    {
      "cell_type": "code",
      "source": [
        "df.describe().show()\n"
      ],
      "metadata": {
        "colab": {
          "base_uri": "https://localhost:8080/"
        },
        "id": "bzB9I5DM3nb3",
        "outputId": "bce42ffd-9604-4f7f-a27e-50a5cd402d9b"
      },
      "execution_count": 61,
      "outputs": [
        {
          "output_type": "stream",
          "name": "stdout",
          "text": [
            "+-------+------+-----------------+-----------------+-----------------+-----------------+-----------------+\n",
            "|summary|  nome|         abertura|           maxima|           minima|       fechamento|           volume|\n",
            "+-------+------+-----------------+-----------------+-----------------+-----------------+-----------------+\n",
            "|  count|619040|           619029|           619032|           619032|           619040|           619040|\n",
            "|   mean|  null| 83.0233343160683|83.77831069095873| 82.2560964206955|83.04376277067759|4321823.395568945|\n",
            "| stddev|  null|97.37876902994715| 98.2075188299977|96.50742113042669|97.38974800596789|8693609.511967659|\n",
            "|    min|     A|             1.62|             1.69|              1.5|             1.59|                0|\n",
            "|    max|   ZTS|           2044.0|          2067.99|          2035.11|           2049.0|        618237630|\n",
            "+-------+------+-----------------+-----------------+-----------------+-----------------+-----------------+\n",
            "\n"
          ]
        }
      ]
    },
    {
      "cell_type": "code",
      "source": [
        "df.count()"
      ],
      "metadata": {
        "colab": {
          "base_uri": "https://localhost:8080/"
        },
        "id": "Te-du17LFHDw",
        "outputId": "f6461acd-2433-4cdf-b652-e6a7ea7e0699"
      },
      "execution_count": 62,
      "outputs": [
        {
          "output_type": "execute_result",
          "data": {
            "text/plain": [
              "619040"
            ]
          },
          "metadata": {},
          "execution_count": 62
        }
      ]
    },
    {
      "cell_type": "markdown",
      "source": [
        "Quantos registros há na planilha para a ação da Apple (AAPL)?\n",
        "<br> \n",
        "\n",
        "\n",
        "Para selecionarmos dados específicos de uma coluna específica utilizaremos as funções em conjunto: **select, where, count**. <br>\n",
        "Então selecionaremos a coluna **nome**, onde exista nomes **igual a AAPL** *(ação da APPLE)* e **contaremos** quantas são."
      ],
      "metadata": {
        "id": "rpaMPimzGI9f"
      }
    },
    {
      "cell_type": "code",
      "source": [
        "df.select('nome').where(df.nome==\"AAPL\").count()"
      ],
      "metadata": {
        "colab": {
          "base_uri": "https://localhost:8080/"
        },
        "id": "9WmgL-F2Fao0",
        "outputId": "3b68a4da-f161-4d55-a975-2a94260090e9"
      },
      "execution_count": 63,
      "outputs": [
        {
          "output_type": "execute_result",
          "data": {
            "text/plain": [
              "1259"
            ]
          },
          "metadata": {},
          "execution_count": 63
        }
      ]
    },
    {
      "cell_type": "markdown",
      "source": [
        "Quantas empresas distintas têm registros nessa planilha?\n",
        "\n",
        "Vamos importar a biblioteca countDistinct do pyspark.sql.functions.\n"
      ],
      "metadata": {
        "id": "Z77IdGPYHYnB"
      }
    },
    {
      "cell_type": "code",
      "source": [
        "#importando biblioteca para contagem de valores distintos \n",
        "from pyspark.sql.functions import countDistinct"
      ],
      "metadata": {
        "id": "7bcULGccLgRh"
      },
      "execution_count": 64,
      "outputs": []
    },
    {
      "cell_type": "markdown",
      "source": [
        "Criaremos uma variável para inserir os valores distintos da coluna **nome** e visualizaremos com o comando **.show()**\n",
        "\n",
        "\n"
      ],
      "metadata": {
        "id": "Luk4Ga2ZMpyV"
      }
    },
    {
      "cell_type": "code",
      "source": [
        "empresasdistintas = df.select(countDistinct(\"nome\"))\n",
        "empresasdistintas.show()"
      ],
      "metadata": {
        "colab": {
          "base_uri": "https://localhost:8080/"
        },
        "id": "biMFQTZ6HbkO",
        "outputId": "064ba71b-6aff-4ee2-ea86-e0654e0ec81d"
      },
      "execution_count": 65,
      "outputs": [
        {
          "output_type": "stream",
          "name": "stdout",
          "text": [
            "+--------------------+\n",
            "|count(DISTINCT nome)|\n",
            "+--------------------+\n",
            "|                 505|\n",
            "+--------------------+\n",
            "\n"
          ]
        }
      ]
    },
    {
      "cell_type": "markdown",
      "source": [
        "Com qual frequência o preço de uma ação no fechamento é maior do que o preço na abertura?\n",
        "\n",
        "Criaremos uma coluna (**fech_abert**) para verificarmos em quais observações o preço de fechamento é maior do que o preço da abertura.\n"
      ],
      "metadata": {
        "id": "P_0AOjRwM9lC"
      }
    },
    {
      "cell_type": "code",
      "source": [
        "df = df.withColumn(\"fech_abert\", col('fechamento') >col('abertura'))\n",
        "df.limit(5).toPandas()"
      ],
      "metadata": {
        "colab": {
          "base_uri": "https://localhost:8080/",
          "height": 206
        },
        "id": "3hUotytEl6Tt",
        "outputId": "a8aab3ac-978d-401a-9997-fbbf9346e333"
      },
      "execution_count": 66,
      "outputs": [
        {
          "output_type": "execute_result",
          "data": {
            "text/html": [
              "\n",
              "  <div id=\"df-e8a88344-e19d-469d-8606-2a8d6c99664e\">\n",
              "    <div class=\"colab-df-container\">\n",
              "      <div>\n",
              "<style scoped>\n",
              "    .dataframe tbody tr th:only-of-type {\n",
              "        vertical-align: middle;\n",
              "    }\n",
              "\n",
              "    .dataframe tbody tr th {\n",
              "        vertical-align: top;\n",
              "    }\n",
              "\n",
              "    .dataframe thead th {\n",
              "        text-align: right;\n",
              "    }\n",
              "</style>\n",
              "<table border=\"1\" class=\"dataframe\">\n",
              "  <thead>\n",
              "    <tr style=\"text-align: right;\">\n",
              "      <th></th>\n",
              "      <th>nome</th>\n",
              "      <th>data</th>\n",
              "      <th>abertura</th>\n",
              "      <th>maxima</th>\n",
              "      <th>minima</th>\n",
              "      <th>fechamento</th>\n",
              "      <th>volume</th>\n",
              "      <th>fech_abert</th>\n",
              "    </tr>\n",
              "  </thead>\n",
              "  <tbody>\n",
              "    <tr>\n",
              "      <th>0</th>\n",
              "      <td>AAL</td>\n",
              "      <td>2013-02-08</td>\n",
              "      <td>15.07</td>\n",
              "      <td>15.12</td>\n",
              "      <td>14.63</td>\n",
              "      <td>14.75</td>\n",
              "      <td>8407500</td>\n",
              "      <td>False</td>\n",
              "    </tr>\n",
              "    <tr>\n",
              "      <th>1</th>\n",
              "      <td>AAL</td>\n",
              "      <td>2013-02-11</td>\n",
              "      <td>14.89</td>\n",
              "      <td>15.01</td>\n",
              "      <td>14.26</td>\n",
              "      <td>14.46</td>\n",
              "      <td>8882000</td>\n",
              "      <td>False</td>\n",
              "    </tr>\n",
              "    <tr>\n",
              "      <th>2</th>\n",
              "      <td>AAL</td>\n",
              "      <td>2013-02-12</td>\n",
              "      <td>14.45</td>\n",
              "      <td>14.51</td>\n",
              "      <td>14.10</td>\n",
              "      <td>14.27</td>\n",
              "      <td>8126000</td>\n",
              "      <td>False</td>\n",
              "    </tr>\n",
              "    <tr>\n",
              "      <th>3</th>\n",
              "      <td>AAL</td>\n",
              "      <td>2013-02-13</td>\n",
              "      <td>14.30</td>\n",
              "      <td>14.94</td>\n",
              "      <td>14.25</td>\n",
              "      <td>14.66</td>\n",
              "      <td>10259500</td>\n",
              "      <td>True</td>\n",
              "    </tr>\n",
              "    <tr>\n",
              "      <th>4</th>\n",
              "      <td>AAL</td>\n",
              "      <td>2013-02-14</td>\n",
              "      <td>14.94</td>\n",
              "      <td>14.96</td>\n",
              "      <td>13.16</td>\n",
              "      <td>13.99</td>\n",
              "      <td>31879900</td>\n",
              "      <td>False</td>\n",
              "    </tr>\n",
              "  </tbody>\n",
              "</table>\n",
              "</div>\n",
              "      <button class=\"colab-df-convert\" onclick=\"convertToInteractive('df-e8a88344-e19d-469d-8606-2a8d6c99664e')\"\n",
              "              title=\"Convert this dataframe to an interactive table.\"\n",
              "              style=\"display:none;\">\n",
              "        \n",
              "  <svg xmlns=\"http://www.w3.org/2000/svg\" height=\"24px\"viewBox=\"0 0 24 24\"\n",
              "       width=\"24px\">\n",
              "    <path d=\"M0 0h24v24H0V0z\" fill=\"none\"/>\n",
              "    <path d=\"M18.56 5.44l.94 2.06.94-2.06 2.06-.94-2.06-.94-.94-2.06-.94 2.06-2.06.94zm-11 1L8.5 8.5l.94-2.06 2.06-.94-2.06-.94L8.5 2.5l-.94 2.06-2.06.94zm10 10l.94 2.06.94-2.06 2.06-.94-2.06-.94-.94-2.06-.94 2.06-2.06.94z\"/><path d=\"M17.41 7.96l-1.37-1.37c-.4-.4-.92-.59-1.43-.59-.52 0-1.04.2-1.43.59L10.3 9.45l-7.72 7.72c-.78.78-.78 2.05 0 2.83L4 21.41c.39.39.9.59 1.41.59.51 0 1.02-.2 1.41-.59l7.78-7.78 2.81-2.81c.8-.78.8-2.07 0-2.86zM5.41 20L4 18.59l7.72-7.72 1.47 1.35L5.41 20z\"/>\n",
              "  </svg>\n",
              "      </button>\n",
              "      \n",
              "  <style>\n",
              "    .colab-df-container {\n",
              "      display:flex;\n",
              "      flex-wrap:wrap;\n",
              "      gap: 12px;\n",
              "    }\n",
              "\n",
              "    .colab-df-convert {\n",
              "      background-color: #E8F0FE;\n",
              "      border: none;\n",
              "      border-radius: 50%;\n",
              "      cursor: pointer;\n",
              "      display: none;\n",
              "      fill: #1967D2;\n",
              "      height: 32px;\n",
              "      padding: 0 0 0 0;\n",
              "      width: 32px;\n",
              "    }\n",
              "\n",
              "    .colab-df-convert:hover {\n",
              "      background-color: #E2EBFA;\n",
              "      box-shadow: 0px 1px 2px rgba(60, 64, 67, 0.3), 0px 1px 3px 1px rgba(60, 64, 67, 0.15);\n",
              "      fill: #174EA6;\n",
              "    }\n",
              "\n",
              "    [theme=dark] .colab-df-convert {\n",
              "      background-color: #3B4455;\n",
              "      fill: #D2E3FC;\n",
              "    }\n",
              "\n",
              "    [theme=dark] .colab-df-convert:hover {\n",
              "      background-color: #434B5C;\n",
              "      box-shadow: 0px 1px 3px 1px rgba(0, 0, 0, 0.15);\n",
              "      filter: drop-shadow(0px 1px 2px rgba(0, 0, 0, 0.3));\n",
              "      fill: #FFFFFF;\n",
              "    }\n",
              "  </style>\n",
              "\n",
              "      <script>\n",
              "        const buttonEl =\n",
              "          document.querySelector('#df-e8a88344-e19d-469d-8606-2a8d6c99664e button.colab-df-convert');\n",
              "        buttonEl.style.display =\n",
              "          google.colab.kernel.accessAllowed ? 'block' : 'none';\n",
              "\n",
              "        async function convertToInteractive(key) {\n",
              "          const element = document.querySelector('#df-e8a88344-e19d-469d-8606-2a8d6c99664e');\n",
              "          const dataTable =\n",
              "            await google.colab.kernel.invokeFunction('convertToInteractive',\n",
              "                                                     [key], {});\n",
              "          if (!dataTable) return;\n",
              "\n",
              "          const docLinkHtml = 'Like what you see? Visit the ' +\n",
              "            '<a target=\"_blank\" href=https://colab.research.google.com/notebooks/data_table.ipynb>data table notebook</a>'\n",
              "            + ' to learn more about interactive tables.';\n",
              "          element.innerHTML = '';\n",
              "          dataTable['output_type'] = 'display_data';\n",
              "          await google.colab.output.renderOutput(dataTable, element);\n",
              "          const docLink = document.createElement('div');\n",
              "          docLink.innerHTML = docLinkHtml;\n",
              "          element.appendChild(docLink);\n",
              "        }\n",
              "      </script>\n",
              "    </div>\n",
              "  </div>\n",
              "  "
            ],
            "text/plain": [
              "  nome        data  abertura  maxima  minima  fechamento    volume  fech_abert\n",
              "0  AAL  2013-02-08     15.07   15.12   14.63       14.75   8407500       False\n",
              "1  AAL  2013-02-11     14.89   15.01   14.26       14.46   8882000       False\n",
              "2  AAL  2013-02-12     14.45   14.51   14.10       14.27   8126000       False\n",
              "3  AAL  2013-02-13     14.30   14.94   14.25       14.66  10259500        True\n",
              "4  AAL  2013-02-14     14.94   14.96   13.16       13.99  31879900       False"
            ]
          },
          "metadata": {},
          "execution_count": 66
        }
      ]
    },
    {
      "cell_type": "markdown",
      "source": [
        "Vamos usar a função count para contarmos quantas vezes o fechamento foi maior que a abertura."
      ],
      "metadata": {
        "id": "onj9Ych8t9U0"
      }
    },
    {
      "cell_type": "code",
      "source": [
        "df.select('fech_abert').where(df.fech_abert==\"True\").count()\n"
      ],
      "metadata": {
        "colab": {
          "base_uri": "https://localhost:8080/"
        },
        "id": "ZjM7-EGRuEFk",
        "outputId": "7a26b996-0564-4974-9fa1-5c1e4f60d82e"
      },
      "execution_count": 67,
      "outputs": [
        {
          "output_type": "execute_result",
          "data": {
            "text/plain": [
              "318970"
            ]
          },
          "metadata": {},
          "execution_count": 67
        }
      ]
    },
    {
      "cell_type": "markdown",
      "source": [
        "Então, dividiremos o resultado pelo total dos eventos e arredondaremos o resultado."
      ],
      "metadata": {
        "id": "0yHdt8HYuPyi"
      }
    },
    {
      "cell_type": "code",
      "source": [
        "porcentagem =  (318940/619040)*100\n",
        "round(porcentagem, 2)"
      ],
      "metadata": {
        "colab": {
          "base_uri": "https://localhost:8080/"
        },
        "id": "2s85zwNxuZ7H",
        "outputId": "24f44455-96a2-493e-f65b-6dd88bee981c"
      },
      "execution_count": 68,
      "outputs": [
        {
          "output_type": "execute_result",
          "data": {
            "text/plain": [
              "51.52"
            ]
          },
          "metadata": {},
          "execution_count": 68
        }
      ]
    },
    {
      "cell_type": "markdown",
      "source": [
        "Qual o maior valor das ações da Apple (AAPL) na história? <br>\n",
        "Vamos criar uma variável com o nome **apple** e inseriremos dentro dela apenas a valores encontrados em **AAPL**. Faremos um agrupamento para localizarmos apenas a cotação máxima da ação desta empresa."
      ],
      "metadata": {
        "id": "0y2zjq3h6oUP"
      }
    },
    {
      "cell_type": "code",
      "source": [
        "#Filtrando pelo valor que desejamos encontrar.\n",
        "apple = df[df['nome']=='AAPL']"
      ],
      "metadata": {
        "id": "8ixrQUpXn5aX"
      },
      "execution_count": 69,
      "outputs": []
    },
    {
      "cell_type": "code",
      "source": [
        "#Agrupando por nome e procurando a maxima do valor que desejamos encontrar.\n",
        "apple.groupby('nome').agg({'maxima': 'max'}).show()"
      ],
      "metadata": {
        "colab": {
          "base_uri": "https://localhost:8080/"
        },
        "id": "n-9TgRi6FD54",
        "outputId": "769f2218-0fcc-40ac-ad96-e632e512d4ca"
      },
      "execution_count": 70,
      "outputs": [
        {
          "output_type": "stream",
          "name": "stdout",
          "text": [
            "+----+-----------+\n",
            "|nome|max(maxima)|\n",
            "+----+-----------+\n",
            "|AAPL|      180.1|\n",
            "+----+-----------+\n",
            "\n"
          ]
        }
      ]
    },
    {
      "cell_type": "markdown",
      "source": [
        "Qual ação tem a maior volatilidade? Uma forma é medir o desvio-padrão do preço de fechamento de cada ação e considerar a ação de maior desvio-padrão."
      ],
      "metadata": {
        "id": "NjiTrGoCpuPG"
      }
    },
    {
      "cell_type": "code",
      "source": [
        "#importando bibliotecas necessárias. \n",
        "from pyspark.sql.functions import stddev, sum, col, desc, max, min, mean\n"
      ],
      "metadata": {
        "id": "4sOGYun7_C2A"
      },
      "execution_count": 71,
      "outputs": []
    },
    {
      "cell_type": "markdown",
      "source": [
        "Utilizaremos um conjunto de funções combinadas para encontrarmos a ação com maior desvio padrão.<br>\n",
        "**groupBy** para agrupar pelo nome da empresa. <br>\n",
        "**agg(stddev().alias()** para salvar o resultado do desvio padrão da coluna fechamento na própria coluna fechamento. <br>\n",
        "**sort(desc)** para ordenar por ordem decrescente. <br>\n",
        "**show()** para visualizarmos os resultados.\n"
      ],
      "metadata": {
        "id": "P5VBMPkYf3cr"
      }
    },
    {
      "cell_type": "code",
      "source": [
        "df.groupBy(\"nome\") \\\n",
        "  .agg(stddev(\"fechamento\").alias(\"fechamento\")) \\\n",
        "  .sort(desc(\"fechamento\")) \\\n",
        "  .show()"
      ],
      "metadata": {
        "colab": {
          "base_uri": "https://localhost:8080/"
        },
        "id": "AKjx8xP7ZQyE",
        "outputId": "6af6a783-c5d0-47e1-e121-6c1538f6c02d"
      },
      "execution_count": 72,
      "outputs": [
        {
          "output_type": "stream",
          "name": "stdout",
          "text": [
            "+-----+------------------+\n",
            "| nome|        fechamento|\n",
            "+-----+------------------+\n",
            "| PCLN|  320.533474036385|\n",
            "| AMZN|282.50039426072794|\n",
            "|GOOGL| 187.5738922672348|\n",
            "| GOOG|166.42052806663057|\n",
            "|  MTD| 131.3972196849655|\n",
            "|  AZO| 130.7495964639748|\n",
            "|  CMG| 130.2806239160575|\n",
            "| EQIX|  95.2128051888174|\n",
            "| REGN| 94.06934499598837|\n",
            "| CHTR| 83.63699922834553|\n",
            "| ISRG| 72.97599864131524|\n",
            "| AVGO|  71.4162225390974|\n",
            "| ULTA| 67.15184604914454|\n",
            "|  NOC| 66.39592718115345|\n",
            "|  SHW| 64.52058469695618|\n",
            "|  LMT|  62.4120296184471|\n",
            "|  BLK|62.336883810393154|\n",
            "| NVDA| 59.62464185900208|\n",
            "| ORLY|  59.0950803858885|\n",
            "|  AGN| 59.02635016996632|\n",
            "+-----+------------------+\n",
            "only showing top 20 rows\n",
            "\n"
          ]
        }
      ]
    },
    {
      "cell_type": "markdown",
      "source": [
        "Qual o dia com maior volume de negociação da bolsa?"
      ],
      "metadata": {
        "id": "WTPaU5QaNrb4"
      }
    },
    {
      "cell_type": "code",
      "source": [
        "df.groupBy(\"data\") \\\n",
        "  .agg(sum(\"volume\").alias(\"volume\")) \\\n",
        "  .sort(desc(\"volume\")) \\\n",
        "  .show()"
      ],
      "metadata": {
        "colab": {
          "base_uri": "https://localhost:8080/"
        },
        "id": "mcMI9Mlzw2Yn",
        "outputId": "73681f7e-31e0-49a0-d721-854d3015a5a6"
      },
      "execution_count": 73,
      "outputs": [
        {
          "output_type": "stream",
          "name": "stdout",
          "text": [
            "+----------+----------+\n",
            "|      data|    volume|\n",
            "+----------+----------+\n",
            "|2015-08-24|4607945196|\n",
            "|2016-06-24|4367393052|\n",
            "|2015-12-18|4124454411|\n",
            "|2016-01-20|4087629753|\n",
            "|2018-02-06|4072080890|\n",
            "|2016-11-10|4060601612|\n",
            "|2014-10-15|3993171524|\n",
            "|2013-06-21|3983923288|\n",
            "|2015-09-18|3962050449|\n",
            "|2016-11-09|3915089371|\n",
            "|2016-01-15|3787884056|\n",
            "|2017-12-15|3786992731|\n",
            "|2016-02-08|3759709109|\n",
            "|2016-03-18|3755746256|\n",
            "|2016-01-29|3740170664|\n",
            "|2014-03-21|3611991561|\n",
            "|2018-02-05|3598437288|\n",
            "|2013-03-15|3569550899|\n",
            "|2016-12-16|3564871264|\n",
            "|2016-02-11|3547898496|\n",
            "+----------+----------+\n",
            "only showing top 20 rows\n",
            "\n"
          ]
        }
      ]
    },
    {
      "cell_type": "markdown",
      "source": [
        "Qual a ação mais negociada da bolsa, em volume de transações? \n"
      ],
      "metadata": {
        "id": "CN4dQ419T0Sj"
      }
    },
    {
      "cell_type": "code",
      "source": [
        "df.groupBy(\"nome\") \\\n",
        "  .agg(sum(\"volume\").alias(\"volume\")) \\\n",
        "  .sort(desc(\"volume\")) \\\n",
        "  .show()"
      ],
      "metadata": {
        "colab": {
          "base_uri": "https://localhost:8080/"
        },
        "id": "suQp3H05gwUZ",
        "outputId": "cdecf3fd-2a5c-4904-b365-b0698c962bbb"
      },
      "execution_count": 74,
      "outputs": [
        {
          "output_type": "stream",
          "name": "stdout",
          "text": [
            "+-----+------------+\n",
            "| nome|      volume|\n",
            "+-----+------------+\n",
            "|  BAC|117884953591|\n",
            "| AAPL| 68046305767|\n",
            "|   GE| 53023644686|\n",
            "|    F| 43388129992|\n",
            "|   FB| 43258314899|\n",
            "| MSFT| 42641653597|\n",
            "|  AMD| 40941468586|\n",
            "|   MU| 38082749687|\n",
            "| INTC| 36922332801|\n",
            "| CSCO| 36075826186|\n",
            "|  PFE| 35527608853|\n",
            "|    T| 31850598073|\n",
            "|  CHK| 31421758366|\n",
            "|CMCSA| 30630585625|\n",
            "|  FCX| 29648463667|\n",
            "|    C| 26044628798|\n",
            "|  WFC| 23305954532|\n",
            "|  JPM| 20885592857|\n",
            "|   RF| 20645650500|\n",
            "| NFLX| 20405882026|\n",
            "+-----+------------+\n",
            "only showing top 20 rows\n",
            "\n"
          ]
        }
      ]
    },
    {
      "cell_type": "markdown",
      "source": [
        "Quantas ações começam com a letra “A”? <br>\n",
        "Para descobrirmos quantos são os nomes das ações que começam com a letra A iremos fazer dois processos: <br>\n",
        "**Primeiro:** criarmeos uma nova variável e usaremos o comando **.dropDuplicates** para excluirmos nos nomes duplicados da coluna **nome**. <br>\n",
        "**Segundo:** usaremos o comando **filter** para filtrar os nomes que começam com a leta A (**startswith**).\n"
      ],
      "metadata": {
        "id": "CDMgcG3ST2fY"
      }
    },
    {
      "cell_type": "code",
      "source": [
        "startsA = df.dropDuplicates(['nome'])\n",
        "print(\"Distinct count: \"+str(startsA.count()))\n",
        "startsA.show(truncate=False)"
      ],
      "metadata": {
        "colab": {
          "base_uri": "https://localhost:8080/"
        },
        "id": "7N7_sxiVWSkq",
        "outputId": "f0d23c73-1176-4a60-e8ae-6db13ab573bb"
      },
      "execution_count": 75,
      "outputs": [
        {
          "output_type": "stream",
          "name": "stdout",
          "text": [
            "Distinct count: 505\n",
            "+----+----------+--------+--------+-------+----------+--------+----------+\n",
            "|nome|data      |abertura|maxima  |minima |fechamento|volume  |fech_abert|\n",
            "+----+----------+--------+--------+-------+----------+--------+----------+\n",
            "|ALXN|2013-02-08|93.11   |93.99   |92.9   |93.66     |1059844 |true      |\n",
            "|GIS |2013-02-08|42.45   |42.66   |42.4101|42.6      |2092397 |true      |\n",
            "|K   |2013-02-08|58.93   |59.35   |58.76  |58.91     |1669244 |false     |\n",
            "|LEN |2013-02-08|39.4608 |39.5588 |38.6863|39.1765   |3701511 |false     |\n",
            "|AIV |2013-02-08|27.4    |28.665  |27.2675|28.57     |1801890 |true      |\n",
            "|AVY |2013-02-08|39.11   |39.43   |39.065 |39.25     |1003986 |true      |\n",
            "|BF.B|2013-02-08|32.595  |32.695  |32.405 |32.54     |542314  |false     |\n",
            "|AXP |2013-02-08|62.06   |62.33   |61.48  |61.8      |6734994 |false     |\n",
            "|CI  |2013-02-08|61.7    |62.2199 |61.01  |61.93     |1638472 |true      |\n",
            "|IRM |2013-02-08|34.63   |34.7    |33.88  |34.25     |1294887 |false     |\n",
            "|INFO|2014-06-19|26.15   |27.4    |26.06  |26.7      |32013921|true      |\n",
            "|BLK |2013-02-08|236.64  |238.6924|235.75 |238.16    |552207  |true      |\n",
            "|EA  |2013-02-08|17.05   |17.505  |16.86  |17.37     |4846238 |true      |\n",
            "|ESRX|2013-02-08|55.27   |55.92   |55.12  |55.74     |3413611 |true      |\n",
            "|DUK |2013-02-08|68.88   |69.04   |68.73  |69.0      |8084517 |true      |\n",
            "|HAS |2013-02-08|38.86   |39.84   |38.755 |39.84     |2648975 |true      |\n",
            "|FLIR|2013-02-08|26.01   |26.7599 |25.8322|26.5      |2484974 |true      |\n",
            "|EMN |2013-02-08|72.51   |73.32   |72.45  |73.31     |911063  |true      |\n",
            "|EVHC|2016-12-02|66.25   |72.0    |64.38  |69.91     |2727446 |true      |\n",
            "|KIM |2013-02-08|21.23   |21.5902 |21.16  |21.55     |2854829 |true      |\n",
            "+----+----------+--------+--------+-------+----------+--------+----------+\n",
            "only showing top 20 rows\n",
            "\n"
          ]
        }
      ]
    },
    {
      "cell_type": "code",
      "source": [
        "startsA.filter(startsA.nome.startswith(\"A\")).count()\n",
        "\n"
      ],
      "metadata": {
        "colab": {
          "base_uri": "https://localhost:8080/"
        },
        "id": "_9nzLP9ZxQFN",
        "outputId": "59ecaa6d-4603-40a9-8fcb-46646b022686"
      },
      "execution_count": 76,
      "outputs": [
        {
          "output_type": "execute_result",
          "data": {
            "text/plain": [
              "59"
            ]
          },
          "metadata": {},
          "execution_count": 76
        }
      ]
    },
    {
      "cell_type": "markdown",
      "source": [
        "Com qual frequência o preço mais alto do dia da ação também é o preço de fechamento? <br>\n",
        "Para resolvermmos essa questão, criaremos uma nova coluna **alto_fech**, dentro dela conterá os dados verdadeiros caso o o preço mais alto do dia da ação seja o mesmo preço de fechamento e será falso caso o valor mais alto do dia seja diferente do valor de fechamento. <br>\n",
        "Feito isso, selecionaremos os valores da coluna **alto_fech** onde exista valores **True**, contaremos quantos são e dividiremos pelo total de valores. <br>\n",
        "Multiplicaremos por 100 para termos o valor em porcentagem e usaremos o comando **.round()** para arredondar o resultado\n"
      ],
      "metadata": {
        "id": "E-EoRxnxT3tk"
      }
    },
    {
      "cell_type": "code",
      "source": [
        "df = df.withColumn(\"alto_fech\", col('maxima') ==col('fechamento'))\n",
        "df.show()"
      ],
      "metadata": {
        "colab": {
          "base_uri": "https://localhost:8080/"
        },
        "id": "tVg408MKa45f",
        "outputId": "05145240-88ce-4d8c-a89b-cb12901c0941"
      },
      "execution_count": 77,
      "outputs": [
        {
          "output_type": "stream",
          "name": "stdout",
          "text": [
            "+----+----------+--------+------+------+----------+--------+----------+---------+\n",
            "|nome|      data|abertura|maxima|minima|fechamento|  volume|fech_abert|alto_fech|\n",
            "+----+----------+--------+------+------+----------+--------+----------+---------+\n",
            "| AAL|2013-02-08|   15.07| 15.12| 14.63|     14.75| 8407500|     false|    false|\n",
            "| AAL|2013-02-11|   14.89| 15.01| 14.26|     14.46| 8882000|     false|    false|\n",
            "| AAL|2013-02-12|   14.45| 14.51|  14.1|     14.27| 8126000|     false|    false|\n",
            "| AAL|2013-02-13|    14.3| 14.94| 14.25|     14.66|10259500|      true|    false|\n",
            "| AAL|2013-02-14|   14.94| 14.96| 13.16|     13.99|31879900|     false|    false|\n",
            "| AAL|2013-02-15|   13.93| 14.61| 13.93|      14.5|15628000|      true|    false|\n",
            "| AAL|2013-02-19|   14.33| 14.56| 14.08|     14.26|11354400|     false|    false|\n",
            "| AAL|2013-02-20|   14.17| 14.26| 13.15|     13.33|14725200|     false|    false|\n",
            "| AAL|2013-02-21|   13.62| 13.95|  12.9|     13.37|11922100|     false|    false|\n",
            "| AAL|2013-02-22|   13.57|  13.6| 13.21|     13.57| 6071400|     false|    false|\n",
            "| AAL|2013-02-25|    13.6| 13.76|  13.0|     13.02| 7186400|     false|    false|\n",
            "| AAL|2013-02-26|   13.14| 13.42|  12.7|     13.26| 9419000|      true|    false|\n",
            "| AAL|2013-02-27|   13.28| 13.62| 13.18|     13.41| 7390500|      true|    false|\n",
            "| AAL|2013-02-28|   13.49| 13.63| 13.39|     13.43| 6143600|     false|    false|\n",
            "| AAL|2013-03-01|   13.37| 13.95| 13.32|     13.61| 7376800|      true|    false|\n",
            "| AAL|2013-03-04|    13.5| 14.07| 13.47|      13.9| 8174800|      true|    false|\n",
            "| AAL|2013-03-05|   14.01| 14.05| 13.71|     14.05| 7676100|      true|     true|\n",
            "| AAL|2013-03-06|   14.52| 14.68| 14.25|     14.57|13243200|      true|    false|\n",
            "| AAL|2013-03-07|    14.7| 14.93|  14.5|     14.82| 9125300|      true|    false|\n",
            "| AAL|2013-03-08|   14.99|  15.2| 14.84|     14.92|10593700|     false|    false|\n",
            "+----+----------+--------+------+------+----------+--------+----------+---------+\n",
            "only showing top 20 rows\n",
            "\n"
          ]
        }
      ]
    },
    {
      "cell_type": "code",
      "source": [
        "df.select('alto_fech').where(df.alto_fech==\"True\").count()\n",
        "porcentagem1 =  (7420/619040)*100\n",
        "round(porcentagem1, 2)"
      ],
      "metadata": {
        "colab": {
          "base_uri": "https://localhost:8080/"
        },
        "id": "-_LN-46yqi-F",
        "outputId": "1e076818-4003-4a8c-b922-a4809b04801f"
      },
      "execution_count": 78,
      "outputs": [
        {
          "output_type": "execute_result",
          "data": {
            "text/plain": [
              "1.2"
            ]
          },
          "metadata": {},
          "execution_count": 78
        }
      ]
    },
    {
      "cell_type": "markdown",
      "source": [
        "Em qual dia a ação da Apple mais subiu até o fechamento, de forma absoluta?<br>\n",
        "Para descobrirmos qual é o resultado desta pergunta, deveremos criar uma nova coluna **(maioralta)** que agrupará o resultado da coluna **maxima** subtraído da coluna **minima**. <br>\n",
        "Após este passo, selecionameremos apenas as ações correspondenter a **AAPL**. <br>\n",
        "Agora então iremos agrupar os dados por **data** e **nome**, utilizaremos o comando **max** para a coluna **maioralta** e orderaremos de forma decrescente."
      ],
      "metadata": {
        "id": "z3w35YraT4_3"
      }
    },
    {
      "cell_type": "code",
      "source": [
        "df = df.withColumn(\"maioralta\", col('maxima') -col('minima'))\n",
        "df.show()"
      ],
      "metadata": {
        "colab": {
          "base_uri": "https://localhost:8080/"
        },
        "id": "VC4qkZAnzqmt",
        "outputId": "a3f2fd58-222c-42b2-930c-45f9e18af57f"
      },
      "execution_count": 79,
      "outputs": [
        {
          "output_type": "stream",
          "name": "stdout",
          "text": [
            "+----+----------+--------+------+------+----------+--------+----------+---------+----------+\n",
            "|nome|      data|abertura|maxima|minima|fechamento|  volume|fech_abert|alto_fech| maioralta|\n",
            "+----+----------+--------+------+------+----------+--------+----------+---------+----------+\n",
            "| AAL|2013-02-08|   15.07| 15.12| 14.63|     14.75| 8407500|     false|    false|0.48999977|\n",
            "| AAL|2013-02-11|   14.89| 15.01| 14.26|     14.46| 8882000|     false|    false|      0.75|\n",
            "| AAL|2013-02-12|   14.45| 14.51|  14.1|     14.27| 8126000|     false|    false|0.40999985|\n",
            "| AAL|2013-02-13|    14.3| 14.94| 14.25|     14.66|10259500|      true|    false| 0.6899996|\n",
            "| AAL|2013-02-14|   14.94| 14.96| 13.16|     13.99|31879900|     false|    false| 1.8000002|\n",
            "| AAL|2013-02-15|   13.93| 14.61| 13.93|      14.5|15628000|      true|    false|0.67999935|\n",
            "| AAL|2013-02-19|   14.33| 14.56| 14.08|     14.26|11354400|     false|    false| 0.4800005|\n",
            "| AAL|2013-02-20|   14.17| 14.26| 13.15|     13.33|14725200|     false|    false| 1.1100006|\n",
            "| AAL|2013-02-21|   13.62| 13.95|  12.9|     13.37|11922100|     false|    false| 1.0500002|\n",
            "| AAL|2013-02-22|   13.57|  13.6| 13.21|     13.57| 6071400|     false|    false|0.39000034|\n",
            "| AAL|2013-02-25|    13.6| 13.76|  13.0|     13.02| 7186400|     false|    false| 0.7600002|\n",
            "| AAL|2013-02-26|   13.14| 13.42|  12.7|     13.26| 9419000|      true|    false|0.72000027|\n",
            "| AAL|2013-02-27|   13.28| 13.62| 13.18|     13.41| 7390500|      true|    false|0.43999958|\n",
            "| AAL|2013-02-28|   13.49| 13.63| 13.39|     13.43| 6143600|     false|    false|0.23999977|\n",
            "| AAL|2013-03-01|   13.37| 13.95| 13.32|     13.61| 7376800|      true|    false| 0.6300001|\n",
            "| AAL|2013-03-04|    13.5| 14.07| 13.47|      13.9| 8174800|      true|    false| 0.5999994|\n",
            "| AAL|2013-03-05|   14.01| 14.05| 13.71|     14.05| 7676100|      true|     true|0.34000015|\n",
            "| AAL|2013-03-06|   14.52| 14.68| 14.25|     14.57|13243200|      true|    false| 0.4300003|\n",
            "| AAL|2013-03-07|    14.7| 14.93|  14.5|     14.82| 9125300|      true|    false| 0.4300003|\n",
            "| AAL|2013-03-08|   14.99|  15.2| 14.84|     14.92|10593700|     false|    false|0.35999966|\n",
            "+----+----------+--------+------+------+----------+--------+----------+---------+----------+\n",
            "only showing top 20 rows\n",
            "\n"
          ]
        }
      ]
    },
    {
      "cell_type": "code",
      "source": [
        "apple1 = df[df['nome']=='AAPL']"
      ],
      "metadata": {
        "id": "NOD2YWqfqrz5"
      },
      "execution_count": 80,
      "outputs": []
    },
    {
      "cell_type": "code",
      "source": [
        "apple1.groupby(\"data\", \"nome\") \\\n",
        ".agg(max(\"maioralta\").alias(\"maioralta\")) \\\n",
        ".sort(desc(\"maioralta\")) \\\n",
        ".show()  "
      ],
      "metadata": {
        "colab": {
          "base_uri": "https://localhost:8080/"
        },
        "id": "cOp6GkvOv8da",
        "outputId": "8f7ca57c-0887-454f-f751-de2d4182bf23"
      },
      "execution_count": 81,
      "outputs": [
        {
          "output_type": "stream",
          "name": "stdout",
          "text": [
            "+----------+----+---------+\n",
            "|      data|nome|maioralta|\n",
            "+----------+----+---------+\n",
            "|2015-08-24|AAPL|16.800003|\n",
            "|2018-02-06|AAPL| 9.720001|\n",
            "|2017-06-09|AAPL| 9.169998|\n",
            "|2014-12-01|AAPL|7.9800034|\n",
            "|2018-02-05|AAPL| 7.880005|\n",
            "|2015-08-25|AAPL|7.6100006|\n",
            "|2014-09-09|AAPL|6.9400024|\n",
            "|2018-02-02|AAPL| 6.699997|\n",
            "|2017-07-27|AAPL|6.6900024|\n",
            "|2015-08-21|AAPL| 6.255005|\n",
            "|2015-08-12|AAPL| 5.790001|\n",
            "|2017-11-29|AAPL|5.7599945|\n",
            "|2015-09-29|AAPL|5.6500015|\n",
            "|2017-08-10|AAPL| 5.369995|\n",
            "|2015-08-05|AAPL| 5.340004|\n",
            "|2016-11-10|AAPL|5.2599945|\n",
            "|2014-12-15|AAPL|     5.25|\n",
            "|2017-09-12|AAPL|5.1900024|\n",
            "|2015-08-03|AAPL| 5.050003|\n",
            "|2015-04-28|AAPL| 4.969986|\n",
            "+----------+----+---------+\n",
            "only showing top 20 rows\n",
            "\n"
          ]
        }
      ]
    },
    {
      "cell_type": "markdown",
      "source": [
        "Em média, qual o volume diário de transações das ações da AAPL? <br>\n",
        "Podemos utilizar o comando **.describe()** ou podemos utilizar o **.groupBy**, **mean** e organizar por ordem descrescente.\n"
      ],
      "metadata": {
        "id": "Mt7lXDYpT7AM"
      }
    },
    {
      "cell_type": "code",
      "source": [
        "apple1.describe().show()"
      ],
      "metadata": {
        "colab": {
          "base_uri": "https://localhost:8080/"
        },
        "id": "ePfwIZCZ1kDh",
        "outputId": "120c1389-8e8a-4757-ee8c-bf9d0c20a1ae"
      },
      "execution_count": 82,
      "outputs": [
        {
          "output_type": "stream",
          "name": "stdout",
          "text": [
            "+-------+----+------------------+------------------+------------------+------------------+-------------------+------------------+\n",
            "|summary|nome|          abertura|            maxima|            minima|        fechamento|             volume|         maioralta|\n",
            "+-------+----+------------------+------------------+------------------+------------------+-------------------+------------------+\n",
            "|  count|1259|              1259|              1259|              1259|              1259|               1259|              1259|\n",
            "|   mean|null|109.05542896625255|109.95111835107053|108.14158904277872|109.06669843944886|5.404789973550437E7|1.8095293082918222|\n",
            "| stddev|null|30.549219948432892|30.686186467215954| 30.37622368001498| 30.55681154487995|  3.3468353335784E7| 1.117369805426913|\n",
            "|    min|AAPL|           55.4242|           57.0857|           55.0142|           55.7899|           11475922|        0.45999908|\n",
            "|    max|AAPL|            179.37|             180.1|            178.25|            179.26|          266833581|         16.800003|\n",
            "+-------+----+------------------+------------------+------------------+------------------+-------------------+------------------+\n",
            "\n"
          ]
        }
      ]
    },
    {
      "cell_type": "code",
      "source": [
        "apple1.groupby(\"nome\") \\\n",
        ".agg(mean(\"volume\").alias(\"volume\")) \\\n",
        ".sort(desc(\"volume\")) \\\n",
        ".show() "
      ],
      "metadata": {
        "colab": {
          "base_uri": "https://localhost:8080/"
        },
        "id": "tgMBVZdI1HiQ",
        "outputId": "e90d49ba-2368-4d78-97af-23ef95aea6d6"
      },
      "execution_count": 83,
      "outputs": [
        {
          "output_type": "stream",
          "name": "stdout",
          "text": [
            "+----+-------------------+\n",
            "|nome|             volume|\n",
            "+----+-------------------+\n",
            "|AAPL|5.404789973550437E7|\n",
            "+----+-------------------+\n",
            "\n"
          ]
        }
      ]
    },
    {
      "cell_type": "markdown",
      "source": [
        "Quantas ações tem 1, 2, 3, 4 e 5 caracteres em seu nome, respectivamente?\n"
      ],
      "metadata": {
        "id": "gtNVzmALT8BX"
      }
    },
    {
      "cell_type": "code",
      "source": [
        "from pyspark.sql.functions import length"
      ],
      "metadata": {
        "id": "z3c5Vzv45OsW"
      },
      "execution_count": 84,
      "outputs": []
    },
    {
      "cell_type": "code",
      "source": [
        "acoes = df.dropDuplicates(['nome'])\n"
      ],
      "metadata": {
        "id": "npsxi4OxNWDe"
      },
      "execution_count": 85,
      "outputs": []
    },
    {
      "cell_type": "code",
      "source": [
        "acoes1 = acoes.where(length(col(\"nome\")) == 1).count()\n",
        "acoes1\n"
      ],
      "metadata": {
        "colab": {
          "base_uri": "https://localhost:8080/"
        },
        "id": "h7bv6hyWMXsx",
        "outputId": "9920cca0-40ca-48ef-aae6-49857a160d17"
      },
      "execution_count": 86,
      "outputs": [
        {
          "output_type": "execute_result",
          "data": {
            "text/plain": [
              "10"
            ]
          },
          "metadata": {},
          "execution_count": 86
        }
      ]
    },
    {
      "cell_type": "code",
      "source": [
        "acoes2 = acoes.where(length(col(\"nome\")) == 2).count()\n",
        "acoes2\n"
      ],
      "metadata": {
        "colab": {
          "base_uri": "https://localhost:8080/"
        },
        "id": "Lvu8AhBDMblU",
        "outputId": "7bbdd029-1c51-4da0-ba9a-193d56cceb67"
      },
      "execution_count": 87,
      "outputs": [
        {
          "output_type": "execute_result",
          "data": {
            "text/plain": [
              "50"
            ]
          },
          "metadata": {},
          "execution_count": 87
        }
      ]
    },
    {
      "cell_type": "code",
      "source": [
        "acoes3 = acoes.where(length(col(\"nome\")) == 3).count()\n",
        "acoes3\n"
      ],
      "metadata": {
        "colab": {
          "base_uri": "https://localhost:8080/"
        },
        "id": "sQcnF8RFMdo9",
        "outputId": "ce7298b7-70c9-4037-f4e5-639cf829207a"
      },
      "execution_count": 90,
      "outputs": [
        {
          "output_type": "execute_result",
          "data": {
            "text/plain": [
              "323"
            ]
          },
          "metadata": {},
          "execution_count": 90
        }
      ]
    },
    {
      "cell_type": "code",
      "source": [
        "acoes4 = acoes.where(length(col(\"nome\")) == 4).count()\n",
        "acoes4"
      ],
      "metadata": {
        "colab": {
          "base_uri": "https://localhost:8080/"
        },
        "id": "J6-9uBwQMesF",
        "outputId": "8a08c0f8-6be9-47b9-ca25-d6d82269b04c"
      },
      "execution_count": 91,
      "outputs": [
        {
          "output_type": "execute_result",
          "data": {
            "text/plain": [
              "117"
            ]
          },
          "metadata": {},
          "execution_count": 91
        }
      ]
    },
    {
      "cell_type": "code",
      "source": [
        "acoes5 = acoes.where(length(col(\"nome\")) == 5).count()\n",
        "acoes5"
      ],
      "metadata": {
        "colab": {
          "base_uri": "https://localhost:8080/"
        },
        "id": "y6Ua3i72Mf5n",
        "outputId": "29c3e497-1bc6-43b9-c2af-a9c4e20810a0"
      },
      "execution_count": 92,
      "outputs": [
        {
          "output_type": "execute_result",
          "data": {
            "text/plain": [
              "5"
            ]
          },
          "metadata": {},
          "execution_count": 92
        }
      ]
    },
    {
      "cell_type": "markdown",
      "source": [
        "Qual a ação menos negociada da bolsa, em volume de transações?\n"
      ],
      "metadata": {
        "id": "tHxO0tnkT8Q4"
      }
    },
    {
      "cell_type": "code",
      "source": [
        "df.groupBy(\"nome\") \\\n",
        "  .agg(sum(\"volume\").alias(\"volume\")) \\\n",
        "  .sort((\"volume\")) \\\n",
        "  .show()"
      ],
      "metadata": {
        "colab": {
          "base_uri": "https://localhost:8080/"
        },
        "id": "kif85lYGO3vR",
        "outputId": "483fd577-c285-481d-e37a-61674a01b11b"
      },
      "execution_count": 93,
      "outputs": [
        {
          "output_type": "stream",
          "name": "stdout",
          "text": [
            "+----+---------+\n",
            "|nome|   volume|\n",
            "+----+---------+\n",
            "|APTV| 92947779|\n",
            "| BHF|144878392|\n",
            "| MTD|214489754|\n",
            "| AZO|397585127|\n",
            "|WLTW|414734590|\n",
            "| HII|418791148|\n",
            "| DXC|424529395|\n",
            "|  RE|434037215|\n",
            "| ESS|477004832|\n",
            "| SNA|530283843|\n",
            "| FRT|531047903|\n",
            "|ANSS|552950012|\n",
            "| IFF|558773791|\n",
            "| AMG|568888091|\n",
            "| COO|569985137|\n",
            "|  IT|578515652|\n",
            "| ROP|579470940|\n",
            "| AYI|608654295|\n",
            "| FTV|610590073|\n",
            "|BHGE|628313042|\n",
            "+----+---------+\n",
            "only showing top 20 rows\n",
            "\n"
          ]
        }
      ]
    },
    {
      "cell_type": "markdown",
      "source": [
        "Com qual frequência o preço de fechamento é também o mais alto do dia?\n"
      ],
      "metadata": {
        "id": "E3QjS-CuT_Mr"
      }
    },
    {
      "cell_type": "code",
      "source": [
        "df = df.withColumn(\"fech_alto\", col('fechamento') ==col('maxima'))\n",
        "df.show()"
      ],
      "metadata": {
        "colab": {
          "base_uri": "https://localhost:8080/"
        },
        "id": "CTYeGLnnPUzM",
        "outputId": "6e3f2037-4e89-4488-8408-4b38e97a9400"
      },
      "execution_count": 95,
      "outputs": [
        {
          "output_type": "stream",
          "name": "stdout",
          "text": [
            "+----+----------+--------+------+------+----------+--------+----------+---------+----------+---------+\n",
            "|nome|      data|abertura|maxima|minima|fechamento|  volume|fech_abert|alto_fech| maioralta|fech_alto|\n",
            "+----+----------+--------+------+------+----------+--------+----------+---------+----------+---------+\n",
            "| AAL|2013-02-08|   15.07| 15.12| 14.63|     14.75| 8407500|     false|    false|0.48999977|    false|\n",
            "| AAL|2013-02-11|   14.89| 15.01| 14.26|     14.46| 8882000|     false|    false|      0.75|    false|\n",
            "| AAL|2013-02-12|   14.45| 14.51|  14.1|     14.27| 8126000|     false|    false|0.40999985|    false|\n",
            "| AAL|2013-02-13|    14.3| 14.94| 14.25|     14.66|10259500|      true|    false| 0.6899996|    false|\n",
            "| AAL|2013-02-14|   14.94| 14.96| 13.16|     13.99|31879900|     false|    false| 1.8000002|    false|\n",
            "| AAL|2013-02-15|   13.93| 14.61| 13.93|      14.5|15628000|      true|    false|0.67999935|    false|\n",
            "| AAL|2013-02-19|   14.33| 14.56| 14.08|     14.26|11354400|     false|    false| 0.4800005|    false|\n",
            "| AAL|2013-02-20|   14.17| 14.26| 13.15|     13.33|14725200|     false|    false| 1.1100006|    false|\n",
            "| AAL|2013-02-21|   13.62| 13.95|  12.9|     13.37|11922100|     false|    false| 1.0500002|    false|\n",
            "| AAL|2013-02-22|   13.57|  13.6| 13.21|     13.57| 6071400|     false|    false|0.39000034|    false|\n",
            "| AAL|2013-02-25|    13.6| 13.76|  13.0|     13.02| 7186400|     false|    false| 0.7600002|    false|\n",
            "| AAL|2013-02-26|   13.14| 13.42|  12.7|     13.26| 9419000|      true|    false|0.72000027|    false|\n",
            "| AAL|2013-02-27|   13.28| 13.62| 13.18|     13.41| 7390500|      true|    false|0.43999958|    false|\n",
            "| AAL|2013-02-28|   13.49| 13.63| 13.39|     13.43| 6143600|     false|    false|0.23999977|    false|\n",
            "| AAL|2013-03-01|   13.37| 13.95| 13.32|     13.61| 7376800|      true|    false| 0.6300001|    false|\n",
            "| AAL|2013-03-04|    13.5| 14.07| 13.47|      13.9| 8174800|      true|    false| 0.5999994|    false|\n",
            "| AAL|2013-03-05|   14.01| 14.05| 13.71|     14.05| 7676100|      true|     true|0.34000015|     true|\n",
            "| AAL|2013-03-06|   14.52| 14.68| 14.25|     14.57|13243200|      true|    false| 0.4300003|    false|\n",
            "| AAL|2013-03-07|    14.7| 14.93|  14.5|     14.82| 9125300|      true|    false| 0.4300003|    false|\n",
            "| AAL|2013-03-08|   14.99|  15.2| 14.84|     14.92|10593700|     false|    false|0.35999966|    false|\n",
            "+----+----------+--------+------+------+----------+--------+----------+---------+----------+---------+\n",
            "only showing top 20 rows\n",
            "\n"
          ]
        }
      ]
    },
    {
      "cell_type": "code",
      "source": [
        "df.select('fech_alto').where(df.fech_alto==\"True\").count()"
      ],
      "metadata": {
        "colab": {
          "base_uri": "https://localhost:8080/"
        },
        "id": "rs3Bkf0wPVKJ",
        "outputId": "bb31b72e-18d0-4b28-fabd-fb9e83bfdfad"
      },
      "execution_count": 96,
      "outputs": [
        {
          "output_type": "execute_result",
          "data": {
            "text/plain": [
              "7420"
            ]
          },
          "metadata": {},
          "execution_count": 96
        }
      ]
    },
    {
      "cell_type": "code",
      "source": [
        "porcentagem2 =  (7420/619040)*100\n",
        "round(porcentagem2, 2)"
      ],
      "metadata": {
        "colab": {
          "base_uri": "https://localhost:8080/"
        },
        "id": "qU8CZAbSPzht",
        "outputId": "a19dc051-1e7a-4a84-d884-a8d737c49165"
      },
      "execution_count": 97,
      "outputs": [
        {
          "output_type": "execute_result",
          "data": {
            "text/plain": [
              "1.2"
            ]
          },
          "metadata": {},
          "execution_count": 97
        }
      ]
    }
  ]
}